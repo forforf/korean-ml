{
 "cells": [
  {
   "cell_type": "code",
   "execution_count": 7,
   "metadata": {
    "collapsed": true
   },
   "outputs": [
    {
     "name": "stdout",
     "output_type": "stream",
     "text": [
      "<TextGrid None, 2 Tiers>\n",
      "[IntervalTier(char, [Interval(0.0, 0.0927, 0), Interval(0.0927, 0.12765, ᄀ), Interval(0.12765, 0.17218, ᅳ), Interval(0.17218, 0.2192, ᄂ), Interval(0.2192, 0.2473, ᅧ), Interval(0.2473, 0.41173, 의), Interval(0.41173, 0.50644, ᄉ), Interval(0.50644, 0.57461, ᅡ), Interval(0.57461, 0.59243, ᄅ), Interval(0.59243, 0.64042, ᅡ), Interval(0.64042, 0.70654, ᆼ), Interval(0.70654, 0.81835, 으), Interval(0.81835, 0.83326, ᆯ), Interval(0.83326, 0.95153, 어), Interval(0.95153, 1.09444, ᆮ), Interval(1.09444, 1.11834, ᄀ), Interval(1.11834, 1.20856, ᅵ), Interval(1.20856, 1.37623, 위), Interval(1.37623, 1.59665, 해), Interval(1.59665, 1.64288, 0), Interval(1.64288, 1.76991, 애), Interval(1.76991, 1.89271, ᄊ), Interval(1.89271, 1.99178, ᅥ), Interval(1.99178, 2.06911, ᆻ), Interval(2.06911, 2.15357, ᄌ), Interval(2.15357, 2.19706, ᅵ), Interval(2.19706, 2.26984, ᄆ), Interval(2.26984, 2.40939, ᅡ), Interval(2.40939, 2.50919, ᆫ), Interval(2.50919, 2.78858, 0), Interval(2.78858, 2.85241, ᄒ), Interval(2.85241, 2.89864, ᅥ), Interval(2.89864, 2.99798, ᆺ), Interval(2.99798, 3.0465, ᆺ), Interval(3.0465, 3.09567, ᅮ), Interval(3.09567, 3.16021, ᄀ), Interval(3.16021, 3.20729, ᅩ), Interval(3.20729, 3.33246, 여), Interval(3.33246, 3.50541, ᆻ), Interval(3.50541, 3.52027, ᄃ), Interval(3.52027, 3.71327, ᅡ), Interval(3.71327, 3.97218, 0)]), IntervalTier(syl, [Interval(0.0, 0.0927, 0), Interval(0.0927, 0.17218, 그), Interval(0.17218, 0.2473, 녀), Interval(0.2473, 0.41173, 의), Interval(0.41173, 0.57461, 사), Interval(0.57461, 0.70654, 랑), Interval(0.70654, 0.83326, 을), Interval(0.83326, 1.09444, 얻), Interval(1.09444, 1.20856, 기), Interval(1.20856, 1.37623, 위), Interval(1.37623, 1.59665, 해), Interval(1.59665, 1.64288, 0), Interval(1.64288, 1.76991, 애), Interval(1.76991, 2.06911, 썼), Interval(2.06911, 2.19706, 지), Interval(2.19706, 2.50919, 만), Interval(2.50919, 2.78858, 0), Interval(2.78858, 2.99798, 헛), Interval(2.99798, 3.09567, ᆺᅮ), Interval(3.09567, 3.20729, 고), Interval(3.20729, 3.50541, 였), Interval(3.50541, 3.71327, 다), Interval(3.71327, 3.97218, 0)])]\n",
      "[Interval(0.0, 0.0927, 0), Interval(0.0927, 0.12765, ᄀ), Interval(0.12765, 0.17218, ᅳ), Interval(0.17218, 0.2192, ᄂ), Interval(0.2192, 0.2473, ᅧ), Interval(0.2473, 0.41173, 의), Interval(0.41173, 0.50644, ᄉ), Interval(0.50644, 0.57461, ᅡ), Interval(0.57461, 0.59243, ᄅ), Interval(0.59243, 0.64042, ᅡ), Interval(0.64042, 0.70654, ᆼ), Interval(0.70654, 0.81835, 으), Interval(0.81835, 0.83326, ᆯ), Interval(0.83326, 0.95153, 어), Interval(0.95153, 1.09444, ᆮ), Interval(1.09444, 1.11834, ᄀ), Interval(1.11834, 1.20856, ᅵ), Interval(1.20856, 1.37623, 위), Interval(1.37623, 1.59665, 해), Interval(1.59665, 1.64288, 0), Interval(1.64288, 1.76991, 애), Interval(1.76991, 1.89271, ᄊ), Interval(1.89271, 1.99178, ᅥ), Interval(1.99178, 2.06911, ᆻ), Interval(2.06911, 2.15357, ᄌ), Interval(2.15357, 2.19706, ᅵ), Interval(2.19706, 2.26984, ᄆ), Interval(2.26984, 2.40939, ᅡ), Interval(2.40939, 2.50919, ᆫ), Interval(2.50919, 2.78858, 0), Interval(2.78858, 2.85241, ᄒ), Interval(2.85241, 2.89864, ᅥ), Interval(2.89864, 2.99798, ᆺ), Interval(2.99798, 3.0465, ᆺ), Interval(3.0465, 3.09567, ᅮ), Interval(3.09567, 3.16021, ᄀ), Interval(3.16021, 3.20729, ᅩ), Interval(3.20729, 3.33246, 여), Interval(3.33246, 3.50541, ᆻ), Interval(3.50541, 3.52027, ᄃ), Interval(3.52027, 3.71327, ᅡ), Interval(3.71327, 3.97218, 0)]\n",
      "[Interval(0.0, 0.0927, 0), Interval(0.0927, 0.17218, 그), Interval(0.17218, 0.2473, 녀), Interval(0.2473, 0.41173, 의), Interval(0.41173, 0.57461, 사), Interval(0.57461, 0.70654, 랑), Interval(0.70654, 0.83326, 을), Interval(0.83326, 1.09444, 얻), Interval(1.09444, 1.20856, 기), Interval(1.20856, 1.37623, 위), Interval(1.37623, 1.59665, 해), Interval(1.59665, 1.64288, 0), Interval(1.64288, 1.76991, 애), Interval(1.76991, 2.06911, 썼), Interval(2.06911, 2.19706, 지), Interval(2.19706, 2.50919, 만), Interval(2.50919, 2.78858, 0), Interval(2.78858, 2.99798, 헛), Interval(2.99798, 3.09567, ᆺᅮ), Interval(3.09567, 3.20729, 고), Interval(3.20729, 3.50541, 였), Interval(3.50541, 3.71327, 다), Interval(3.71327, 3.97218, 0)]\n"
     ]
    },
    {
     "data": {
      "text/plain": "[None, None]"
     },
     "execution_count": 7,
     "metadata": {},
     "output_type": "execute_result"
    }
   ],
   "source": [
    "import textgrid\n",
    "\n",
    "tg = textgrid.TextGrid.fromFile('./data/korean-single-speaker/kss/1/1_0001.TextGrid')\n",
    "\n",
    "print(tg)\n",
    "print(tg.tiers)\n",
    "[print(tgt.intervals) for tgt in tg.tiers ]\n"
   ]
  }
 ],
 "metadata": {
  "kernelspec": {
   "display_name": "Python 3",
   "language": "python",
   "name": "python3"
  },
  "language_info": {
   "codemirror_mode": {
    "name": "ipython",
    "version": 2
   },
   "file_extension": ".py",
   "mimetype": "text/x-python",
   "name": "python",
   "nbconvert_exporter": "python",
   "pygments_lexer": "ipython2",
   "version": "2.7.6"
  }
 },
 "nbformat": 4,
 "nbformat_minor": 0
}
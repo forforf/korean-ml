{
 "cells": [
  {
   "cell_type": "code",
   "execution_count": 3,
   "outputs": [],
   "source": [
    "\n",
    "import numpy as np # linear algebra\n",
    "import pandas as pd # data processing, CSV file I/O (e.g. pd.read_csv)\n",
    "import matplotlib.pyplot as plt\n",
    "import matplotlib.font_manager as mfm\n",
    "from config import Project\n",
    "from src.display import Disp\n",
    "from src.kss_df import make_kss_df_cls\n",
    "\n",
    "font_path = '/Users/dev/Fonts/Noto_Sans_KR/NotoSansKR-Regular.otf'\n",
    "k_prop = mfm.FontProperties(fname=font_path)\n",
    "plt.style.use('dark_background')\n",
    "\n",
    "# Display handler with some nice helpers\n",
    "disp = Disp(display)\n",
    "# disp.code('display.py', label='display.py ')\n"
   ],
   "metadata": {
    "collapsed": false,
    "pycharm": {
     "name": "#%%\n"
    }
   }
  },
  {
   "metadata": {},
   "cell_type": "markdown",
   "source": [
    "## Generate Features from PRAAT TextGrid"
   ]
  },
  {
   "cell_type": "code",
   "execution_count": 5,
   "outputs": [],
   "source": [
    "tr_df = pd.read_csv(Project.path.TRANSCRIPT, sep=\"|\", names=[\"audio_file\", \"tr_w_num\", \"tr_syl\", \"tr_char\", \"dur\", \"en\"])"
   ],
   "metadata": {
    "collapsed": false,
    "pycharm": {
     "name": "#%%\n"
    }
   }
  },
  {
   "cell_type": "markdown",
   "source": [
    "\n",
    "Inspecting the transcript there are 3 different transcriptions.\n",
    "\n",
    "| <!-- -->    | <!-- -->    |\n",
    "|-------------|-------------|\n",
    "|tr_w_num|Keeps numerics in number form|\n",
    "|tr_syl|String encoding is syllable by syllable|\n",
    "|tr_char|String encoding is character by character|\n",
    "\n"
   ],
   "metadata": {
    "collapsed": false
   }
  },
  {
   "cell_type": "code",
   "execution_count": 6,
   "outputs": [
    {
     "data": {
      "text/plain": "         audio_file                      tr_syl  \\\n0      1/1_0000.wav      그는 괜찮은 척하려고 애쓰는 것 같았다.   \n1      1/1_0001.wav   그녀의 사랑을 얻기 위해 애썼지만 헛수고였다.   \n2      1/1_0002.wav                  용돈을 아껴 써라.   \n3      1/1_0003.wav              그는 아내를 많이 아낀다.   \n4      1/1_0004.wav                그 애 전화번호 알아?   \n...             ...                         ...   \n12849  4/4_5627.wav         깨진 유리 조각에 손가락을 벴어요.   \n12850  4/4_5628.wav  아드님이 친구들과 야구를 하다 유리창을 깼어요.   \n12851  4/4_5629.wav         일찍 신청하는 사람이 유리할 거야.   \n12852  4/4_5630.wav          이 두 소설은 줄거리가 유사해요.   \n12853  4/4_5631.wav            올해 유월은 유난히 쌀쌀해요.   \n\n                                                 tr_char  dur  \\\n0        그는 괜찮은 척하려고 애쓰는 것 같았다.  3.5   \n1      그녀의 사랑을 얻기 위해 애썼지만 헛수고ᄋ...  4.0   \n2                                   용돈을 아껴 써라.  1.8   \n3                           그는 아내를 많이 아낀다.  2.3   \n4                                그 애 전화번호 알아?  1.3   \n...                                                  ...  ...   \n12849            깨진 유리 조각에 손가락을 벴어요.  3.9   \n12850  아드님이 친구들과 야구를 하다 유리창을 ᄁ...  5.4   \n12851           일찍 신청하는 사람이 유리할 거야.  3.7   \n12852                 이 두 소설은 줄거리가 유사해요.  3.5   \n12853                 올해 유월은 유난히 쌀쌀해요.  3.2   \n\n                                                      en  \n0                 He seemed to be pretending to be okay.  \n1                       I tried in vain to win her love.  \n2                                Save your pocket money.  \n3                                 He cherishes his wife.  \n4                                Do you know his number?  \n...                                                  ...  \n12849        I cut my finger on a piece of broken glass.  \n12850  Your son was playing baseball with his friends...  \n12851         Early applicants will be given advantages.  \n12852  These two novels are much alike in their synop...  \n12853                It's particularly chilly this June.  \n\n[12854 rows x 5 columns]",
      "text/html": "<div>\n<style scoped>\n    .dataframe tbody tr th:only-of-type {\n        vertical-align: middle;\n    }\n\n    .dataframe tbody tr th {\n        vertical-align: top;\n    }\n\n    .dataframe thead th {\n        text-align: right;\n    }\n</style>\n<table border=\"1\" class=\"dataframe\">\n  <thead>\n    <tr style=\"text-align: right;\">\n      <th></th>\n      <th>audio_file</th>\n      <th>tr_syl</th>\n      <th>tr_char</th>\n      <th>dur</th>\n      <th>en</th>\n    </tr>\n  </thead>\n  <tbody>\n    <tr>\n      <th>0</th>\n      <td>1/1_0000.wav</td>\n      <td>그는 괜찮은 척하려고 애쓰는 것 같았다.</td>\n      <td>그는 괜찮은 척하려고 애쓰는 것 같았다.</td>\n      <td>3.5</td>\n      <td>He seemed to be pretending to be okay.</td>\n    </tr>\n    <tr>\n      <th>1</th>\n      <td>1/1_0001.wav</td>\n      <td>그녀의 사랑을 얻기 위해 애썼지만 헛수고였다.</td>\n      <td>그녀의 사랑을 얻기 위해 애썼지만 헛수고ᄋ...</td>\n      <td>4.0</td>\n      <td>I tried in vain to win her love.</td>\n    </tr>\n    <tr>\n      <th>2</th>\n      <td>1/1_0002.wav</td>\n      <td>용돈을 아껴 써라.</td>\n      <td>용돈을 아껴 써라.</td>\n      <td>1.8</td>\n      <td>Save your pocket money.</td>\n    </tr>\n    <tr>\n      <th>3</th>\n      <td>1/1_0003.wav</td>\n      <td>그는 아내를 많이 아낀다.</td>\n      <td>그는 아내를 많이 아낀다.</td>\n      <td>2.3</td>\n      <td>He cherishes his wife.</td>\n    </tr>\n    <tr>\n      <th>4</th>\n      <td>1/1_0004.wav</td>\n      <td>그 애 전화번호 알아?</td>\n      <td>그 애 전화번호 알아?</td>\n      <td>1.3</td>\n      <td>Do you know his number?</td>\n    </tr>\n    <tr>\n      <th>...</th>\n      <td>...</td>\n      <td>...</td>\n      <td>...</td>\n      <td>...</td>\n      <td>...</td>\n    </tr>\n    <tr>\n      <th>12849</th>\n      <td>4/4_5627.wav</td>\n      <td>깨진 유리 조각에 손가락을 벴어요.</td>\n      <td>깨진 유리 조각에 손가락을 벴어요.</td>\n      <td>3.9</td>\n      <td>I cut my finger on a piece of broken glass.</td>\n    </tr>\n    <tr>\n      <th>12850</th>\n      <td>4/4_5628.wav</td>\n      <td>아드님이 친구들과 야구를 하다 유리창을 깼어요.</td>\n      <td>아드님이 친구들과 야구를 하다 유리창을 ᄁ...</td>\n      <td>5.4</td>\n      <td>Your son was playing baseball with his friends...</td>\n    </tr>\n    <tr>\n      <th>12851</th>\n      <td>4/4_5629.wav</td>\n      <td>일찍 신청하는 사람이 유리할 거야.</td>\n      <td>일찍 신청하는 사람이 유리할 거야.</td>\n      <td>3.7</td>\n      <td>Early applicants will be given advantages.</td>\n    </tr>\n    <tr>\n      <th>12852</th>\n      <td>4/4_5630.wav</td>\n      <td>이 두 소설은 줄거리가 유사해요.</td>\n      <td>이 두 소설은 줄거리가 유사해요.</td>\n      <td>3.5</td>\n      <td>These two novels are much alike in their synop...</td>\n    </tr>\n    <tr>\n      <th>12853</th>\n      <td>4/4_5631.wav</td>\n      <td>올해 유월은 유난히 쌀쌀해요.</td>\n      <td>올해 유월은 유난히 쌀쌀해요.</td>\n      <td>3.2</td>\n      <td>It's particularly chilly this June.</td>\n    </tr>\n  </tbody>\n</table>\n<p>12854 rows × 5 columns</p>\n</div>"
     },
     "execution_count": 6,
     "metadata": {},
     "output_type": "execute_result"
    }
   ],
   "source": [
    "# Since we are not interested in numerics as numbers, we drop that column\n",
    "tr_df = tr_df.drop(columns=['tr_w_num'])\n",
    "tr_df"
   ],
   "metadata": {
    "collapsed": false,
    "pycharm": {
     "name": "#%%\n"
    }
   }
  },
  {
   "cell_type": "markdown",
   "source": [
    "## Audio Analysis\n",
    "\n",
    "Informational:\n",
    "* Consonant Phonemes duration 25-50 msec\n",
    "* Vowel Phonemes duration 50-100+ msec\n"
   ],
   "metadata": {
    "collapsed": false
   }
  },
  {
   "cell_type": "code",
   "execution_count": 11,
   "outputs": [
    {
     "data": {
      "text/plain": "<IPython.core.display.Markdown object>",
      "text/markdown": "TextGrid path"
     },
     "metadata": {},
     "output_type": "display_data"
    },
    {
     "data": {
      "text/plain": "'/Users/dev/Projects/korean-ml/data/korean-single-speaker/kss/1/1_0007.TextGrid'"
     },
     "metadata": {},
     "output_type": "display_data"
    },
    {
     "data": {
      "text/plain": "<IPython.core.display.Markdown object>",
      "text/markdown": "CSV paths"
     },
     "metadata": {},
     "output_type": "display_data"
    },
    {
     "data": {
      "text/plain": "{'char': '/Users/dev/Projects/korean-ml/data/korean-single-speaker/kss-csv/1_0007_char.csv',\n 'syl': '/Users/dev/Projects/korean-ml/data/korean-single-speaker/kss-csv/1_0007_syl.csv'}"
     },
     "metadata": {},
     "output_type": "display_data"
    },
    {
     "data": {
      "text/plain": "<IPython.core.display.Markdown object>",
      "text/markdown": "loaded textgrid"
     },
     "metadata": {},
     "output_type": "display_data"
    },
    {
     "data": {
      "text/plain": "{'char':    char    start     stop   kssid  \\\n 0     0  0.00000  0.11512  1_0007   \n 1     ᄀ  0.11512  0.15064  1_0007   \n 2     ᅳ  0.15064  0.18900  1_0007   \n 3     ᄃ  0.18900  0.23866  1_0007   \n 4     ᅳ  0.23866  0.31795  1_0007   \n 5     ᆯ  0.31795  0.35242  1_0007   \n 6    으  0.35242  0.46082  1_0007   \n 7     ᆫ  0.46082  0.56685  1_0007   \n 8     ᄂ  0.56685  0.61090  1_0007   \n 9     ᅢ  0.61090  0.72922  1_0007   \n 10    ᄀ  0.72922  0.75833  1_0007   \n 11    ᅡ  0.75833  0.88472  1_0007   \n 12    ᄉ  0.88472  0.93124  1_0007   \n 13    ᅵ  0.93124  1.02393  1_0007   \n 14    ᄒ  1.02393  1.04027  1_0007   \n 15    ᅥ  1.04027  1.15863  1_0007   \n 16    ᆷ  1.15863  1.22297  1_0007   \n 17   에  1.22297  1.30724  1_0007   \n 18    ᄄ  1.30724  1.40566  1_0007   \n 19    ᅥ  1.40566  1.48307  1_0007   \n 20    ᆯ  1.48307  1.51765  1_0007   \n 21   어  1.51765  1.60766  1_0007   \n 22    ᄌ  1.60766  1.66068  1_0007   \n 23    ᅧ  1.66068  1.72988  1_0007   \n 24    ᆻ  1.72988  1.83943  1_0007   \n 25    ᄃ  1.83943  1.85551  1_0007   \n 26    ᅡ  1.85551  1.97040  1_0007   \n 27    ᄀ  1.97040  2.04968  1_0007   \n 28    ᅩ  2.04968  2.21378  1_0007   \n 29    0  2.21378  2.50921  1_0007   \n 30   아  2.50921  2.58056  1_0007   \n 31    ᆯ  2.58056  2.62461  1_0007   \n 32    ᆯ  2.62461  2.68934  1_0007   \n 33    ᅧ  2.68934  2.87245  1_0007   \n 34   와  2.87245  2.97189  1_0007   \n 35    ᆻ  2.97189  3.17489  1_0007   \n 36    ᄃ  3.17489  3.19174  1_0007   \n 37    ᅡ  3.19174  3.37835  1_0007   \n 38    0  3.37835  3.51138  1_0007   \n \n                                                 audio  \n 0   /Users/dev/Projects/korean-ml/data/korean-sing...  \n 1   /Users/dev/Projects/korean-ml/data/korean-sing...  \n 2   /Users/dev/Projects/korean-ml/data/korean-sing...  \n 3   /Users/dev/Projects/korean-ml/data/korean-sing...  \n 4   /Users/dev/Projects/korean-ml/data/korean-sing...  \n 5   /Users/dev/Projects/korean-ml/data/korean-sing...  \n 6   /Users/dev/Projects/korean-ml/data/korean-sing...  \n 7   /Users/dev/Projects/korean-ml/data/korean-sing...  \n 8   /Users/dev/Projects/korean-ml/data/korean-sing...  \n 9   /Users/dev/Projects/korean-ml/data/korean-sing...  \n 10  /Users/dev/Projects/korean-ml/data/korean-sing...  \n 11  /Users/dev/Projects/korean-ml/data/korean-sing...  \n 12  /Users/dev/Projects/korean-ml/data/korean-sing...  \n 13  /Users/dev/Projects/korean-ml/data/korean-sing...  \n 14  /Users/dev/Projects/korean-ml/data/korean-sing...  \n 15  /Users/dev/Projects/korean-ml/data/korean-sing...  \n 16  /Users/dev/Projects/korean-ml/data/korean-sing...  \n 17  /Users/dev/Projects/korean-ml/data/korean-sing...  \n 18  /Users/dev/Projects/korean-ml/data/korean-sing...  \n 19  /Users/dev/Projects/korean-ml/data/korean-sing...  \n 20  /Users/dev/Projects/korean-ml/data/korean-sing...  \n 21  /Users/dev/Projects/korean-ml/data/korean-sing...  \n 22  /Users/dev/Projects/korean-ml/data/korean-sing...  \n 23  /Users/dev/Projects/korean-ml/data/korean-sing...  \n 24  /Users/dev/Projects/korean-ml/data/korean-sing...  \n 25  /Users/dev/Projects/korean-ml/data/korean-sing...  \n 26  /Users/dev/Projects/korean-ml/data/korean-sing...  \n 27  /Users/dev/Projects/korean-ml/data/korean-sing...  \n 28  /Users/dev/Projects/korean-ml/data/korean-sing...  \n 29  /Users/dev/Projects/korean-ml/data/korean-sing...  \n 30  /Users/dev/Projects/korean-ml/data/korean-sing...  \n 31  /Users/dev/Projects/korean-ml/data/korean-sing...  \n 32  /Users/dev/Projects/korean-ml/data/korean-sing...  \n 33  /Users/dev/Projects/korean-ml/data/korean-sing...  \n 34  /Users/dev/Projects/korean-ml/data/korean-sing...  \n 35  /Users/dev/Projects/korean-ml/data/korean-sing...  \n 36  /Users/dev/Projects/korean-ml/data/korean-sing...  \n 37  /Users/dev/Projects/korean-ml/data/korean-sing...  \n 38  /Users/dev/Projects/korean-ml/data/korean-sing...  ,\n 'syl':      syl    start     stop   kssid  \\\n 0      0  0.00000  0.11512  1_0007   \n 1     그  0.11512  0.18900  1_0007   \n 2    들  0.18900  0.35242  1_0007   \n 3    은  0.35242  0.56699  1_0007   \n 4     내  0.56699  0.72922  1_0007   \n 5     가  0.72922  0.88472  1_0007   \n 6     시  0.88472  1.02393  1_0007   \n 7    험  1.02393  1.22297  1_0007   \n 8     에  1.22297  1.30726  1_0007   \n 9    떨  1.30726  1.51765  1_0007   \n 10    어  1.51765  1.60766  1_0007   \n 11   졌  1.60766  1.83943  1_0007   \n 12    다  1.83943  1.97051  1_0007   \n 13    고  1.97051  2.21367  1_0007   \n 14     0  2.21367  2.50921  1_0007   \n 15   알  2.50921  2.62461  1_0007   \n 16    려  2.62461  2.87245  1_0007   \n 17   왔  2.87245  3.17504  1_0007   \n 18    다  3.17504  3.37827  1_0007   \n 19     0  3.37827  3.51138  1_0007   \n \n                                                 audio  \n 0   /Users/dev/Projects/korean-ml/data/korean-sing...  \n 1   /Users/dev/Projects/korean-ml/data/korean-sing...  \n 2   /Users/dev/Projects/korean-ml/data/korean-sing...  \n 3   /Users/dev/Projects/korean-ml/data/korean-sing...  \n 4   /Users/dev/Projects/korean-ml/data/korean-sing...  \n 5   /Users/dev/Projects/korean-ml/data/korean-sing...  \n 6   /Users/dev/Projects/korean-ml/data/korean-sing...  \n 7   /Users/dev/Projects/korean-ml/data/korean-sing...  \n 8   /Users/dev/Projects/korean-ml/data/korean-sing...  \n 9   /Users/dev/Projects/korean-ml/data/korean-sing...  \n 10  /Users/dev/Projects/korean-ml/data/korean-sing...  \n 11  /Users/dev/Projects/korean-ml/data/korean-sing...  \n 12  /Users/dev/Projects/korean-ml/data/korean-sing...  \n 13  /Users/dev/Projects/korean-ml/data/korean-sing...  \n 14  /Users/dev/Projects/korean-ml/data/korean-sing...  \n 15  /Users/dev/Projects/korean-ml/data/korean-sing...  \n 16  /Users/dev/Projects/korean-ml/data/korean-sing...  \n 17  /Users/dev/Projects/korean-ml/data/korean-sing...  \n 18  /Users/dev/Projects/korean-ml/data/korean-sing...  \n 19  /Users/dev/Projects/korean-ml/data/korean-sing...  }"
     },
     "metadata": {},
     "output_type": "display_data"
    }
   ],
   "source": [
    "kss_id = '1_0007'\n",
    "\n",
    "KssDf = make_kss_df_cls(Project.path.TEXTGRID, Project.path.KSSCSV)\n",
    "kss = KssDf(kss_id)\n",
    "\n",
    "\n",
    "disp.obj(kss.tg_path, label='TextGrid path')\n",
    "disp.obj(kss.csv_paths, label='CSV paths')\n",
    "\n",
    "# Setting save=True will save the TextGrid data to an csv file.\n",
    "tg_df = kss.load_tg(save=False)\n",
    "\n",
    "disp.obj(tg_df, label='loaded textgrid')"
   ],
   "metadata": {
    "collapsed": false,
    "pycharm": {
     "name": "#%%\n"
    }
   }
  },
  {
   "cell_type": "code",
   "execution_count": 10,
   "outputs": [
    {
     "name": "stderr",
     "output_type": "stream",
     "text": [
      "KssDfSub[INFO]: Saving: /Users/dev/Projects/korean-ml/data/korean-single-speaker/kss-csv/1_0007_char.csv\n",
      "KssDfSub[INFO]: Saving: /Users/dev/Projects/korean-ml/data/korean-single-speaker/kss-csv/1_0007_syl.csv\n"
     ]
    },
    {
     "data": {
      "text/plain": "<IPython.core.display.Markdown object>",
      "text/markdown": "Character DF loaded from CSV"
     },
     "metadata": {},
     "output_type": "display_data"
    },
    {
     "data": {
      "text/plain": "   char    start     stop   kssid  \\\n0     0  0.00000  0.11512  1_0007   \n1     ᄀ  0.11512  0.15064  1_0007   \n2     ᅳ  0.15064  0.18900  1_0007   \n3     ᄃ  0.18900  0.23866  1_0007   \n4     ᅳ  0.23866  0.31795  1_0007   \n5     ᆯ  0.31795  0.35242  1_0007   \n6    으  0.35242  0.46082  1_0007   \n7     ᆫ  0.46082  0.56685  1_0007   \n8     ᄂ  0.56685  0.61090  1_0007   \n9     ᅢ  0.61090  0.72922  1_0007   \n10    ᄀ  0.72922  0.75833  1_0007   \n11    ᅡ  0.75833  0.88472  1_0007   \n12    ᄉ  0.88472  0.93124  1_0007   \n13    ᅵ  0.93124  1.02393  1_0007   \n14    ᄒ  1.02393  1.04027  1_0007   \n15    ᅥ  1.04027  1.15863  1_0007   \n16    ᆷ  1.15863  1.22297  1_0007   \n17   에  1.22297  1.30724  1_0007   \n18    ᄄ  1.30724  1.40566  1_0007   \n19    ᅥ  1.40566  1.48307  1_0007   \n20    ᆯ  1.48307  1.51765  1_0007   \n21   어  1.51765  1.60766  1_0007   \n22    ᄌ  1.60766  1.66068  1_0007   \n23    ᅧ  1.66068  1.72988  1_0007   \n24    ᆻ  1.72988  1.83943  1_0007   \n25    ᄃ  1.83943  1.85551  1_0007   \n26    ᅡ  1.85551  1.97040  1_0007   \n27    ᄀ  1.97040  2.04968  1_0007   \n28    ᅩ  2.04968  2.21378  1_0007   \n29    0  2.21378  2.50921  1_0007   \n30   아  2.50921  2.58056  1_0007   \n31    ᆯ  2.58056  2.62461  1_0007   \n32    ᆯ  2.62461  2.68934  1_0007   \n33    ᅧ  2.68934  2.87245  1_0007   \n34   와  2.87245  2.97189  1_0007   \n35    ᆻ  2.97189  3.17489  1_0007   \n36    ᄃ  3.17489  3.19174  1_0007   \n37    ᅡ  3.19174  3.37835  1_0007   \n38    0  3.37835  3.51138  1_0007   \n\n                                                audio  \n0   /Users/dev/Projects/korean-ml/data/korean-sing...  \n1   /Users/dev/Projects/korean-ml/data/korean-sing...  \n2   /Users/dev/Projects/korean-ml/data/korean-sing...  \n3   /Users/dev/Projects/korean-ml/data/korean-sing...  \n4   /Users/dev/Projects/korean-ml/data/korean-sing...  \n5   /Users/dev/Projects/korean-ml/data/korean-sing...  \n6   /Users/dev/Projects/korean-ml/data/korean-sing...  \n7   /Users/dev/Projects/korean-ml/data/korean-sing...  \n8   /Users/dev/Projects/korean-ml/data/korean-sing...  \n9   /Users/dev/Projects/korean-ml/data/korean-sing...  \n10  /Users/dev/Projects/korean-ml/data/korean-sing...  \n11  /Users/dev/Projects/korean-ml/data/korean-sing...  \n12  /Users/dev/Projects/korean-ml/data/korean-sing...  \n13  /Users/dev/Projects/korean-ml/data/korean-sing...  \n14  /Users/dev/Projects/korean-ml/data/korean-sing...  \n15  /Users/dev/Projects/korean-ml/data/korean-sing...  \n16  /Users/dev/Projects/korean-ml/data/korean-sing...  \n17  /Users/dev/Projects/korean-ml/data/korean-sing...  \n18  /Users/dev/Projects/korean-ml/data/korean-sing...  \n19  /Users/dev/Projects/korean-ml/data/korean-sing...  \n20  /Users/dev/Projects/korean-ml/data/korean-sing...  \n21  /Users/dev/Projects/korean-ml/data/korean-sing...  \n22  /Users/dev/Projects/korean-ml/data/korean-sing...  \n23  /Users/dev/Projects/korean-ml/data/korean-sing...  \n24  /Users/dev/Projects/korean-ml/data/korean-sing...  \n25  /Users/dev/Projects/korean-ml/data/korean-sing...  \n26  /Users/dev/Projects/korean-ml/data/korean-sing...  \n27  /Users/dev/Projects/korean-ml/data/korean-sing...  \n28  /Users/dev/Projects/korean-ml/data/korean-sing...  \n29  /Users/dev/Projects/korean-ml/data/korean-sing...  \n30  /Users/dev/Projects/korean-ml/data/korean-sing...  \n31  /Users/dev/Projects/korean-ml/data/korean-sing...  \n32  /Users/dev/Projects/korean-ml/data/korean-sing...  \n33  /Users/dev/Projects/korean-ml/data/korean-sing...  \n34  /Users/dev/Projects/korean-ml/data/korean-sing...  \n35  /Users/dev/Projects/korean-ml/data/korean-sing...  \n36  /Users/dev/Projects/korean-ml/data/korean-sing...  \n37  /Users/dev/Projects/korean-ml/data/korean-sing...  \n38  /Users/dev/Projects/korean-ml/data/korean-sing...  ",
      "text/html": "<div>\n<style scoped>\n    .dataframe tbody tr th:only-of-type {\n        vertical-align: middle;\n    }\n\n    .dataframe tbody tr th {\n        vertical-align: top;\n    }\n\n    .dataframe thead th {\n        text-align: right;\n    }\n</style>\n<table border=\"1\" class=\"dataframe\">\n  <thead>\n    <tr style=\"text-align: right;\">\n      <th></th>\n      <th>char</th>\n      <th>start</th>\n      <th>stop</th>\n      <th>kssid</th>\n      <th>audio</th>\n    </tr>\n  </thead>\n  <tbody>\n    <tr>\n      <th>0</th>\n      <td>0</td>\n      <td>0.00000</td>\n      <td>0.11512</td>\n      <td>1_0007</td>\n      <td>/Users/dev/Projects/korean-ml/data/korean-sing...</td>\n    </tr>\n    <tr>\n      <th>1</th>\n      <td>ᄀ</td>\n      <td>0.11512</td>\n      <td>0.15064</td>\n      <td>1_0007</td>\n      <td>/Users/dev/Projects/korean-ml/data/korean-sing...</td>\n    </tr>\n    <tr>\n      <th>2</th>\n      <td>ᅳ</td>\n      <td>0.15064</td>\n      <td>0.18900</td>\n      <td>1_0007</td>\n      <td>/Users/dev/Projects/korean-ml/data/korean-sing...</td>\n    </tr>\n    <tr>\n      <th>3</th>\n      <td>ᄃ</td>\n      <td>0.18900</td>\n      <td>0.23866</td>\n      <td>1_0007</td>\n      <td>/Users/dev/Projects/korean-ml/data/korean-sing...</td>\n    </tr>\n    <tr>\n      <th>4</th>\n      <td>ᅳ</td>\n      <td>0.23866</td>\n      <td>0.31795</td>\n      <td>1_0007</td>\n      <td>/Users/dev/Projects/korean-ml/data/korean-sing...</td>\n    </tr>\n    <tr>\n      <th>5</th>\n      <td>ᆯ</td>\n      <td>0.31795</td>\n      <td>0.35242</td>\n      <td>1_0007</td>\n      <td>/Users/dev/Projects/korean-ml/data/korean-sing...</td>\n    </tr>\n    <tr>\n      <th>6</th>\n      <td>으</td>\n      <td>0.35242</td>\n      <td>0.46082</td>\n      <td>1_0007</td>\n      <td>/Users/dev/Projects/korean-ml/data/korean-sing...</td>\n    </tr>\n    <tr>\n      <th>7</th>\n      <td>ᆫ</td>\n      <td>0.46082</td>\n      <td>0.56685</td>\n      <td>1_0007</td>\n      <td>/Users/dev/Projects/korean-ml/data/korean-sing...</td>\n    </tr>\n    <tr>\n      <th>8</th>\n      <td>ᄂ</td>\n      <td>0.56685</td>\n      <td>0.61090</td>\n      <td>1_0007</td>\n      <td>/Users/dev/Projects/korean-ml/data/korean-sing...</td>\n    </tr>\n    <tr>\n      <th>9</th>\n      <td>ᅢ</td>\n      <td>0.61090</td>\n      <td>0.72922</td>\n      <td>1_0007</td>\n      <td>/Users/dev/Projects/korean-ml/data/korean-sing...</td>\n    </tr>\n    <tr>\n      <th>10</th>\n      <td>ᄀ</td>\n      <td>0.72922</td>\n      <td>0.75833</td>\n      <td>1_0007</td>\n      <td>/Users/dev/Projects/korean-ml/data/korean-sing...</td>\n    </tr>\n    <tr>\n      <th>11</th>\n      <td>ᅡ</td>\n      <td>0.75833</td>\n      <td>0.88472</td>\n      <td>1_0007</td>\n      <td>/Users/dev/Projects/korean-ml/data/korean-sing...</td>\n    </tr>\n    <tr>\n      <th>12</th>\n      <td>ᄉ</td>\n      <td>0.88472</td>\n      <td>0.93124</td>\n      <td>1_0007</td>\n      <td>/Users/dev/Projects/korean-ml/data/korean-sing...</td>\n    </tr>\n    <tr>\n      <th>13</th>\n      <td>ᅵ</td>\n      <td>0.93124</td>\n      <td>1.02393</td>\n      <td>1_0007</td>\n      <td>/Users/dev/Projects/korean-ml/data/korean-sing...</td>\n    </tr>\n    <tr>\n      <th>14</th>\n      <td>ᄒ</td>\n      <td>1.02393</td>\n      <td>1.04027</td>\n      <td>1_0007</td>\n      <td>/Users/dev/Projects/korean-ml/data/korean-sing...</td>\n    </tr>\n    <tr>\n      <th>15</th>\n      <td>ᅥ</td>\n      <td>1.04027</td>\n      <td>1.15863</td>\n      <td>1_0007</td>\n      <td>/Users/dev/Projects/korean-ml/data/korean-sing...</td>\n    </tr>\n    <tr>\n      <th>16</th>\n      <td>ᆷ</td>\n      <td>1.15863</td>\n      <td>1.22297</td>\n      <td>1_0007</td>\n      <td>/Users/dev/Projects/korean-ml/data/korean-sing...</td>\n    </tr>\n    <tr>\n      <th>17</th>\n      <td>에</td>\n      <td>1.22297</td>\n      <td>1.30724</td>\n      <td>1_0007</td>\n      <td>/Users/dev/Projects/korean-ml/data/korean-sing...</td>\n    </tr>\n    <tr>\n      <th>18</th>\n      <td>ᄄ</td>\n      <td>1.30724</td>\n      <td>1.40566</td>\n      <td>1_0007</td>\n      <td>/Users/dev/Projects/korean-ml/data/korean-sing...</td>\n    </tr>\n    <tr>\n      <th>19</th>\n      <td>ᅥ</td>\n      <td>1.40566</td>\n      <td>1.48307</td>\n      <td>1_0007</td>\n      <td>/Users/dev/Projects/korean-ml/data/korean-sing...</td>\n    </tr>\n    <tr>\n      <th>20</th>\n      <td>ᆯ</td>\n      <td>1.48307</td>\n      <td>1.51765</td>\n      <td>1_0007</td>\n      <td>/Users/dev/Projects/korean-ml/data/korean-sing...</td>\n    </tr>\n    <tr>\n      <th>21</th>\n      <td>어</td>\n      <td>1.51765</td>\n      <td>1.60766</td>\n      <td>1_0007</td>\n      <td>/Users/dev/Projects/korean-ml/data/korean-sing...</td>\n    </tr>\n    <tr>\n      <th>22</th>\n      <td>ᄌ</td>\n      <td>1.60766</td>\n      <td>1.66068</td>\n      <td>1_0007</td>\n      <td>/Users/dev/Projects/korean-ml/data/korean-sing...</td>\n    </tr>\n    <tr>\n      <th>23</th>\n      <td>ᅧ</td>\n      <td>1.66068</td>\n      <td>1.72988</td>\n      <td>1_0007</td>\n      <td>/Users/dev/Projects/korean-ml/data/korean-sing...</td>\n    </tr>\n    <tr>\n      <th>24</th>\n      <td>ᆻ</td>\n      <td>1.72988</td>\n      <td>1.83943</td>\n      <td>1_0007</td>\n      <td>/Users/dev/Projects/korean-ml/data/korean-sing...</td>\n    </tr>\n    <tr>\n      <th>25</th>\n      <td>ᄃ</td>\n      <td>1.83943</td>\n      <td>1.85551</td>\n      <td>1_0007</td>\n      <td>/Users/dev/Projects/korean-ml/data/korean-sing...</td>\n    </tr>\n    <tr>\n      <th>26</th>\n      <td>ᅡ</td>\n      <td>1.85551</td>\n      <td>1.97040</td>\n      <td>1_0007</td>\n      <td>/Users/dev/Projects/korean-ml/data/korean-sing...</td>\n    </tr>\n    <tr>\n      <th>27</th>\n      <td>ᄀ</td>\n      <td>1.97040</td>\n      <td>2.04968</td>\n      <td>1_0007</td>\n      <td>/Users/dev/Projects/korean-ml/data/korean-sing...</td>\n    </tr>\n    <tr>\n      <th>28</th>\n      <td>ᅩ</td>\n      <td>2.04968</td>\n      <td>2.21378</td>\n      <td>1_0007</td>\n      <td>/Users/dev/Projects/korean-ml/data/korean-sing...</td>\n    </tr>\n    <tr>\n      <th>29</th>\n      <td>0</td>\n      <td>2.21378</td>\n      <td>2.50921</td>\n      <td>1_0007</td>\n      <td>/Users/dev/Projects/korean-ml/data/korean-sing...</td>\n    </tr>\n    <tr>\n      <th>30</th>\n      <td>아</td>\n      <td>2.50921</td>\n      <td>2.58056</td>\n      <td>1_0007</td>\n      <td>/Users/dev/Projects/korean-ml/data/korean-sing...</td>\n    </tr>\n    <tr>\n      <th>31</th>\n      <td>ᆯ</td>\n      <td>2.58056</td>\n      <td>2.62461</td>\n      <td>1_0007</td>\n      <td>/Users/dev/Projects/korean-ml/data/korean-sing...</td>\n    </tr>\n    <tr>\n      <th>32</th>\n      <td>ᆯ</td>\n      <td>2.62461</td>\n      <td>2.68934</td>\n      <td>1_0007</td>\n      <td>/Users/dev/Projects/korean-ml/data/korean-sing...</td>\n    </tr>\n    <tr>\n      <th>33</th>\n      <td>ᅧ</td>\n      <td>2.68934</td>\n      <td>2.87245</td>\n      <td>1_0007</td>\n      <td>/Users/dev/Projects/korean-ml/data/korean-sing...</td>\n    </tr>\n    <tr>\n      <th>34</th>\n      <td>와</td>\n      <td>2.87245</td>\n      <td>2.97189</td>\n      <td>1_0007</td>\n      <td>/Users/dev/Projects/korean-ml/data/korean-sing...</td>\n    </tr>\n    <tr>\n      <th>35</th>\n      <td>ᆻ</td>\n      <td>2.97189</td>\n      <td>3.17489</td>\n      <td>1_0007</td>\n      <td>/Users/dev/Projects/korean-ml/data/korean-sing...</td>\n    </tr>\n    <tr>\n      <th>36</th>\n      <td>ᄃ</td>\n      <td>3.17489</td>\n      <td>3.19174</td>\n      <td>1_0007</td>\n      <td>/Users/dev/Projects/korean-ml/data/korean-sing...</td>\n    </tr>\n    <tr>\n      <th>37</th>\n      <td>ᅡ</td>\n      <td>3.19174</td>\n      <td>3.37835</td>\n      <td>1_0007</td>\n      <td>/Users/dev/Projects/korean-ml/data/korean-sing...</td>\n    </tr>\n    <tr>\n      <th>38</th>\n      <td>0</td>\n      <td>3.37835</td>\n      <td>3.51138</td>\n      <td>1_0007</td>\n      <td>/Users/dev/Projects/korean-ml/data/korean-sing...</td>\n    </tr>\n  </tbody>\n</table>\n</div>"
     },
     "metadata": {},
     "output_type": "display_data"
    },
    {
     "data": {
      "text/plain": "<IPython.core.display.Markdown object>",
      "text/markdown": "Syllable DF loaded from CSV"
     },
     "metadata": {},
     "output_type": "display_data"
    },
    {
     "data": {
      "text/plain": "     syl    start     stop   kssid  \\\n0      0  0.00000  0.11512  1_0007   \n1     그  0.11512  0.18900  1_0007   \n2    들  0.18900  0.35242  1_0007   \n3    은  0.35242  0.56699  1_0007   \n4     내  0.56699  0.72922  1_0007   \n5     가  0.72922  0.88472  1_0007   \n6     시  0.88472  1.02393  1_0007   \n7    험  1.02393  1.22297  1_0007   \n8     에  1.22297  1.30726  1_0007   \n9    떨  1.30726  1.51765  1_0007   \n10    어  1.51765  1.60766  1_0007   \n11   졌  1.60766  1.83943  1_0007   \n12    다  1.83943  1.97051  1_0007   \n13    고  1.97051  2.21367  1_0007   \n14     0  2.21367  2.50921  1_0007   \n15   알  2.50921  2.62461  1_0007   \n16    려  2.62461  2.87245  1_0007   \n17   왔  2.87245  3.17504  1_0007   \n18    다  3.17504  3.37827  1_0007   \n19     0  3.37827  3.51138  1_0007   \n\n                                                audio  \n0   /Users/dev/Projects/korean-ml/data/korean-sing...  \n1   /Users/dev/Projects/korean-ml/data/korean-sing...  \n2   /Users/dev/Projects/korean-ml/data/korean-sing...  \n3   /Users/dev/Projects/korean-ml/data/korean-sing...  \n4   /Users/dev/Projects/korean-ml/data/korean-sing...  \n5   /Users/dev/Projects/korean-ml/data/korean-sing...  \n6   /Users/dev/Projects/korean-ml/data/korean-sing...  \n7   /Users/dev/Projects/korean-ml/data/korean-sing...  \n8   /Users/dev/Projects/korean-ml/data/korean-sing...  \n9   /Users/dev/Projects/korean-ml/data/korean-sing...  \n10  /Users/dev/Projects/korean-ml/data/korean-sing...  \n11  /Users/dev/Projects/korean-ml/data/korean-sing...  \n12  /Users/dev/Projects/korean-ml/data/korean-sing...  \n13  /Users/dev/Projects/korean-ml/data/korean-sing...  \n14  /Users/dev/Projects/korean-ml/data/korean-sing...  \n15  /Users/dev/Projects/korean-ml/data/korean-sing...  \n16  /Users/dev/Projects/korean-ml/data/korean-sing...  \n17  /Users/dev/Projects/korean-ml/data/korean-sing...  \n18  /Users/dev/Projects/korean-ml/data/korean-sing...  \n19  /Users/dev/Projects/korean-ml/data/korean-sing...  ",
      "text/html": "<div>\n<style scoped>\n    .dataframe tbody tr th:only-of-type {\n        vertical-align: middle;\n    }\n\n    .dataframe tbody tr th {\n        vertical-align: top;\n    }\n\n    .dataframe thead th {\n        text-align: right;\n    }\n</style>\n<table border=\"1\" class=\"dataframe\">\n  <thead>\n    <tr style=\"text-align: right;\">\n      <th></th>\n      <th>syl</th>\n      <th>start</th>\n      <th>stop</th>\n      <th>kssid</th>\n      <th>audio</th>\n    </tr>\n  </thead>\n  <tbody>\n    <tr>\n      <th>0</th>\n      <td>0</td>\n      <td>0.00000</td>\n      <td>0.11512</td>\n      <td>1_0007</td>\n      <td>/Users/dev/Projects/korean-ml/data/korean-sing...</td>\n    </tr>\n    <tr>\n      <th>1</th>\n      <td>그</td>\n      <td>0.11512</td>\n      <td>0.18900</td>\n      <td>1_0007</td>\n      <td>/Users/dev/Projects/korean-ml/data/korean-sing...</td>\n    </tr>\n    <tr>\n      <th>2</th>\n      <td>들</td>\n      <td>0.18900</td>\n      <td>0.35242</td>\n      <td>1_0007</td>\n      <td>/Users/dev/Projects/korean-ml/data/korean-sing...</td>\n    </tr>\n    <tr>\n      <th>3</th>\n      <td>은</td>\n      <td>0.35242</td>\n      <td>0.56699</td>\n      <td>1_0007</td>\n      <td>/Users/dev/Projects/korean-ml/data/korean-sing...</td>\n    </tr>\n    <tr>\n      <th>4</th>\n      <td>내</td>\n      <td>0.56699</td>\n      <td>0.72922</td>\n      <td>1_0007</td>\n      <td>/Users/dev/Projects/korean-ml/data/korean-sing...</td>\n    </tr>\n    <tr>\n      <th>5</th>\n      <td>가</td>\n      <td>0.72922</td>\n      <td>0.88472</td>\n      <td>1_0007</td>\n      <td>/Users/dev/Projects/korean-ml/data/korean-sing...</td>\n    </tr>\n    <tr>\n      <th>6</th>\n      <td>시</td>\n      <td>0.88472</td>\n      <td>1.02393</td>\n      <td>1_0007</td>\n      <td>/Users/dev/Projects/korean-ml/data/korean-sing...</td>\n    </tr>\n    <tr>\n      <th>7</th>\n      <td>험</td>\n      <td>1.02393</td>\n      <td>1.22297</td>\n      <td>1_0007</td>\n      <td>/Users/dev/Projects/korean-ml/data/korean-sing...</td>\n    </tr>\n    <tr>\n      <th>8</th>\n      <td>에</td>\n      <td>1.22297</td>\n      <td>1.30726</td>\n      <td>1_0007</td>\n      <td>/Users/dev/Projects/korean-ml/data/korean-sing...</td>\n    </tr>\n    <tr>\n      <th>9</th>\n      <td>떨</td>\n      <td>1.30726</td>\n      <td>1.51765</td>\n      <td>1_0007</td>\n      <td>/Users/dev/Projects/korean-ml/data/korean-sing...</td>\n    </tr>\n    <tr>\n      <th>10</th>\n      <td>어</td>\n      <td>1.51765</td>\n      <td>1.60766</td>\n      <td>1_0007</td>\n      <td>/Users/dev/Projects/korean-ml/data/korean-sing...</td>\n    </tr>\n    <tr>\n      <th>11</th>\n      <td>졌</td>\n      <td>1.60766</td>\n      <td>1.83943</td>\n      <td>1_0007</td>\n      <td>/Users/dev/Projects/korean-ml/data/korean-sing...</td>\n    </tr>\n    <tr>\n      <th>12</th>\n      <td>다</td>\n      <td>1.83943</td>\n      <td>1.97051</td>\n      <td>1_0007</td>\n      <td>/Users/dev/Projects/korean-ml/data/korean-sing...</td>\n    </tr>\n    <tr>\n      <th>13</th>\n      <td>고</td>\n      <td>1.97051</td>\n      <td>2.21367</td>\n      <td>1_0007</td>\n      <td>/Users/dev/Projects/korean-ml/data/korean-sing...</td>\n    </tr>\n    <tr>\n      <th>14</th>\n      <td>0</td>\n      <td>2.21367</td>\n      <td>2.50921</td>\n      <td>1_0007</td>\n      <td>/Users/dev/Projects/korean-ml/data/korean-sing...</td>\n    </tr>\n    <tr>\n      <th>15</th>\n      <td>알</td>\n      <td>2.50921</td>\n      <td>2.62461</td>\n      <td>1_0007</td>\n      <td>/Users/dev/Projects/korean-ml/data/korean-sing...</td>\n    </tr>\n    <tr>\n      <th>16</th>\n      <td>려</td>\n      <td>2.62461</td>\n      <td>2.87245</td>\n      <td>1_0007</td>\n      <td>/Users/dev/Projects/korean-ml/data/korean-sing...</td>\n    </tr>\n    <tr>\n      <th>17</th>\n      <td>왔</td>\n      <td>2.87245</td>\n      <td>3.17504</td>\n      <td>1_0007</td>\n      <td>/Users/dev/Projects/korean-ml/data/korean-sing...</td>\n    </tr>\n    <tr>\n      <th>18</th>\n      <td>다</td>\n      <td>3.17504</td>\n      <td>3.37827</td>\n      <td>1_0007</td>\n      <td>/Users/dev/Projects/korean-ml/data/korean-sing...</td>\n    </tr>\n    <tr>\n      <th>19</th>\n      <td>0</td>\n      <td>3.37827</td>\n      <td>3.51138</td>\n      <td>1_0007</td>\n      <td>/Users/dev/Projects/korean-ml/data/korean-sing...</td>\n    </tr>\n  </tbody>\n</table>\n</div>"
     },
     "metadata": {},
     "output_type": "display_data"
    }
   ],
   "source": [
    "# Setting save=True will save the TextGrid data to an csv file.\n",
    "kss.load_tg(save=False)\n",
    "csv_char_df = pd.read_csv(f'{Project.path.KSSCSV}/{kss_id}_char.csv')\n",
    "csv_syl_df = pd.read_csv(f'{Project.path.KSSCSV}/{kss_id}_syl.csv')\n",
    "\n",
    "print(\"If File isn't found, make sure save=True in kss.load_tg -> kss.load_tg(save=True)\")\n",
    "disp.obj(csv_char_df, 'Character DF loaded from CSV')\n",
    "disp.obj(csv_syl_df, 'Syllable DF loaded from CSV')"
   ],
   "metadata": {
    "collapsed": false,
    "pycharm": {
     "name": "#%%\n"
    }
   }
  }
 ],
 "metadata": {
  "kernelspec": {
   "name": "python3",
   "display_name": "Python 3",
   "language": "python"
  },
  "language_info": {
   "name": "python",
   "version": "3.7.9",
   "mimetype": "text/x-python",
   "codemirror_mode": {
    "name": "ipython",
    "version": 3
   },
   "pygments_lexer": "ipython3",
   "nbconvert_exporter": "python",
   "file_extension": ".py"
  },
  "pycharm": {
   "stem_cell": {
    "cell_type": "raw",
    "source": [
     "# TextGrid to char/syl dataframe\n",
     "\n",
     "Given a PRAAT Textgrid (text), add the interval markers to the character/syllable dataframe and update the csv.\n",
     "\n"
    ],
    "metadata": {
     "collapsed": false
    }
   }
  }
 },
 "nbformat": 4,
 "nbformat_minor": 4
}
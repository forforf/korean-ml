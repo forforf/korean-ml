{
 "cells": [
  {
   "cell_type": "code",
   "execution_count": 2,
   "metadata": {
    "collapsed": true
   },
   "outputs": [
    {
     "name": "stdout",
     "output_type": "stream",
     "text": [
      "X, y shape: (15, 2), (15,)\n",
      "predicted shape: (15,)\n"
     ]
    }
   ],
   "source": [
    "# Trying to use PipeGraph, but failing\n",
    "\n",
    "import numpy as np\n",
    "from sklearn.svm import SVR\n",
    "from sklearn.pipeline import Pipeline\n",
    "from pipegraph.base import PipeGraph\n",
    "\n",
    "X_ = np.arange(30).reshape(15,2)\n",
    "y_ = np.arange(15)\n",
    "print(f'X, y shape: {X_.shape}, {y_.shape}')\n",
    "\n",
    "svr_rbf = SVR(kernel='rbf', C=100, gamma=0.1, epsilon=.1)\n",
    "\n",
    "steps = [('svr', svr_rbf)]\n",
    "pgraph = PipeGraph(steps=steps)\n",
    "pgraph.fit(X_, y_)\n",
    "print(f'predicted shape: {pgraph.predict(X_).shape}')"
   ]
  }
 ],
 "metadata": {
  "kernelspec": {
   "display_name": "Python 3",
   "language": "python",
   "name": "python3"
  },
  "language_info": {
   "codemirror_mode": {
    "name": "ipython",
    "version": 2
   },
   "file_extension": ".py",
   "mimetype": "text/x-python",
   "name": "python",
   "nbconvert_exporter": "python",
   "pygments_lexer": "ipython2",
   "version": "2.7.6"
  }
 },
 "nbformat": 4,
 "nbformat_minor": 0
}
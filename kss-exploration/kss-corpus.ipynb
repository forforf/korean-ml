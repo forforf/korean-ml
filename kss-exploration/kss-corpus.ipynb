{
 "cells": [
  {
   "cell_type": "code",
   "execution_count": 3,
   "outputs": [],
   "source": [
    "from collections import Counter\n",
    "\n",
    "import pandas as pd  # data processing, CSV file I/O (e.g. pd.read_csv)\n",
    "\n",
    "from config import Project\n",
    "from src.display import Disp\n",
    "\n",
    "# Display handler with some nice helpers\n",
    "disp = Disp(display)\n",
    "# Uncomment to see the source code\n",
    "# disp.code('display.py', label='display.py ')\n",
    "\n",
    "\n",
    "# disp examples\n",
    "# disp(IPython.display.Audio('./data/korean-single-speaker/kss/1/1_0000.wav'))\n",
    "# disp_file_source('marker_df.py', label='marker_df')\n",
    "# disp_audio_file('./data/korean-single-speaker/kss/1/1_0000.wav', label='1_0000.wav')"
   ],
   "metadata": {
    "collapsed": false,
    "pycharm": {
     "name": "#%%\n"
    }
   }
  },
  {
   "cell_type": "markdown",
   "source": [
    "## Analyze KSS transcriptions"
   ],
   "metadata": {
    "collapsed": false
   }
  },
  {
   "cell_type": "code",
   "execution_count": 4,
   "outputs": [
    {
     "data": {
      "text/plain": "<IPython.core.display.Markdown object>",
      "text/markdown": "First Transcription Entry"
     },
     "metadata": {},
     "output_type": "display_data"
    },
    {
     "data": {
      "text/plain": "'그는 괜찮은 척하려고 애쓰는 것 같았다.'"
     },
     "metadata": {},
     "output_type": "display_data"
    }
   ],
   "source": [
    "import re\n",
    "\n",
    "def to_chars(sentence, split_pattern):\n",
    "    words = re.split(split_pattern, sentence)\n",
    "    chs = []\n",
    "    for word in words:\n",
    "        chs = chs + list(word)\n",
    "\n",
    "    return chs\n",
    "\n",
    "transcript_file = Project.path.TRANSCRIPT\n",
    "tr_df = pd.read_csv(transcript_file, sep=\"|\", names=[\"audio_file\", \"tr_w_num\", \"tr_syl\", \"tr_char\", \"dur\", \"en\"])\n",
    "\n",
    "disp.obj(tr_df['tr_char'][0], label='First Transcription Entry')\n",
    "\n",
    "\n",
    "from nltk.tokenize import RegexpTokenizer\n",
    "# Create an instance of RegexpTokenizer for alphanumeric tokens\n",
    "tokeniser = RegexpTokenizer('[^\\s.!?]')\n",
    "\n",
    "tr_df['tr_char_tok'] = tr_df['tr_char'].apply(lambda row: tokeniser.tokenize(row))\n",
    "tr_df['tr_syl_tok'] = tr_df['tr_syl'].apply(lambda row: tokeniser.tokenize(row))\n"
   ],
   "metadata": {
    "collapsed": false,
    "pycharm": {
     "name": "#%%\n"
    }
   }
  },
  {
   "cell_type": "code",
   "execution_count": 5,
   "outputs": [],
   "source": [
    "def list_to_freq_dict(a):\n",
    "    freq = [a.count(i) for i in a]\n",
    "    return dict(list(zip(a,freq)))\n",
    "\n",
    "c_dict_char = Counter()\n",
    "for char_toks in tr_df['tr_char_tok']:\n",
    "    c_dict_char = c_dict_char + Counter(list_to_freq_dict(char_toks))\n",
    "\n",
    "c_dict_syl = Counter()\n",
    "for syl_toks in tr_df['tr_syl_tok']:\n",
    "    c_dict_syl = c_dict_syl + Counter(list_to_freq_dict(syl_toks))"
   ],
   "metadata": {
    "collapsed": false,
    "pycharm": {
     "name": "#%%\n"
    }
   }
  },
  {
   "cell_type": "markdown",
   "source": [
    "### Counts by Character and Syllable"
   ],
   "metadata": {
    "collapsed": false,
    "pycharm": {
     "name": "#%% md\n"
    }
   }
  },
  {
   "cell_type": "code",
   "execution_count": 6,
   "outputs": [
    {
     "data": {
      "text/plain": "<IPython.core.display.Markdown object>",
      "text/markdown": "20 most common characters"
     },
     "metadata": {},
     "output_type": "display_data"
    },
    {
     "data": {
      "text/plain": "[('ᄋ', 49336),\n ('ᅡ', 39344),\n ('ᅵ', 27039),\n ('ᅳ', 22833),\n ('ᆫ', 22224),\n ('ᄀ', 20349),\n ('ᅥ', 20172),\n ('ᆯ', 16219),\n ('ᄌ', 15104),\n ('ᄉ', 15042),\n ('ᄂ', 13965),\n ('ᅩ', 13423),\n ('ᄃ', 12996),\n ('ᄒ', 11132),\n ('ᅮ', 10761),\n ('ᄅ', 10298),\n ('ᅦ', 9771),\n ('ᄆ', 8413),\n ('ᆼ', 8236),\n ('ᅢ', 7893)]"
     },
     "metadata": {},
     "output_type": "display_data"
    },
    {
     "data": {
      "text/plain": "<IPython.core.display.Markdown object>",
      "text/markdown": "10 most common syllables"
     },
     "metadata": {},
     "output_type": "display_data"
    },
    {
     "data": {
      "text/plain": "[('이', 6482),\n ('요', 5905),\n ('다', 5351),\n ('는', 4918),\n ('어', 4773),\n ('에', 4315),\n ('가', 3626),\n ('을', 3169),\n ('은', 2794),\n ('아', 2587)]"
     },
     "metadata": {},
     "output_type": "display_data"
    }
   ],
   "source": [
    "disp.obj(c_dict_char.most_common(20), label='20 most common characters')\n",
    "disp.obj(c_dict_syl.most_common(10), label='10 most common syllables')"
   ],
   "metadata": {
    "collapsed": false,
    "pycharm": {
     "name": "#%%\n"
    }
   }
  },
  {
   "cell_type": "markdown",
   "source": [
    "Consonant Phonemes duration 25-50 msec\n",
    "Vowel Phonemes duration 50-100+ msec\n",
    "\n",
    "\n",
    "\n",
    "\n",
    "\n",
    "\n"
   ],
   "metadata": {
    "collapsed": false,
    "pycharm": {
     "name": "#%% md\n"
    }
   }
  }
 ],
 "metadata": {
  "kernelspec": {
   "name": "python3",
   "display_name": "Python 3",
   "language": "python"
  },
  "language_info": {
   "name": "python",
   "version": "3.7.9",
   "mimetype": "text/x-python",
   "codemirror_mode": {
    "name": "ipython",
    "version": 3
   },
   "pygments_lexer": "ipython3",
   "nbconvert_exporter": "python",
   "file_extension": ".py"
  }
 },
 "nbformat": 4,
 "nbformat_minor": 4
}
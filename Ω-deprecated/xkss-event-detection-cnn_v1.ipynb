{
 "cells": [
  {
   "metadata": {
    "_uuid": "8f2839f25d086af736a60e9eeb907d3b93b6e0e5",
    "_cell_guid": "b1076dfc-b9ad-4769-8c92-a6c4dae69d19",
    "trusted": true,
    "pycharm": {
     "name": "#%% md\n"
    }
   },
   "cell_type": "markdown",
   "source": [
    "# Deprecated\n",
    "\n",
    "## Contents\n",
    "* Predict CNN using time to next event\n",
    "\n",
    "## Reason\n",
    "* Might revisit as it has some interesting ideas\n",
    "* Poor performace\n",
    "* Time to next event might not be the best y\n",
    "\n",
    "# Predict interval boundaries on kss audio"
   ]
  },
  {
   "cell_type": "code",
   "execution_count": 1,
   "outputs": [],
   "source": [
    "# This Python 3 environment comes with many helpful analytics libraries installed\n",
    "# It is defined by the kaggle/python Docker image: https://github.com/kaggle/docker-python\n",
    "# For example, here's several helpful packages to load\n",
    "\n",
    "import numpy as np # linear algebra\n",
    "import pandas as pd # data processing, CSV file I/O (e.g. pd.read_csv)\n",
    "import librosa\n",
    "import matplotlib.pyplot as plt\n",
    "import matplotlib.font_manager as mfm\n",
    "\n",
    "\n",
    "font_path = '/Users/dev/Fonts/Noto_Sans_KR/NotoSansKR-Regular.otf'\n",
    "k_prop = mfm.FontProperties(fname=font_path)\n",
    "plt.style.use('dark_background')\n",
    "\n",
    "\n",
    "\n",
    "# Input data files are available in the read-only \"../input/\" directory\n",
    "# For example, running this (by clicking run or pressing Shift+Enter) will list all files under the input directory\n"
   ],
   "metadata": {
    "collapsed": false,
    "pycharm": {
     "name": "#%%\n"
    }
   }
  },
  {
   "metadata": {},
   "cell_type": "markdown",
   "source": [
    "## Data Preparation\n",
    "Create features\n"
   ]
  },
  {
   "cell_type": "markdown",
   "source": [
    "## Audio Info\n",
    "\n",
    "Informational:\n",
    "* Consonant Phonemes duration 25-50 msec\n",
    "* Vowel Phonemes duration 50-100+ msec\n"
   ],
   "metadata": {
    "collapsed": false
   }
  },
  {
   "cell_type": "markdown",
   "source": [
    "## Character and Syllable Chunk Markers"
   ],
   "metadata": {
    "collapsed": false,
    "pycharm": {
     "name": "#%% md\n"
    }
   }
  },
  {
   "cell_type": "code",
   "execution_count": 2,
   "outputs": [],
   "source": [
    "chunk_dir = 'data/korean-single-speaker/kss_chunks'\n",
    "\n",
    "chunk_char_df = pd.read_csv(f'{chunk_dir}/chunk_char.csv')\n",
    "chunk_syl_df = pd.read_csv(f'{chunk_dir}/chunk_syl.csv')\n"
   ],
   "metadata": {
    "collapsed": false,
    "pycharm": {
     "name": "#%%\n"
    }
   }
  },
  {
   "cell_type": "markdown",
   "source": [
    "## Event Marker Analysis"
   ],
   "metadata": {
    "collapsed": false
   }
  },
  {
   "cell_type": "markdown",
   "source": [
    "### Event Marker Statistics"
   ],
   "metadata": {
    "collapsed": false,
    "pycharm": {
     "name": "#%% md\n"
    }
   }
  },
  {
   "cell_type": "code",
   "execution_count": 3,
   "outputs": [
    {
     "data": {
      "text/plain": "              ivl       start        stop\ncount  133.000000  133.000000  133.000000\nmean     0.086957    1.417308    1.504264\nstd      0.061730    0.998314    1.009050\nmin      0.006800    0.000000    0.042620\n25%      0.044530    0.592430    0.706540\n50%      0.073060    1.213770    1.279210\n75%      0.113300    2.197060    2.284610\nmax      0.312600    3.713270    3.972180",
      "text/html": "<div>\n<style scoped>\n    .dataframe tbody tr th:only-of-type {\n        vertical-align: middle;\n    }\n\n    .dataframe tbody tr th {\n        vertical-align: top;\n    }\n\n    .dataframe thead th {\n        text-align: right;\n    }\n</style>\n<table border=\"1\" class=\"dataframe\">\n  <thead>\n    <tr style=\"text-align: right;\">\n      <th></th>\n      <th>ivl</th>\n      <th>start</th>\n      <th>stop</th>\n    </tr>\n  </thead>\n  <tbody>\n    <tr>\n      <th>count</th>\n      <td>133.000000</td>\n      <td>133.000000</td>\n      <td>133.000000</td>\n    </tr>\n    <tr>\n      <th>mean</th>\n      <td>0.086957</td>\n      <td>1.417308</td>\n      <td>1.504264</td>\n    </tr>\n    <tr>\n      <th>std</th>\n      <td>0.061730</td>\n      <td>0.998314</td>\n      <td>1.009050</td>\n    </tr>\n    <tr>\n      <th>min</th>\n      <td>0.006800</td>\n      <td>0.000000</td>\n      <td>0.042620</td>\n    </tr>\n    <tr>\n      <th>25%</th>\n      <td>0.044530</td>\n      <td>0.592430</td>\n      <td>0.706540</td>\n    </tr>\n    <tr>\n      <th>50%</th>\n      <td>0.073060</td>\n      <td>1.213770</td>\n      <td>1.279210</td>\n    </tr>\n    <tr>\n      <th>75%</th>\n      <td>0.113300</td>\n      <td>2.197060</td>\n      <td>2.284610</td>\n    </tr>\n    <tr>\n      <th>max</th>\n      <td>0.312600</td>\n      <td>3.713270</td>\n      <td>3.972180</td>\n    </tr>\n  </tbody>\n</table>\n</div>"
     },
     "metadata": {},
     "output_type": "display_data"
    },
    {
     "name": "stdout",
     "output_type": "stream",
     "text": [
      "Feature Audio Length: 0.07306000000000035\n"
     ]
    }
   ],
   "source": [
    "chunk_char_df['ivl'] = chunk_char_df['stop'] - chunk_char_df['start']\n",
    "display(chunk_char_df[['ivl', 'start', 'stop']].describe())\n",
    "\n",
    "# median interval may be used for feature audio length\n",
    "feat_audio_len_s = chunk_char_df['ivl'].median()\n",
    "print(f'Feature Audio Length: {feat_audio_len_s}')"
   ],
   "metadata": {
    "collapsed": false,
    "pycharm": {
     "name": "#%%\n"
    }
   }
  },
  {
   "cell_type": "markdown",
   "source": [
    "## Event Marker Data\n",
    "\n",
    "Dictionary of audio_file -> list of event marker times.\n"
   ],
   "metadata": {
    "collapsed": false
   }
  },
  {
   "cell_type": "code",
   "execution_count": 4,
   "outputs": [
    {
     "name": "stdout",
     "output_type": "stream",
     "text": [
      "{'data/korean-single-speaker/kss/1/1_0000.wav': {'dur': 3.52653, 'events': array([0.14298, 0.17326, 0.25143, 0.3011 , 0.39456, 0.49473, 0.52397,\n",
      "       0.5717 , 0.66385, 0.71846, 0.73074, 0.7928 , 0.86105, 0.8947 ,\n",
      "       0.94568, 0.98747, 1.00429, 1.05658, 1.12825, 1.20548, 1.24674,\n",
      "       1.27921, 1.33187, 1.35667, 1.50828, 1.54819, 1.5778 , 1.73609,\n",
      "       2.04869, 2.15518, 2.28461, 2.3443 , 2.37857, 2.45163, 2.53042,\n",
      "       2.55297, 2.61609, 2.63233, 2.68239, 2.7029 , 2.76329, 2.86374,\n",
      "       2.8825 , 2.95272, 3.14772, 3.1583 , 3.4173 ])}, 'data/korean-single-speaker/kss/1/1_0001.wav': {'dur': 3.97218, 'events': array([0.0927 , 0.12765, 0.17218, 0.2192 , 0.2473 , 0.41173, 0.50644,\n",
      "       0.57461, 0.59243, 0.64042, 0.70654, 0.81835, 0.83326, 0.95153,\n",
      "       1.09444, 1.11834, 1.20856, 1.37623, 1.59665, 1.64288, 1.76991,\n",
      "       1.89271, 1.99178, 2.06911, 2.15357, 2.19706, 2.26984, 2.40939,\n",
      "       2.50919, 2.78858, 2.85241, 2.89864, 2.99798, 3.0465 , 3.09567,\n",
      "       3.16021, 3.20729, 3.33246, 3.50541, 3.52027, 3.71327])}, 'data/korean-single-speaker/kss/1/1_0002.wav': {'dur': 1.75902, 'events': array([0.04262, 0.15592, 0.26336, 0.34202, 0.35254, 0.43745, 0.49675,\n",
      "       0.60145, 0.71494, 0.87711, 0.99477, 1.07471, 1.09687, 1.21377,\n",
      "       1.34784, 1.45645, 1.48269, 1.66714])}, 'data/korean-single-speaker/kss/1/1_0003.wav': {'dur': 2.30753, 'events': array([0.08071, 0.12089, 0.15231, 0.20956, 0.30481, 0.48924, 0.75129,\n",
      "       0.88808, 0.94573, 1.02123, 1.06647, 1.15844, 1.23614, 1.24294,\n",
      "       1.39564, 1.4555 , 1.5327 , 1.75352, 1.78153, 1.83571, 1.97293,\n",
      "       1.98396, 2.1979 ])}}\n",
      "{'data/korean-single-speaker/kss/1/1_0000.wav': {'dur': 3.52653, 'events': array([0.14298, 0.25143, 0.49473, 0.52397, 0.71846, 0.73074, 0.8947 ,\n",
      "       0.98747, 1.00429, 1.20548, 1.33187, 1.50828, 1.54819, 1.73609,\n",
      "       2.04869, 2.15518, 2.3443 , 2.53042, 2.63233, 2.68239, 2.86374,\n",
      "       3.14772, 3.4173 ])}, 'data/korean-single-speaker/kss/1/1_0001.wav': {'dur': 3.97218, 'events': array([0.0927 , 0.17218, 0.2473 , 0.41173, 0.57461, 0.70654, 0.83326,\n",
      "       1.09444, 1.20856, 1.37623, 1.59665, 1.64288, 1.76991, 2.06911,\n",
      "       2.19706, 2.50919, 2.78858, 2.99798, 3.09567, 3.20729, 3.50541,\n",
      "       3.71327])}, 'data/korean-single-speaker/kss/1/1_0002.wav': {'dur': 1.75902, 'events': array([0.04262, 0.26336, 0.34202, 0.49675, 0.71494, 0.87711, 0.99477,\n",
      "       1.07471, 1.21377, 1.45645, 1.66714])}, 'data/korean-single-speaker/kss/1/1_0003.wav': {'dur': 2.30753, 'events': array([0.08071, 0.15231, 0.48924, 0.75129, 0.88808, 1.02123, 1.23614,\n",
      "       1.4555 , 1.5327 , 1.75352, 1.97293, 2.1979 ])}}\n"
     ]
    }
   ],
   "source": [
    "char_event_dict = {}\n",
    "syl_event_dict = {}\n",
    "audio_files_char = chunk_char_df['audio'].unique()\n",
    "audio_files_syl = chunk_syl_df['audio'].unique()\n",
    "audio_files = np.unique(np.concatenate((audio_files_char, audio_files_syl)))\n",
    "\n",
    "# Warning: The audio file duration is from the 'stop' time of the last event.\n",
    "# This isn't really guaranteed to be the duration, but it avoids having to load the audio file.\n",
    "for audio_file in audio_files:\n",
    "    # Get all start events except for the first one (which is the start of the file)\n",
    "    char_events = chunk_char_df[chunk_char_df['audio'] == audio_file]['start'].values[1:]\n",
    "    syl_events = chunk_syl_df[chunk_syl_df['audio'] == audio_file]['start'].values[1:]\n",
    "    dur = chunk_char_df[chunk_char_df['audio'] == audio_file]['stop'].values[-1]\n",
    "    char_event_dict[audio_file] = { 'dur': dur, 'events': char_events }\n",
    "    syl_event_dict[audio_file] = { 'dur': dur, 'events': syl_events }\n",
    "\n",
    "print(char_event_dict)\n",
    "print(syl_event_dict)"
   ],
   "metadata": {
    "collapsed": false,
    "pycharm": {
     "name": "#%%\n"
    }
   }
  },
  {
   "cell_type": "markdown",
   "source": [
    "## Audio Data\n",
    "\n",
    "* Create timestamps with equivalent intervals and \"cover\" the full audio file with those intervals\n",
    " (later the audio file will be padded as needed)\n",
    "* Find the event closest to the midpoint of those intervals\n",
    "  * if there is no event, that interval's event value is NaN\n",
    "  * else event value = (midpoint - event)\n",
    "\n",
    "DF\n",
    "\n",
    "i_start, i_stop, i_midpoint, event_offset, audio_dur, audio"
   ],
   "metadata": {
    "collapsed": false
   }
  },
  {
   "cell_type": "code",
   "execution_count": 173,
   "outputs": [],
   "source": [
    "window_size_s = 0.5\n",
    "# window_stride_s = 0.005"
   ],
   "metadata": {
    "collapsed": false,
    "pycharm": {
     "name": "#%%\n"
    }
   }
  },
  {
   "cell_type": "code",
   "execution_count": 44,
   "outputs": [
    {
     "name": "stdout",
     "output_type": "stream",
     "text": [
      "True     1214\n",
      "False    1101\n",
      "Name: valid_event, dtype: int64\n",
      "----\n",
      "False    1451\n",
      "True      864\n",
      "Name: valid_event, dtype: int64\n"
     ]
    },
    {
     "data": {
      "text/plain": "      i_start  i_stop  i_midpoint  nearest_event  audio_dur  \\\n0       0.000   0.100       0.050        0.08071    3.52653   \n1       0.005   0.105       0.055        0.08071    3.52653   \n2       0.010   0.110       0.060        0.08071    3.52653   \n3       0.015   0.115       0.065        0.08071    3.52653   \n4       0.020   0.120       0.070        0.08071    3.52653   \n...       ...     ...         ...            ...        ...   \n2310    2.285   2.385       2.335        2.19790    2.30753   \n2311    2.290   2.390       2.340        2.19790    2.30753   \n2312    2.295   2.395       2.345        2.19790    2.30753   \n2313    2.300   2.400       2.350        2.19790    2.30753   \n2314    2.305   2.405       2.355        2.19790    2.30753   \n\n                                            audio  evt_dist  valid_event  \n0     data/korean-single-speaker/kss/1/1_0000.wav   0.03071         True  \n1     data/korean-single-speaker/kss/1/1_0000.wav   0.02571         True  \n2     data/korean-single-speaker/kss/1/1_0000.wav   0.02071         True  \n3     data/korean-single-speaker/kss/1/1_0000.wav   0.01571         True  \n4     data/korean-single-speaker/kss/1/1_0000.wav   0.01071         True  \n...                                           ...       ...          ...  \n2310  data/korean-single-speaker/kss/1/1_0003.wav  -0.13710        False  \n2311  data/korean-single-speaker/kss/1/1_0003.wav  -0.14210        False  \n2312  data/korean-single-speaker/kss/1/1_0003.wav  -0.14710        False  \n2313  data/korean-single-speaker/kss/1/1_0003.wav  -0.15210        False  \n2314  data/korean-single-speaker/kss/1/1_0003.wav  -0.15710        False  \n\n[2315 rows x 8 columns]",
      "text/html": "<div>\n<style scoped>\n    .dataframe tbody tr th:only-of-type {\n        vertical-align: middle;\n    }\n\n    .dataframe tbody tr th {\n        vertical-align: top;\n    }\n\n    .dataframe thead th {\n        text-align: right;\n    }\n</style>\n<table border=\"1\" class=\"dataframe\">\n  <thead>\n    <tr style=\"text-align: right;\">\n      <th></th>\n      <th>i_start</th>\n      <th>i_stop</th>\n      <th>i_midpoint</th>\n      <th>nearest_event</th>\n      <th>audio_dur</th>\n      <th>audio</th>\n      <th>evt_dist</th>\n      <th>valid_event</th>\n    </tr>\n  </thead>\n  <tbody>\n    <tr>\n      <th>0</th>\n      <td>0.000</td>\n      <td>0.100</td>\n      <td>0.050</td>\n      <td>0.08071</td>\n      <td>3.52653</td>\n      <td>data/korean-single-speaker/kss/1/1_0000.wav</td>\n      <td>0.03071</td>\n      <td>True</td>\n    </tr>\n    <tr>\n      <th>1</th>\n      <td>0.005</td>\n      <td>0.105</td>\n      <td>0.055</td>\n      <td>0.08071</td>\n      <td>3.52653</td>\n      <td>data/korean-single-speaker/kss/1/1_0000.wav</td>\n      <td>0.02571</td>\n      <td>True</td>\n    </tr>\n    <tr>\n      <th>2</th>\n      <td>0.010</td>\n      <td>0.110</td>\n      <td>0.060</td>\n      <td>0.08071</td>\n      <td>3.52653</td>\n      <td>data/korean-single-speaker/kss/1/1_0000.wav</td>\n      <td>0.02071</td>\n      <td>True</td>\n    </tr>\n    <tr>\n      <th>3</th>\n      <td>0.015</td>\n      <td>0.115</td>\n      <td>0.065</td>\n      <td>0.08071</td>\n      <td>3.52653</td>\n      <td>data/korean-single-speaker/kss/1/1_0000.wav</td>\n      <td>0.01571</td>\n      <td>True</td>\n    </tr>\n    <tr>\n      <th>4</th>\n      <td>0.020</td>\n      <td>0.120</td>\n      <td>0.070</td>\n      <td>0.08071</td>\n      <td>3.52653</td>\n      <td>data/korean-single-speaker/kss/1/1_0000.wav</td>\n      <td>0.01071</td>\n      <td>True</td>\n    </tr>\n    <tr>\n      <th>...</th>\n      <td>...</td>\n      <td>...</td>\n      <td>...</td>\n      <td>...</td>\n      <td>...</td>\n      <td>...</td>\n      <td>...</td>\n      <td>...</td>\n    </tr>\n    <tr>\n      <th>2310</th>\n      <td>2.285</td>\n      <td>2.385</td>\n      <td>2.335</td>\n      <td>2.19790</td>\n      <td>2.30753</td>\n      <td>data/korean-single-speaker/kss/1/1_0003.wav</td>\n      <td>-0.13710</td>\n      <td>False</td>\n    </tr>\n    <tr>\n      <th>2311</th>\n      <td>2.290</td>\n      <td>2.390</td>\n      <td>2.340</td>\n      <td>2.19790</td>\n      <td>2.30753</td>\n      <td>data/korean-single-speaker/kss/1/1_0003.wav</td>\n      <td>-0.14210</td>\n      <td>False</td>\n    </tr>\n    <tr>\n      <th>2312</th>\n      <td>2.295</td>\n      <td>2.395</td>\n      <td>2.345</td>\n      <td>2.19790</td>\n      <td>2.30753</td>\n      <td>data/korean-single-speaker/kss/1/1_0003.wav</td>\n      <td>-0.14710</td>\n      <td>False</td>\n    </tr>\n    <tr>\n      <th>2313</th>\n      <td>2.300</td>\n      <td>2.400</td>\n      <td>2.350</td>\n      <td>2.19790</td>\n      <td>2.30753</td>\n      <td>data/korean-single-speaker/kss/1/1_0003.wav</td>\n      <td>-0.15210</td>\n      <td>False</td>\n    </tr>\n    <tr>\n      <th>2314</th>\n      <td>2.305</td>\n      <td>2.405</td>\n      <td>2.355</td>\n      <td>2.19790</td>\n      <td>2.30753</td>\n      <td>data/korean-single-speaker/kss/1/1_0003.wav</td>\n      <td>-0.15710</td>\n      <td>False</td>\n    </tr>\n  </tbody>\n</table>\n<p>2315 rows × 8 columns</p>\n</div>"
     },
     "metadata": {},
     "output_type": "display_data"
    },
    {
     "data": {
      "text/plain": "      i_start  i_stop  i_midpoint  nearest_event  audio_dur  \\\n0       0.000   0.100       0.050        0.08071    3.52653   \n1       0.005   0.105       0.055        0.08071    3.52653   \n2       0.010   0.110       0.060        0.08071    3.52653   \n3       0.015   0.115       0.065        0.08071    3.52653   \n4       0.020   0.120       0.070        0.08071    3.52653   \n...       ...     ...         ...            ...        ...   \n2310    2.285   2.385       2.335        2.19790    2.30753   \n2311    2.290   2.390       2.340        2.19790    2.30753   \n2312    2.295   2.395       2.345        2.19790    2.30753   \n2313    2.300   2.400       2.350        2.19790    2.30753   \n2314    2.305   2.405       2.355        2.19790    2.30753   \n\n                                            audio  evt_dist  valid_event  \n0     data/korean-single-speaker/kss/1/1_0000.wav   0.03071         True  \n1     data/korean-single-speaker/kss/1/1_0000.wav   0.02571         True  \n2     data/korean-single-speaker/kss/1/1_0000.wav   0.02071         True  \n3     data/korean-single-speaker/kss/1/1_0000.wav   0.01571         True  \n4     data/korean-single-speaker/kss/1/1_0000.wav   0.01071         True  \n...                                           ...       ...          ...  \n2310  data/korean-single-speaker/kss/1/1_0003.wav  -0.13710        False  \n2311  data/korean-single-speaker/kss/1/1_0003.wav  -0.14210        False  \n2312  data/korean-single-speaker/kss/1/1_0003.wav  -0.14710        False  \n2313  data/korean-single-speaker/kss/1/1_0003.wav  -0.15210        False  \n2314  data/korean-single-speaker/kss/1/1_0003.wav  -0.15710        False  \n\n[2315 rows x 8 columns]",
      "text/html": "<div>\n<style scoped>\n    .dataframe tbody tr th:only-of-type {\n        vertical-align: middle;\n    }\n\n    .dataframe tbody tr th {\n        vertical-align: top;\n    }\n\n    .dataframe thead th {\n        text-align: right;\n    }\n</style>\n<table border=\"1\" class=\"dataframe\">\n  <thead>\n    <tr style=\"text-align: right;\">\n      <th></th>\n      <th>i_start</th>\n      <th>i_stop</th>\n      <th>i_midpoint</th>\n      <th>nearest_event</th>\n      <th>audio_dur</th>\n      <th>audio</th>\n      <th>evt_dist</th>\n      <th>valid_event</th>\n    </tr>\n  </thead>\n  <tbody>\n    <tr>\n      <th>0</th>\n      <td>0.000</td>\n      <td>0.100</td>\n      <td>0.050</td>\n      <td>0.08071</td>\n      <td>3.52653</td>\n      <td>data/korean-single-speaker/kss/1/1_0000.wav</td>\n      <td>0.03071</td>\n      <td>True</td>\n    </tr>\n    <tr>\n      <th>1</th>\n      <td>0.005</td>\n      <td>0.105</td>\n      <td>0.055</td>\n      <td>0.08071</td>\n      <td>3.52653</td>\n      <td>data/korean-single-speaker/kss/1/1_0000.wav</td>\n      <td>0.02571</td>\n      <td>True</td>\n    </tr>\n    <tr>\n      <th>2</th>\n      <td>0.010</td>\n      <td>0.110</td>\n      <td>0.060</td>\n      <td>0.08071</td>\n      <td>3.52653</td>\n      <td>data/korean-single-speaker/kss/1/1_0000.wav</td>\n      <td>0.02071</td>\n      <td>True</td>\n    </tr>\n    <tr>\n      <th>3</th>\n      <td>0.015</td>\n      <td>0.115</td>\n      <td>0.065</td>\n      <td>0.08071</td>\n      <td>3.52653</td>\n      <td>data/korean-single-speaker/kss/1/1_0000.wav</td>\n      <td>0.01571</td>\n      <td>True</td>\n    </tr>\n    <tr>\n      <th>4</th>\n      <td>0.020</td>\n      <td>0.120</td>\n      <td>0.070</td>\n      <td>0.08071</td>\n      <td>3.52653</td>\n      <td>data/korean-single-speaker/kss/1/1_0000.wav</td>\n      <td>0.01071</td>\n      <td>True</td>\n    </tr>\n    <tr>\n      <th>...</th>\n      <td>...</td>\n      <td>...</td>\n      <td>...</td>\n      <td>...</td>\n      <td>...</td>\n      <td>...</td>\n      <td>...</td>\n      <td>...</td>\n    </tr>\n    <tr>\n      <th>2310</th>\n      <td>2.285</td>\n      <td>2.385</td>\n      <td>2.335</td>\n      <td>2.19790</td>\n      <td>2.30753</td>\n      <td>data/korean-single-speaker/kss/1/1_0003.wav</td>\n      <td>-0.13710</td>\n      <td>False</td>\n    </tr>\n    <tr>\n      <th>2311</th>\n      <td>2.290</td>\n      <td>2.390</td>\n      <td>2.340</td>\n      <td>2.19790</td>\n      <td>2.30753</td>\n      <td>data/korean-single-speaker/kss/1/1_0003.wav</td>\n      <td>-0.14210</td>\n      <td>False</td>\n    </tr>\n    <tr>\n      <th>2312</th>\n      <td>2.295</td>\n      <td>2.395</td>\n      <td>2.345</td>\n      <td>2.19790</td>\n      <td>2.30753</td>\n      <td>data/korean-single-speaker/kss/1/1_0003.wav</td>\n      <td>-0.14710</td>\n      <td>False</td>\n    </tr>\n    <tr>\n      <th>2313</th>\n      <td>2.300</td>\n      <td>2.400</td>\n      <td>2.350</td>\n      <td>2.19790</td>\n      <td>2.30753</td>\n      <td>data/korean-single-speaker/kss/1/1_0003.wav</td>\n      <td>-0.15210</td>\n      <td>False</td>\n    </tr>\n    <tr>\n      <th>2314</th>\n      <td>2.305</td>\n      <td>2.405</td>\n      <td>2.355</td>\n      <td>2.19790</td>\n      <td>2.30753</td>\n      <td>data/korean-single-speaker/kss/1/1_0003.wav</td>\n      <td>-0.15710</td>\n      <td>False</td>\n    </tr>\n  </tbody>\n</table>\n<p>2315 rows × 8 columns</p>\n</div>"
     },
     "metadata": {},
     "output_type": "display_data"
    }
   ],
   "source": [
    "def find_nearest_event(t, event_list):\n",
    "    event_dists = abs(event_list - t)\n",
    "    nearest_event_idx = np.argmin(event_dists)\n",
    "    return event_list[nearest_event_idx]\n",
    "\n",
    "def a_round(val):\n",
    "    return round(val, 6) if isinstance(val, float) else val\n",
    "\n",
    "def create_audio_df(event_dict, filenames):\n",
    "    df_dict = {\n",
    "        'i_start': [],\n",
    "        'i_stop': [],\n",
    "        'i_midpoint': [],\n",
    "        'nearest_event': [],\n",
    "        'audio_dur': [],\n",
    "        'audio': []\n",
    "    }\n",
    "    for fn in filenames:\n",
    "        dur = event_dict[fn]['dur']\n",
    "        ptr = 0.0\n",
    "\n",
    "        while ptr < dur:\n",
    "            w_start = ptr\n",
    "            w_stop = ptr + window_size_s\n",
    "            w_midpoint = w_start + (w_stop - w_start)/2\n",
    "\n",
    "            nearest = find_nearest_event(w_midpoint, event_dict[audio_file]['events'])\n",
    "            # offset = nearest - w_midpoint\n",
    "            # offset_is_in_window = abs(offset) > window_size_s / 2\n",
    "            # event_offset_val = offset if offset_is_in_window  else None\n",
    "\n",
    "            df_dict['i_start'].append(a_round(w_start))\n",
    "            df_dict['i_stop'].append(a_round(w_stop))\n",
    "            df_dict['i_midpoint'].append(a_round(w_midpoint))\n",
    "            df_dict['nearest_event'].append(a_round(nearest))\n",
    "            # df_dict['event_offset'].append(a_round(event_offset_val))\n",
    "            df_dict['audio_dur'].append(dur)\n",
    "            df_dict['audio'].append(fn)\n",
    "\n",
    "            ptr = a_round(ptr + window_stride_s)\n",
    "\n",
    "    audio_df = pd.DataFrame.from_dict(df_dict)\n",
    "    audio_df['evt_dist'] = audio_df['nearest_event'] - audio_df['i_midpoint']\n",
    "    audio_df['valid_event'] = audio_df['evt_dist'].abs() < (window_size_s / 2)\n",
    "    return audio_df\n",
    "\n",
    "audio_char_df = create_audio_df(char_event_dict, audio_files)\n",
    "print(audio_char_df['valid_event'].value_counts())\n",
    "display(audio_char_df)\n",
    "print('----')\n",
    "audio_syl_df = create_audio_df(syl_event_dict, audio_files)\n",
    "print(audio_syl_df['valid_event'].value_counts())\n",
    "display(audio_syl_df)"
   ],
   "metadata": {
    "collapsed": false,
    "pycharm": {
     "name": "#%%\n"
    }
   }
  },
  {
   "cell_type": "markdown",
   "source": [
    "## Feature Prep\n",
    "\n",
    "X is slices of audio with window_size_s duration\n",
    "\n",
    "y is valid_event boolean\n",
    "\n",
    "TODO: Normalize the data across audio files\n"
   ],
   "metadata": {
    "collapsed": false,
    "pycharm": {
     "name": "#%% md\n"
    }
   }
  },
  {
   "cell_type": "code",
   "execution_count": 135,
   "outputs": [
    {
     "name": "stdout",
     "output_type": "stream",
     "text": [
      "Outer Type: <class 'list'>\n",
      "Inner Types: {<class 'numpy.ndarray'>}\n",
      "Outer Len: 2315\n",
      "Inner Shapes: {(2205,), (2206,), (2204,)}\n",
      "shape: (2315, 2206)\n",
      "global max: 0.8861199021339417\n",
      "global min: -0.980661153793335\n",
      "global mean: 6.5532553890079726e-06\n",
      "global median: 0.0002509787445887923\n",
      "X shape: (2315, 2206)\n",
      "y shape: (2315,)\n",
      "shape: (2315, 2206)\n",
      "global max: 1.0\n",
      "global min: 0.0\n",
      "global mean: 0.5253255367279053\n",
      "global median: 0.5254564881324768\n"
     ]
    },
    {
     "name": "stderr",
     "output_type": "stream",
     "text": [
      "/Users/dev/Projects/korean-ml/venv/lib/python3.9/site-packages/numpy/core/_asarray.py:83: VisibleDeprecationWarning: Creating an ndarray from ragged nested sequences (which is a list-or-tuple of lists-or-tuples-or ndarrays with different lengths or shapes) is deprecated. If you meant to do this, you must specify 'dtype=object' when creating the ndarray\n",
      "  return array(a, dtype, copy=False, order=order)\n"
     ]
    }
   ],
   "source": [
    "import math\n",
    "from keras.preprocessing.sequence import pad_sequences\n",
    "from scipy import stats\n",
    "from sklearn.utils import shuffle\n",
    "\n",
    "\n",
    "audio_dict = {}\n",
    "\n",
    "for fn in audio_files:\n",
    "    wav, sr = librosa.load(fn)\n",
    "    audio_dict[fn] = {'sr': sr, 'wav': wav}\n",
    "\n",
    "# print(audio_dict['data/korean-single-speaker/kss/1/1_0000.wav'])\n",
    "# print(audio_dict['data/korean-single-speaker/kss/1/1_0003.wav'])\n",
    "def pr_stats(a):\n",
    "    # stats_a = stats.describe(a)\n",
    "    print(f'shape: {a.shape}')\n",
    "    print(f'global max: {np.amax(a)}')\n",
    "    print(f'global min: {np.amin(a)}')\n",
    "    print(f'global mean: {np.mean(a)}')\n",
    "    print(f'global median: {np.median(a)}')\n",
    "\n",
    "def ls_of_a_stats(a):\n",
    "    types = [type(ls) for ls in a]\n",
    "\n",
    "    print(f'Outer Type: {type(a)}')\n",
    "    print(f'Inner Types: {set(types)}')\n",
    "\n",
    "    print(f'Outer Len: {len(a)}')\n",
    "    shapes = [ls.shape for ls in a]\n",
    "    print(f'Inner Shapes: {set(shapes)}')\n",
    "\n",
    "    # stats_ls = [stats.describe(ls) for ls in a]\n",
    "    # print(f'stats: {set(stats_ls)}')\n",
    "\n",
    "def pad_trunc(a, size):\n",
    "    # print(f'pad_trunc input, a shape: {a.shape}, fix to size: {size}')\n",
    "    if len(a) < size:\n",
    "        pad_size = size - len(a)\n",
    "        a = np.pad(a, pad_size, 'edge')\n",
    "    if len(a) > size:\n",
    "        a = a[0:size]\n",
    "    # print(f'pad_trunc output, a shape: {a.shape}')\n",
    "    return a\n",
    "\n",
    "class AudioPrep:\n",
    "\n",
    "    def __init__(self, wav, sr, pad_s=(0,0)):\n",
    "            self.sr = sr\n",
    "            self.pad_samps = tuple(map(self.t_to_samps, pad_s))\n",
    "            self.wav = np.pad(wav, self.pad_samps, 'edge')\n",
    "\n",
    "    def t_to_samps(self, t):\n",
    "            return int(math.ceil(t * self.sr))\n",
    "\n",
    "    # ivls is numpy array of  [start, stop] timestamps\n",
    "    def slice_by_time(self, ivls):\n",
    "        idxs = (ivls * self.sr).astype(int)\n",
    "        slices = np.asarray([self.wav[rs[0]:rs[1]] for rs in idxs])\n",
    "        # [print([pr_stats(slice) for slice in slices])]\n",
    "        return slices\n",
    "\n",
    "def get_ivls_np(audio_df, f):\n",
    "    return audio_df[audio_df['audio'] == f][['i_start', 'i_stop']].values\n",
    "\n",
    "\n",
    "def get_X(audio_wav_dict, audio_df, f):\n",
    "    ap = AudioPrep(audio_wav_dict[f]['wav'], audio_wav_dict[f]['sr'], (0,window_size_s))\n",
    "    ivs = get_ivls_np(audio_df, f)\n",
    "    return ap.slice_by_time(ivs)\n",
    "\n",
    "nested_x = [get_X(audio_dict, audio_char_df, fn) for fn in audio_files]\n",
    "\n",
    "\n",
    "x_ls = [val for x_partial in nested_x for val in x_partial]\n",
    "ls_of_a_stats(x_ls)\n",
    "\n",
    "x_shapes = np.asarray([x_.shape for x_ in x_a ])\n",
    "\n",
    "\n",
    "X = pad_sequences(x_a, padding='post', dtype='float32')\n",
    "pr_stats(X)\n",
    "# X = (X - np.min(X))/np.ptp(X)\n",
    "# print(f'X shape: {X.shape}')\n",
    "\n",
    "\n",
    "y = audio_char_df['valid_event'].values.astype(float)\n",
    "print (f'y shape: {y.shape}')\n",
    "\n",
    "\n",
    "# pr_stats(X)\n",
    "# X, y = shuffle(X, y, random_state=42)\n",
    "#\n",
    "# print(X.shape)\n",
    "# print (y.shape)\n",
    "# nested_stats(X)"
   ],
   "metadata": {
    "collapsed": false,
    "pycharm": {
     "name": "#%%\n"
    }
   }
  },
  {
   "cell_type": "code",
   "execution_count": 151,
   "outputs": [
    {
     "name": "stdout",
     "output_type": "stream",
     "text": [
      "(2315, 2206)\n"
     ]
    },
    {
     "data": {
      "text/plain": "<Figure size 1296x576 with 1 Axes>",
      "image/png": "[encoded data removed]"
     },
     "metadata": {},
     "output_type": "display_data"
    }
   ],
   "source": [
    "x_ = np.arange(y.shape[0])\n",
    "print(X.shape)\n",
    "\n",
    "#\n",
    "fig, ax1  = plt.subplots(figsize=(18,8))\n",
    "fig.suptitle('X and y wav', fontsize=16)\n",
    "# ax1.plot(np.max(X, axis=0))\n",
    "ax1.plot(np.concatenate(X))\n",
    "ax1.plot(np.repeat(y, X.shape[1]))\n",
    "# ax1.scatter(x_, np.concatenate(X), alpha=1)\n",
    "# ax1.scatter(x_, y-0.5, alpha=0.25)\n",
    "plt.show()\n"
   ],
   "metadata": {
    "collapsed": false,
    "pycharm": {
     "name": "#%%\n"
    }
   }
  },
  {
   "cell_type": "markdown",
   "source": [
    "## CNN Model"
   ],
   "metadata": {
    "collapsed": false,
    "pycharm": {
     "name": "#%% md\n"
    }
   }
  },
  {
   "cell_type": "code",
   "execution_count": 175,
   "outputs": [
    {
     "ename": "IndexError",
     "evalue": "index -2315 is out of bounds for axis 1 with size 2206",
     "output_type": "error",
     "traceback": [
      "\u001B[0;31m---------------------------------------------------------------------------\u001B[0m",
      "\u001B[0;31mIndexError\u001B[0m                                Traceback (most recent call last)",
      "\u001B[0;32m<ipython-input-175-02b29519e1ae>\u001B[0m in \u001B[0;36m<module>\u001B[0;34m\u001B[0m\n\u001B[1;32m      5\u001B[0m \u001B[0mseq_length\u001B[0m \u001B[0;34m=\u001B[0m \u001B[0mint\u001B[0m\u001B[0;34m(\u001B[0m\u001B[0mmath\u001B[0m\u001B[0;34m.\u001B[0m\u001B[0mceil\u001B[0m\u001B[0;34m(\u001B[0m\u001B[0mwindow_size_s\u001B[0m \u001B[0;34m*\u001B[0m \u001B[0msr\u001B[0m\u001B[0;34m)\u001B[0m\u001B[0;34m)\u001B[0m\u001B[0;34m\u001B[0m\u001B[0;34m\u001B[0m\u001B[0m\n\u001B[1;32m      6\u001B[0m \u001B[0mtruncate_by\u001B[0m \u001B[0;34m=\u001B[0m \u001B[0mX\u001B[0m\u001B[0;34m.\u001B[0m\u001B[0mshape\u001B[0m\u001B[0;34m[\u001B[0m\u001B[0;36m0\u001B[0m\u001B[0;34m]\u001B[0m \u001B[0;34m%\u001B[0m \u001B[0mseq_length\u001B[0m\u001B[0;34m\u001B[0m\u001B[0;34m\u001B[0m\u001B[0m\n\u001B[0;32m----> 7\u001B[0;31m \u001B[0mX\u001B[0m \u001B[0;34m=\u001B[0m \u001B[0mX\u001B[0m\u001B[0;34m[\u001B[0m\u001B[0;34m:\u001B[0m\u001B[0;34m,\u001B[0m\u001B[0;34m-\u001B[0m\u001B[0mtruncate_by\u001B[0m\u001B[0;34m]\u001B[0m\u001B[0;34m\u001B[0m\u001B[0;34m\u001B[0m\u001B[0m\n\u001B[0m\u001B[1;32m      8\u001B[0m \u001B[0my\u001B[0m\u001B[0;34m[\u001B[0m\u001B[0;34m:\u001B[0m\u001B[0;34m,\u001B[0m\u001B[0;34m-\u001B[0m\u001B[0mtruncate_by\u001B[0m\u001B[0;34m]\u001B[0m\u001B[0;34m\u001B[0m\u001B[0;34m\u001B[0m\u001B[0m\n\u001B[1;32m      9\u001B[0m \u001B[0mprint\u001B[0m\u001B[0;34m(\u001B[0m\u001B[0mtruncate_by\u001B[0m\u001B[0;34m)\u001B[0m\u001B[0;34m\u001B[0m\u001B[0;34m\u001B[0m\u001B[0m\n",
      "\u001B[0;31mIndexError\u001B[0m: index -2315 is out of bounds for axis 1 with size 2206"
     ]
    }
   ],
   "source": [
    "\n",
    "from keras.models import Sequential\n",
    "from keras import layers\n",
    "from keras.optimizers import RMSprop\n",
    "\n",
    "\n",
    "\n",
    "\n",
    "\n",
    "#parameters\n",
    "kernel_size = 4\n",
    "# optimizer=RMSprop(lr=1e-4)\n",
    "optimizer='rmsprop'\n",
    "strides=16\n",
    "\n",
    "\n",
    "model = Sequential()\n",
    "# model.add(layers.Embedding(X.shape[0], kernel_size, input_length=input_length))\n",
    "model.add(layers.Conv1D(32, kernel_size, activation='relu', strides=strides, input_shape=(seq_length, num_features)))\n",
    "model.add(layers.AveragePooling1D(24))\n",
    "model.add(layers.Conv1D(64, kernel_size, activation='relu', strides=strides))\n",
    "model.add(layers.GlobalMaxPooling1D())\n",
    "model.add(layers.Dense(1, activation='sigmoid'))\n",
    "\n",
    "model.summary()\n",
    "\n",
    "model.compile(optimizer=optimizer,\n",
    "              loss='binary_crossentropy',\n",
    "              metrics=['acc'])\n",
    "\n",
    "history = model.fit(X, y,\n",
    "                    epochs=10,\n",
    "                    batch_size=16,\n",
    "                    validation_split=0.2)"
   ],
   "metadata": {
    "collapsed": false,
    "pycharm": {
     "name": "#%%\n"
    }
   }
  },
  {
   "cell_type": "markdown",
   "source": [
    "RNN Model"
   ],
   "metadata": {
    "collapsed": false,
    "pycharm": {
     "name": "#%% md\n"
    }
   }
  },
  {
   "cell_type": "code",
   "execution_count": null,
   "outputs": [],
   "source": [
    "# Parameters\n",
    "timesteps = 8\n",
    "# optimizer=RMSprop(lr=1e-4)\n",
    "optimizer='rmsprop'\n",
    "\n",
    "\n",
    "# Model Input\n",
    "features = X.shape[1]\n",
    "input_shape = (timesteps, features)\n",
    "\n",
    "model = Sequential()\n",
    "model.add(layers.LSTM(32, input_shape=input_shape, activation='relu'))\n",
    "model.add(layers.Dense(1, activation='sigmoid'))\n",
    "\n",
    "model.summary()\n",
    "\n",
    "model.compile(optimizer=optimizer,\n",
    "              loss='binary_crossentropy',\n",
    "              metrics=['acc'])\n",
    "\n",
    "history = model.fit(X, y,\n",
    "                    epochs=10,\n",
    "                    batch_size=16,\n",
    "                    validation_split=0.2)"
   ],
   "metadata": {
    "collapsed": false,
    "pycharm": {
     "name": "#%%\n"
    }
   }
  },
  {
   "cell_type": "code",
   "execution_count": 1,
   "outputs": [
    {
     "ename": "NameError",
     "evalue": "name 'history' is not defined",
     "output_type": "error",
     "traceback": [
      "\u001B[0;31m---------------------------------------------------------------------------\u001B[0m",
      "\u001B[0;31mNameError\u001B[0m                                 Traceback (most recent call last)",
      "\u001B[0;32m<ipython-input-1-71414ad86c4e>\u001B[0m in \u001B[0;36m<module>\u001B[0;34m\u001B[0m\n\u001B[0;32m----> 1\u001B[0;31m \u001B[0macc\u001B[0m \u001B[0;34m=\u001B[0m \u001B[0mhistory\u001B[0m\u001B[0;34m.\u001B[0m\u001B[0mhistory\u001B[0m\u001B[0;34m[\u001B[0m\u001B[0;34m'acc'\u001B[0m\u001B[0;34m]\u001B[0m\u001B[0;34m\u001B[0m\u001B[0;34m\u001B[0m\u001B[0m\n\u001B[0m\u001B[1;32m      2\u001B[0m \u001B[0mval_acc\u001B[0m \u001B[0;34m=\u001B[0m \u001B[0mhistory\u001B[0m\u001B[0;34m.\u001B[0m\u001B[0mhistory\u001B[0m\u001B[0;34m[\u001B[0m\u001B[0;34m'val_acc'\u001B[0m\u001B[0;34m]\u001B[0m\u001B[0;34m\u001B[0m\u001B[0;34m\u001B[0m\u001B[0m\n\u001B[1;32m      3\u001B[0m \u001B[0mloss\u001B[0m \u001B[0;34m=\u001B[0m \u001B[0mhistory\u001B[0m\u001B[0;34m.\u001B[0m\u001B[0mhistory\u001B[0m\u001B[0;34m[\u001B[0m\u001B[0;34m'loss'\u001B[0m\u001B[0;34m]\u001B[0m\u001B[0;34m\u001B[0m\u001B[0;34m\u001B[0m\u001B[0m\n\u001B[1;32m      4\u001B[0m \u001B[0mval_loss\u001B[0m \u001B[0;34m=\u001B[0m \u001B[0mhistory\u001B[0m\u001B[0;34m.\u001B[0m\u001B[0mhistory\u001B[0m\u001B[0;34m[\u001B[0m\u001B[0;34m'val_loss'\u001B[0m\u001B[0;34m]\u001B[0m\u001B[0;34m\u001B[0m\u001B[0;34m\u001B[0m\u001B[0m\n\u001B[1;32m      5\u001B[0m \u001B[0;34m\u001B[0m\u001B[0m\n",
      "\u001B[0;31mNameError\u001B[0m: name 'history' is not defined"
     ]
    }
   ],
   "source": [
    "acc = history.history['acc']\n",
    "val_acc = history.history['val_acc']\n",
    "loss = history.history['loss']\n",
    "val_loss = history.history['val_loss']\n",
    "\n",
    "epochs = range(len(acc))\n",
    "\n",
    "plt.plot(epochs, acc, 'bo', label='Training acc')\n",
    "plt.plot(epochs, val_acc, 'b', label='Validation acc')\n",
    "plt.title('Training and validation accuracy')\n",
    "plt.legend()\n",
    "\n",
    "plt.figure()\n",
    "\n",
    "plt.plot(epochs, loss, 'bo', label='Training loss')\n",
    "plt.plot(epochs, val_loss, 'b', label='Validation loss')\n",
    "plt.title('Training and validation loss')\n",
    "plt.legend()\n",
    "\n",
    "plt.show()"
   ],
   "metadata": {
    "collapsed": false,
    "pycharm": {
     "name": "#%%\n"
    }
   }
  },
  {
   "cell_type": "code",
   "execution_count": 66,
   "outputs": [
    {
     "name": "stdout",
     "output_type": "stream",
     "text": [
      "[[1 1 1 1 1 1 1 1 1 1 1 1 1 1 1 1 1 1 1 1 1 1 1 1 1 1 1 1 1 1 1 1 1 1 1 1\n",
      "  1 1 1 1 1 1 1 1 1 1 1 1 1 1 1 1 1 1 1 1 1 1 1 1 1 1 1 1 1 1 1 1 1 1 1 1\n",
      "  1 1 1 1 1 1 1 1 1 1 1 1 1 1 1 1 1 1 1 1 1 1 1 1 1 1 1 1 1 1 1 1 1 1 1 1\n",
      "  1 1 1 1 1 1 1 1 1 1 1 1 1 1 1 1 1 1 1 1 1 1 1 1 1 1 1 1 1 1 1 1 1 1 1 1\n",
      "  1 1 1 1 1 1 1 1 1 1 1 1 1 1 1 1 1 1 1 1 1 1 1 1 1 1 1 1 1 1 1 1 1 1 1 1\n",
      "  1 1 1 1 1 1 1 1 1 1 1 1 1 1 1 1 1 1 1 1 1 1 1 1 1 1 1 1 1 1 1 1 1 1 1 1\n",
      "  1 1 1 1 1 1 1 1 1 1 1 1 1 1 1 1 1 1 1 1 1 1 1 1 1 1 1 1 1 1 1 1 1 1 1 1\n",
      "  1 1 1 1 1 1 1 1 1 1 1 1 1 1 1 1 1 1 1 1 1 1 1 1 1 1 1 1 1 1 1 1 1 1 1 1\n",
      "  1 1 1 1 1 1 1 1 1 1 1 1 1 1 1 1 1 1 1 1 1 1 1 1 1 1 1 1 1 1 1 1 1 1 1 1\n",
      "  1 1 1 1 1 1 1 1 1 1 1 1 1 1 1 1 1 1 1 1 1 1 1 1 1 1 1 1 1 1 1 1 1 1 1 1\n",
      "  1 1 1 1 1 1 1 1 1 1 1 1 1 1 1 1 1 1 1 1 1 1 1 1 1 1 1 1 1 1 1 1 1 1 1 1\n",
      "  1 1 1 1 1 1 1 1 1 1 1 1 1 1 1 1 1 1 1 1 1 1 1 1 1 1 1 1 1 1 1 1 1 1 1 1\n",
      "  1 1 1 1 1 1 1 1 1 1 1 1 1 1 1 1 1 1]]\n"
     ]
    }
   ],
   "source": [
    "X_test = X[100:550]\n",
    "y_test = model.predict_classes(X_test)\n",
    "\n",
    "print(y_test.reshape(1,-1))"
   ],
   "metadata": {
    "collapsed": false,
    "pycharm": {
     "name": "#%%\n"
    }
   }
  },
  {
   "cell_type": "code",
   "execution_count": null,
   "outputs": [],
   "source": [],
   "metadata": {
    "collapsed": false,
    "pycharm": {
     "name": "#%%\n"
    }
   }
  },
  {
   "cell_type": "code",
   "execution_count": null,
   "outputs": [],
   "source": [
    "\n",
    "\n",
    "\n",
    "data_files = chunk_char_df['audio'].unique()\n",
    "sr_ = None\n",
    "audio_ = None\n",
    "for wv in data_files:\n",
    "    fn = f'{wv}'\n",
    "    print(f'Data file to analyze: {fn}')\n",
    "    print(f'current sample rate: {sr_}')\n",
    "    new_audio_, new_sr_ = librosa.load(fn)\n",
    "    print(f\"latest sample rate: {new_sr_}\")\n",
    "    print(f'new_audio_ shape: {new_audio_.shape}')\n",
    "    if sr_ is None:\n",
    "        sr_ = new_sr_\n",
    "    else:\n",
    "        assert(new_sr_ == sr_)\n",
    "\n",
    "    if audio_ is None:\n",
    "        audio_ = new_audio_\n",
    "    else:\n",
    "        audio_ = np.concatenate((audio_, new_audio_))\n",
    "    print('new audio file min~max range: {0:.2f} to {0:.2f}'.format(np.min(new_audio_), np.max(new_audio_)))\n",
    "    print('full audio file min~max range: {0:.2f} to {0:.2f}'.format(np.min(audio_), np.max(audio_)))\n",
    "\n",
    "\n",
    "\n",
    "\n",
    "\n",
    "ap = AudioPrep(sr_, 0.75)\n",
    "print(ap.size)\n",
    "_b = ap.resize(audio_)\n",
    "\n",
    "print(_b.shape)\n",
    "\n",
    "fig, (ax1) = plt.subplots(nrows=1, ncols=1, figsize=(12,4), tight_layout=True)\n",
    "fig.suptitle('Waveforms', fontsize=16)\n",
    "ax1.set_title(f'librosa ({sr_})')\n",
    "ax1.plot(audio_)"
   ],
   "metadata": {
    "collapsed": false,
    "pycharm": {
     "name": "#%%\n"
    }
   }
  },
  {
   "cell_type": "markdown",
   "source": [
    "## Event Marker (Boundaries) Dataset\n",
    "# audio | event_idx\n",
    "\n"
   ],
   "metadata": {
    "collapsed": false
   }
  },
  {
   "cell_type": "code",
   "execution_count": null,
   "outputs": [],
   "source": [
    "# boundary_audio\n",
    "# boundary_idx | audio_data\n",
    "\n",
    "# boundary_mfcc\n",
    "# boundry_idx | mfcc_data\n"
   ],
   "metadata": {
    "collapsed": false,
    "pycharm": {
     "name": "#%%\n"
    }
   }
  }
 ],
 "metadata": {
  "kernelspec": {
   "name": "python3",
   "display_name": "Python 3",
   "language": "python"
  },
  "language_info": {
   "name": "python",
   "version": "3.7.9",
   "mimetype": "text/x-python",
   "codemirror_mode": {
    "name": "ipython",
    "version": 3
   },
   "pygments_lexer": "ipython3",
   "nbconvert_exporter": "python",
   "file_extension": ".py"
  }
 },
 "nbformat": 4,
 "nbformat_minor": 4
}
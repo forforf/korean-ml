{
 "cells": [
  {
   "cell_type": "code",
   "execution_count": 1,
   "outputs": [],
   "source": [
    "# Copy/Rename generated notebooks to proper directory\n",
    "#   I'm not sure why I do this as a separate step as opposed to generating the notebooks in the target directory\n",
    "#   maybe an overabundance of caution / separation of concerns / bread-crumbs to follow.\n",
    "\n",
    "import shutil\n",
    "import os\n",
    "\n",
    "SRC_DIR = f'{os.getcwd()}/generated-nb'\n",
    "DEST_DIR = f'{SRC_DIR}/../../../kss-event-detection-rms/models'\n",
    "\n",
    "def move_model(model_name, model_family):\n",
    "\n",
    "    src_basename = f'model-{model_family}-{model_name}.nbtplt.ipynb'\n",
    "    src_path = f'{SRC_DIR}/{src_basename}'\n",
    "\n",
    "    dest_basename = f'{model_name}.ipynb'\n",
    "    dest_path = f'{DEST_DIR}/{dest_basename}'\n",
    "\n",
    "    shutil.copy2(src_path, dest_path)"
   ],
   "metadata": {
    "collapsed": false,
    "pycharm": {
     "name": "#%%\n"
    }
   }
  },
  {
   "cell_type": "code",
   "execution_count": 2,
   "outputs": [],
   "source": [
    "# Move multiple models\n",
    "\n",
    "# sklearn_model_names = ['logr', 'svr-rbf', 'tree', 'ada', 'vote-ada-sw']\n",
    "# sklearn_poor_performers = ['svr-lin']\n",
    "# keras_model_names = ['cnn']\n",
    "#\n",
    "# [move_model(n, 'sklearn') for n in sklearn_model_names]\n",
    "# [move_model(n, 'keras') for n in keras_model_names]"
   ],
   "metadata": {
    "collapsed": false,
    "pycharm": {
     "name": "#%%\n"
    }
   }
  },
  {
   "cell_type": "code",
   "execution_count": 3,
   "outputs": [],
   "source": [
    "# Move Specific Model\n",
    "\n",
    "move_model('vote-ada-sw', 'sklearn')\n",
    "# move_model('cnn', 'keras')"
   ],
   "metadata": {
    "collapsed": false,
    "pycharm": {
     "name": "#%%\n"
    }
   }
  }
 ],
 "metadata": {
  "kernelspec": {
   "display_name": "Python 3",
   "language": "python",
   "name": "python3"
  },
  "language_info": {
   "codemirror_mode": {
    "name": "ipython",
    "version": 2
   },
   "file_extension": ".py",
   "mimetype": "text/x-python",
   "name": "python",
   "nbconvert_exporter": "python",
   "pygments_lexer": "ipython2",
   "version": "2.7.6"
  }
 },
 "nbformat": 4,
 "nbformat_minor": 0
}
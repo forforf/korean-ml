{
 "cells": [
  {
   "cell_type": "markdown",
   "execution_count": 1,
   "metadata": {
    "collapsed": false,
    "nbtplt": {
     "id": "title",
     "label": "md"
    },
    "pycharm": {
     "name": "#%% nbtplt title md\n"
    }
   },
   "outputs": [],
   "source": [
    "## Model: Logistic Regression"
   ]
  },
  {
   "cell_type": "code",
   "execution_count": 1,
   "metadata": {
    "nbtplt": {
     "id": "wrapper-imports",
     "label": "code"
    },
    "pycharm": {
     "name": "#%% nbtplt wrapper-imports code\n"
    }
   },
   "outputs": [],
   "source": [
    "# Common wrapper for SciKitLearn models\n",
    "from src.model_wrapper import ModelWrapper"
   ]
  },
  {
   "cell_type": "code",
   "execution_count": 2,
   "metadata": {
    "collapsed": false,
    "nbtplt": {
     "id": "model-imports",
     "label": "code"
    },
    "pycharm": {
     "name": "#%% nbtplt model-imports code\n"
    }
   },
   "outputs": [],
   "source": [
    "from sklearn.ensemble import AdaBoostRegressor\n",
    "from sklearn.ensemble import VotingRegressor\n",
    "from src.model_wrapper import ModelWrapperRegressor"
   ]
  },
  {
   "cell_type": "code",
   "execution_count": 4,
   "metadata": {
    "pycharm": {
     "name": "#%%\n"
    }
   },
   "outputs": [
    {
     "data": {
      "text/markdown": [
       "SlidingWindow"
      ],
      "text/plain": [
       "<IPython.core.display.Markdown object>"
      ]
     },
     "metadata": {},
     "output_type": "display_data"
    },
    {
     "data": {
      "text/plain": [
       "SlidingWindow(offset_percent=0.75, window=128)"
      ]
     },
     "metadata": {},
     "output_type": "display_data"
    }
   ],
   "source": [
    "# Should be in main template\n",
    "# sliding_window = SlidingWindow(window=128, offset_percent=0.75)\n",
    "# disp.obj(sliding_window, label='SlidingWindow')"
   ]
  },
  {
   "cell_type": "code",
   "execution_count": 3,
   "metadata": {
    "collapsed": false,
    "nbtplt": {
     "id": "feature-transformer",
     "label": ""
    },
    "pycharm": {
     "name": "#%% nbtplt feature-transformer\n"
    }
   },
   "outputs": [
    {
     "ename": "NameError",
     "evalue": "name 'disp' is not defined",
     "output_type": "error",
     "traceback": [
      "\u001b[0;31m---------------------------------------------------------------------------\u001b[0m",
      "\u001b[0;31mNameError\u001b[0m                                 Traceback (most recent call last)",
      "\u001b[0;32m<ipython-input-3-061b43965396>\u001b[0m in \u001b[0;36m<module>\u001b[0;34m\u001b[0m\n\u001b[1;32m      1\u001b[0m \u001b[0mfeature_transformer\u001b[0m \u001b[0;34m=\u001b[0m \u001b[0;32mNone\u001b[0m\u001b[0;34m\u001b[0m\u001b[0;34m\u001b[0m\u001b[0m\n\u001b[0;32m----> 2\u001b[0;31m \u001b[0mdisp\u001b[0m\u001b[0;34m.\u001b[0m\u001b[0mobj\u001b[0m\u001b[0;34m(\u001b[0m\u001b[0mfeature_transformer\u001b[0m\u001b[0;34m,\u001b[0m \u001b[0mlabel\u001b[0m\u001b[0;34m=\u001b[0m\u001b[0;34m'Transformer'\u001b[0m\u001b[0;34m)\u001b[0m\u001b[0;34m\u001b[0m\u001b[0;34m\u001b[0m\u001b[0m\n\u001b[0m\u001b[1;32m      3\u001b[0m \u001b[0;34m\u001b[0m\u001b[0m\n",
      "\u001b[0;31mNameError\u001b[0m: name 'disp' is not defined"
     ]
    }
   ],
   "source": [
    "feature_transformer = None\n",
    "disp.obj(feature_transformer, label='Transformer')"
   ]
  },
  {
   "cell_type": "code",
   "execution_count": null,
   "metadata": {
    "collapsed": false,
    "nbtplt": {
     "id": "model-init",
     "label": "code"
    },
    "pycharm": {
     "name": "#%% nbtplt model-init code\n"
    }
   },
   "outputs": [],
   "source": [
    "model_id = 'vote-ada-sw'\n",
    "\n",
    "sw_params = [\n",
    "    {'offset_percent': 0.75, 'window': 128 },\n",
    "    {'offset_percent': 0.75, 'window': 256 },\n",
    "    {'offset_percent': 0.9, 'window': 64 },\n",
    "    {'offset_percent': 0.9, 'window': 32 },\n",
    "    {'offset_percent': 0.5, 'window': 128 }\n",
    "]\n",
    "\n",
    "sw_txfms = [SlidingWindow(**swp) for swp in sw_params]\n",
    "wraps = [ModelWrapperRegressor(f'ada-{i}', AdaBoostRegressor(), transformer=t, save_dir=Project.path.MODEL)\n",
    "         for i, t in enumerate(sw_txfms)]\n",
    "\n",
    "voters = [(f'{w.id}',w) for i, w in enumerate(wraps)]\n",
    "\n",
    "model = VotingRegressor(estimators=voters)"
   ]
  },
  {
   "cell_type": "code",
   "execution_count": null,
   "metadata": {
    "collapsed": false,
    "nbtplt": {
     "id": "wrapper-model-init",
     "label": ""
    },
    "pycharm": {
     "name": "#%% nbtplt wrapper-model-init\n"
    }
   },
   "outputs": [],
   "source": [
    "wrapper = ModelWrapper(model_id, model, transformer=feature_transformer, save_dir=Project.path.MODEL)\n",
    "print(X_train.size)\n",
    "print(y_train.size)\n",
    "wrapper.fit(X_train, y_train)\n",
    "\n",
    "wrapper.save()\n",
    "wrapper_saved = wrapper.load(wrapper.get_current_wrapper_path())\n",
    "wrapper.remove_old_versions(keep=3)"
   ]
  }
 ],
 "metadata": {
  "celltoolbar": "Edit Metadata",
  "kernelspec": {
   "display_name": "Python 3",
   "language": "python",
   "name": "python3"
  },
  "language_info": {
   "codemirror_mode": {
    "name": "ipython",
    "version": 3
   },
   "file_extension": ".py",
   "mimetype": "text/x-python",
   "name": "python",
   "nbconvert_exporter": "python",
   "pygments_lexer": "ipython3",
   "version": "3.9.1"
  }
 },
 "nbformat": 4,
 "nbformat_minor": 4
}

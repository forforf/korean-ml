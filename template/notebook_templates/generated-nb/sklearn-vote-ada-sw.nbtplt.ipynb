{
 "cells": [
  {
   "cell_type": "markdown",
   "execution_count": null,
   "metadata": {
    "collapsed": false,
    "nbtplt": {
     "id": "title",
     "label": "md"
    },
    "pycharm": {
     "name": "#%% nbtplt title md\n"
    }
   },
   "outputs": [],
   "source": [
    "## Model: Logistic Regression"
   ]
  },
  {
   "cell_type": "code",
   "execution_count": 1,
   "metadata": {
    "nbtplt": {
     "id": "wrapper-imports",
     "label": "code"
    },
    "pycharm": {
     "name": "#%% nbtplt wrapper-imports code\n"
    }
   },
   "outputs": [],
   "source": [
    "# Common wrapper for SciKitLearn models\n",
    "from src.model_wrapper import ModelWrapper"
   ]
  },
  {
   "cell_type": "code",
   "execution_count": null,
   "metadata": {
    "collapsed": false,
    "nbtplt": {
     "id": "model-imports",
     "label": "code"
    },
    "pycharm": {
     "name": "#%% nbtplt model-imports code\n"
    }
   },
   "outputs": [],
   "source": [
    "from sklearn.ensemble import AdaBoostClassifier\n",
    "from sklearn.ensemble import VotingClassifier\n",
    "from sklearn.pipeline import Pipeline"
   ]
  },
  {
   "cell_type": "code",
   "execution_count": 4,
   "metadata": {
    "pycharm": {
     "name": "#%%\n"
    }
   },
   "outputs": [
    {
     "data": {
      "text/markdown": [
       "SlidingWindow"
      ],
      "text/plain": [
       "<IPython.core.display.Markdown object>"
      ]
     },
     "metadata": {},
     "output_type": "display_data"
    },
    {
     "data": {
      "text/plain": [
       "SlidingWindow(offset_percent=0.75, window=128)"
      ]
     },
     "metadata": {},
     "output_type": "display_data"
    }
   ],
   "source": [
    "# Should be in main template\n",
    "# sliding_window = SlidingWindow(window=128, offset_percent=0.75)\n",
    "# disp.obj(sliding_window, label='SlidingWindow')"
   ]
  },
  {
   "cell_type": "code",
   "execution_count": null,
   "metadata": {
    "collapsed": false,
    "nbtplt": {
     "id": "feature-transformer",
     "label": ""
    },
    "pycharm": {
     "name": "#%% nbtplt feature-transformer\n"
    }
   },
   "outputs": [],
   "source": [
    "feature_transformer = Foo\n",
    "disp.obj(feature_transformer, label='Transformer')"
   ]
  },
  {
   "cell_type": "code",
   "execution_count": null,
   "metadata": {
    "collapsed": false,
    "nbtplt": {
     "id": "model-init",
     "label": "code"
    },
    "pycharm": {
     "name": "#%% nbtplt model-init code\n"
    }
   },
   "outputs": [],
   "source": [
    "model_id = 'vote-ada-sw'\n",
    "\n",
    "sw_params = [\n",
    "    {'offset_percent': 0.75, 'window': 128 },\n",
    "    {'offset_percent': 0.75, 'window': 256 },\n",
    "    {'offset_percent': 0.9, 'window': 64 },\n",
    "    {'offset_percent': 0.9, 'window': 32 },\n",
    "    {'offset_percent': 0.5, 'window': 128 }\n",
    "]\n",
    "\n",
    "sw_txfms = [SlidingWindow(**swp) for swp in sw_params]\n",
    "steps_for_ests = [[('sw', sw_txfm), ('ada', AdaBoostClassifier())] for sw_txfm in sw_txfms]\n",
    "pipes = [Pipeline(steps) for steps in steps_for_ests]\n",
    "voters = [(f'sw-ada{i}',p) for i, p in enumerate(pipes)]\n",
    "\n",
    "model = VotingClassifier(estimators=voters, voting='soft')"
   ]
  },
  {
   "cell_type": "code",
   "execution_count": null,
   "metadata": {
    "collapsed": false,
    "nbtplt": {
     "id": "wrapper-model-init",
     "label": ""
    },
    "pycharm": {
     "name": "#%% nbtplt wrapper-model-init\n"
    }
   },
   "outputs": [],
   "source": [
    "wrapper = ModelWrapper(model_id, model, transformer=feature_transformer, save_dir=Project.path.MODEL)\n",
    "print(X_train.size)\n",
    "print(y_train.size)\n",
    "wrapper.fit(X_train, y_train)\n",
    "\n",
    "wrapper.save()\n",
    "wrapper_saved = wrapper.load(wrapper.get_current_wrapper_path())\n",
    "wrapper.remove_old_versions(keep=3)"
   ]
  }
 ],
 "metadata": {
  "celltoolbar": "Edit Metadata",
  "kernelspec": {
   "display_name": "Python 3",
   "language": "python",
   "name": "python3"
  },
  "language_info": {
   "codemirror_mode": {
    "name": "ipython",
    "version": 3
   },
   "file_extension": ".py",
   "mimetype": "text/x-python",
   "name": "python",
   "nbconvert_exporter": "python",
   "pygments_lexer": "ipython3",
   "version": "3.9.1"
  }
 },
 "nbformat": 4,
 "nbformat_minor": 4
}

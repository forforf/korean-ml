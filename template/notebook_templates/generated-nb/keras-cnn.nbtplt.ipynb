{
 "cells": [
  {
   "cell_type": "markdown",
   "execution_count": null,
   "metadata": {
    "collapsed": false,
    "nbtplt": {
     "id": "title",
     "label": "md"
    },
    "pycharm": {
     "name": "#%% nbtplt title md\n"
    }
   },
   "outputs": [],
   "source": [
    "## Model: CNN (Convolutional Neural Network)"
   ]
  },
  {
   "cell_type": "code",
   "execution_count": 1,
   "metadata": {
    "nbtplt": {
     "id": "wrapper-imports",
     "label": "code"
    },
    "pycharm": {
     "name": "#%% nbtplt wrapper-imports code\n"
    }
   },
   "outputs": [],
   "source": [
    "# Common wrapper for Keras models\n",
    "from keras.utils.generic_utils import get_custom_objects\n",
    "from src.model_wrapper import KerasModelWrapper"
   ]
  },
  {
   "cell_type": "code",
   "execution_count": null,
   "metadata": {
    "collapsed": false,
    "nbtplt": {
     "id": "model-imports",
     "label": "code"
    },
    "pycharm": {
     "name": "#%% nbtplt model-imports code\n"
    }
   },
   "outputs": [],
   "source": [
    "from keras.models import Sequential\n",
    "from keras import layers\n",
    "from src.custom_loss import conv_loss"
   ]
  },
  {
   "cell_type": "code",
   "execution_count": 4,
   "metadata": {
    "pycharm": {
     "name": "#%%\n"
    }
   },
   "outputs": [
    {
     "data": {
      "text/markdown": [
       "SlidingWindow"
      ],
      "text/plain": [
       "<IPython.core.display.Markdown object>"
      ]
     },
     "metadata": {},
     "output_type": "display_data"
    },
    {
     "data": {
      "text/plain": [
       "SlidingWindow(offset_percent=0.75, window=128)"
      ]
     },
     "metadata": {},
     "output_type": "display_data"
    }
   ],
   "source": [
    "# Should be in main template\n",
    "# sliding_window = SlidingWindow(window=128, offset_percent=0.75)\n",
    "# disp.obj(sliding_window, label='SlidingWindow')"
   ]
  },
  {
   "cell_type": "code",
   "execution_count": null,
   "metadata": {
    "collapsed": false,
    "nbtplt": {
     "id": "feature-transformer",
     "label": ""
    },
    "pycharm": {
     "name": "#%% nbtplt feature-transformer\n"
    }
   },
   "outputs": [],
   "source": [
    "feature_transformer = SlidingWindow(window=128, offset_percent=0.75)\n",
    "disp.obj(feature_transformer, label='Feature Transformer')"
   ]
  },
  {
   "cell_type": "code",
   "execution_count": null,
   "metadata": {
    "collapsed": false,
    "nbtplt": {
     "id": "model-init",
     "label": "code"
    },
    "pycharm": {
     "name": "#%% nbtplt model-init code\n"
    }
   },
   "outputs": [],
   "source": [
    "model_id = 'cnn'\n",
    "kernel_size = 3\n",
    "# optimizer=RMSprop(lr=1e-4)\n",
    "optimizer='rmsprop'\n",
    "strides=1\n",
    "\n",
    "# TODO: Convert to a class so we have access to the model and the compiler\n",
    "# noinspection PyShadowingNames\n",
    "def compile_model(model, optimizer=optimizer, loss='binary_crossentropy'):\n",
    "    model.compile(optimizer=optimizer,\n",
    "                  loss=loss,\n",
    "                  metrics=['acc'],\n",
    "                  run_eagerly=True)\n",
    "    return model\n",
    "\n",
    "\n",
    "# noinspection PyShadowingNames\n",
    "def create_model(input_shape,\n",
    "                 optimizer=optimizer,\n",
    "                 loss='binary_crossentropy',\n",
    "                 kernel_size=3,\n",
    "                 strides=1,\n",
    "                 nn_activation='relu'):\n",
    "    model = Sequential()\n",
    "    model.add(layers.Conv1D(32, kernel_size, activation=nn_activation, strides=strides, input_shape=input_shape))\n",
    "    model.add(layers.AveragePooling1D(24))\n",
    "    model.add(layers.Conv1D(64, kernel_size, activation=nn_activation, strides=strides))\n",
    "    model.add(layers.GlobalMaxPooling1D())\n",
    "    model.add(layers.Dense(1, activation='sigmoid'))\n",
    "\n",
    "    model.summary()\n",
    "\n",
    "    # pass run_eagerly=True if there are problems converting Tensors <-> numpy\n",
    "    return compile_model(model, optimizer, loss)\n",
    "\n",
    "# TODO: Investigate why custom conv_loss performs so badly\n",
    "get_custom_objects().update({'conv_loss': conv_loss})\n",
    "# m = create_model(loss=conv_loss)\n",
    "\n",
    "_X_txfm= feature_transformer.fit_transform(X_train)\n",
    "_X_txfm = _X_txfm.reshape(_X_txfm.shape + (1,))\n",
    "\n",
    "INPUT_SHAPE = (_X_txfm.shape[1], _X_txfm.shape[2])\n",
    "\n",
    "# Create Model\n",
    "model = create_model(INPUT_SHAPE)\n",
    "\n",
    "model.compile(optimizer='rmsprop',\n",
    "              loss='binary_crossentropy',\n",
    "              # loss=conv_loss,\n",
    "              metrics=['acc'],\n",
    "              run_eagerly=True)\n",
    "\n",
    "# Create Wrapper\n",
    "wrapper = KerasModelWrapper(model_id, model, feature_transformer, Project.path.MODEL)\n",
    "\n",
    "\n",
    "# Fitting the Model\n",
    "\n",
    "history1 = wrapper.fit(X_train, y_train,\n",
    "                  epochs=5,\n",
    "                  batch_size=16,\n",
    "                  validation_split=0.2)\n",
    "\n",
    "wrapper.save()\n",
    "wrapper_saved = wrapper.load(wrapper.get_current_wrapper_path())\n",
    "wrapper.remove_old_versions(keep=3)\n",
    "model_loaded = wrapper_saved.model\n",
    "\n",
    "history2 = wrapper_saved.fit(X_train, y_train,\n",
    "                        epochs=5,\n",
    "                        batch_size=16,\n",
    "                        validation_split=0.2)\n",
    "\n",
    "acc1 = history1.history['acc']\n",
    "val_acc1 = history1.history['val_acc']\n",
    "loss1 = history1.history['loss']\n",
    "val_loss1 = history1.history['val_loss']\n",
    "\n",
    "acc2 = acc1 + history2.history['acc']\n",
    "val_acc2 = val_acc1 + history2.history['val_acc']\n",
    "loss2 = loss1 + history2.history['loss']\n",
    "val_loss2 = val_loss1 + history2.history['val_loss']\n",
    "\n",
    "epochs1 = range(len(acc1))\n",
    "epochs2 = range(len(acc2))\n",
    "\n",
    "plt.plot(epochs2, acc2, 'bo', label='Training acc2', color='green')\n",
    "plt.plot(epochs2, val_acc2, 'b', label='Validation acc2', color='green')\n",
    "plt.title('Training and validation accuracy')\n",
    "plt.legend()\n",
    "\n",
    "plt.figure()\n",
    "\n",
    "plt.plot(epochs2, loss2, 'bo', label='Training loss2', color='green')\n",
    "plt.plot(epochs2, val_loss2, 'b', label='Validation loss2', color='green')\n",
    "plt.title('Training and validation loss')\n",
    "plt.legend()\n",
    "\n",
    "plt.show()"
   ]
  },
  {
   "cell_type": "code",
   "execution_count": 5,
   "metadata": {
    "nbtplt": {
     "id": "wrapper-model-init",
     "label": ""
    },
    "pycharm": {
     "name": "#%% nbtplt wrapper-model-init\n"
    }
   },
   "outputs": [],
   "source": [
    "# This cell is a placeholder for the common Keras related code\n",
    "# Right now it is empty, but might be replaced in the future when\n",
    "# we have multiple Keras models.\n"
   ]
  }
 ],
 "metadata": {
  "celltoolbar": "Edit Metadata",
  "kernelspec": {
   "display_name": "Python 3",
   "language": "python",
   "name": "python3"
  },
  "language_info": {
   "codemirror_mode": {
    "name": "ipython",
    "version": 3
   },
   "file_extension": ".py",
   "mimetype": "text/x-python",
   "name": "python",
   "nbconvert_exporter": "python",
   "pygments_lexer": "ipython3",
   "version": "3.9.1"
  }
 },
 "nbformat": 4,
 "nbformat_minor": 4
}

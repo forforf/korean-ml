{
 "cells": [
  {
   "cell_type": "markdown",
   "execution_count": null,
   "metadata": {
    "collapsed": false,
    "nbtplt": {
     "id": "title",
     "label": "md"
    },
    "pycharm": {
     "name": "#%% nbtplt title md\n"
    }
   },
   "outputs": [],
   "source": [
    "## Model: Decision Tree Classifier"
   ]
  },
  {
   "cell_type": "code",
   "execution_count": 1,
   "metadata": {
    "nbtplt": {
     "id": "wrapper-imports",
     "label": "code"
    },
    "pycharm": {
     "name": "#%% nbtplt wrapper-imports code\n"
    }
   },
   "outputs": [],
   "source": [
    "# Common wrapper for SciKitLearn models\n",
    "from src.model_wrapper import get_SKLearnWrapper"
   ]
  },
  {
   "cell_type": "code",
   "execution_count": null,
   "metadata": {
    "collapsed": false,
    "nbtplt": {
     "id": "model-imports",
     "label": "code"
    },
    "pycharm": {
     "name": "#%% nbtplt model-imports code\n"
    }
   },
   "outputs": [],
   "source": [
    "from sklearn.tree import DecisionTreeClassifier"
   ]
  },
  {
   "cell_type": "code",
   "execution_count": 4,
   "metadata": {
    "pycharm": {
     "name": "#%%\n"
    }
   },
   "outputs": [
    {
     "data": {
      "text/markdown": [
       "SlidingWindow"
      ],
      "text/plain": [
       "<IPython.core.display.Markdown object>"
      ]
     },
     "metadata": {},
     "output_type": "display_data"
    },
    {
     "data": {
      "text/plain": [
       "SlidingWindow(offset_percent=0.75, window=128)"
      ]
     },
     "metadata": {},
     "output_type": "display_data"
    }
   ],
   "source": [
    "# Should be in main template\n",
    "# sliding_window = SlidingWindow(window=128, offset_percent=0.75)\n",
    "# disp.obj(sliding_window, label='SlidingWindow')"
   ]
  },
  {
   "cell_type": "code",
   "execution_count": null,
   "metadata": {
    "collapsed": false,
    "nbtplt": {
     "id": "model-init",
     "label": "code"
    },
    "pycharm": {
     "name": "#%% nbtplt model-init code\n"
    }
   },
   "outputs": [],
   "source": [
    "model_id = 'tree'\n",
    "model = DecisionTreeClassifier()"
   ]
  },
  {
   "cell_type": "code",
   "execution_count": 5,
   "metadata": {
    "nbtplt": {
     "id": "wrapper-model-init",
     "label": ""
    },
    "pycharm": {
     "name": "#%% nbtplt wrapper-model-init\n"
    }
   },
   "outputs": [],
   "source": [
    "wrapper = get_SKLearnWrapper(model_id, model, Project.path.MODEL, transformer=sliding_window)\n",
    "print(X_train.size)\n",
    "print(y_train.size)\n",
    "wrapper.fit(X_train, y_train)\n",
    "\n",
    "wrapper.save()\n",
    "wrapper_loaded = wrapper.load()\n",
    "wrapper_saved = get_SKLearnWrapper(model_id, wrapper_loaded, Project.path.MODEL, transformer=sliding_window)\n"
   ]
  }
 ],
 "metadata": {
  "celltoolbar": "Edit Metadata",
  "kernelspec": {
   "display_name": "Python 3",
   "language": "python",
   "name": "python3"
  },
  "language_info": {
   "codemirror_mode": {
    "name": "ipython",
    "version": 3
   },
   "file_extension": ".py",
   "mimetype": "text/x-python",
   "name": "python",
   "nbconvert_exporter": "python",
   "pygments_lexer": "ipython3",
   "version": "3.9.1"
  }
 },
 "nbformat": 4,
 "nbformat_minor": 4
}

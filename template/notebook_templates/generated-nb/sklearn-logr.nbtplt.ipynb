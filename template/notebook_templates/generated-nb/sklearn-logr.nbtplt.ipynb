{
 "cells": [
  {
   "cell_type": "markdown",
   "execution_count": null,
   "metadata": {
    "collapsed": false,
    "nbtplt": {
     "id": "title",
     "label": "md"
    },
    "pycharm": {
     "name": "#%% nbtplt title md\n"
    }
   },
   "outputs": [],
   "source": [
    "## Model: Logistic Regression"
   ]
  },
  {
   "cell_type": "code",
   "execution_count": 1,
   "metadata": {
    "nbtplt": {
     "id": "wrapper-imports",
     "label": "code"
    },
    "pycharm": {
     "name": "#%% nbtplt wrapper-imports code\n"
    }
   },
   "outputs": [],
   "source": [
    "# Common wrapper for SciKitLearn models\n",
    "from src.model_wrapper import ModelWrapper"
   ]
  },
  {
   "cell_type": "code",
   "execution_count": null,
   "metadata": {
    "collapsed": false,
    "nbtplt": {
     "id": "model-imports",
     "label": "code"
    },
    "pycharm": {
     "name": "#%% nbtplt model-imports code\n"
    }
   },
   "outputs": [],
   "source": [
    "from sklearn.linear_model import LogisticRegression"
   ]
  },
  {
   "cell_type": "code",
   "execution_count": 4,
   "metadata": {
    "pycharm": {
     "name": "#%%\n"
    }
   },
   "outputs": [
    {
     "data": {
      "text/markdown": [
       "SlidingWindow"
      ],
      "text/plain": [
       "<IPython.core.display.Markdown object>"
      ]
     },
     "metadata": {},
     "output_type": "display_data"
    },
    {
     "data": {
      "text/plain": [
       "SlidingWindow(offset_percent=0.75, window=128)"
      ]
     },
     "metadata": {},
     "output_type": "display_data"
    }
   ],
   "source": [
    "# Should be in main template\n",
    "# sliding_window = SlidingWindow(window=128, offset_percent=0.75)\n",
    "# disp.obj(sliding_window, label='SlidingWindow')"
   ]
  },
  {
   "cell_type": "code",
   "execution_count": null,
   "metadata": {
    "collapsed": false,
    "nbtplt": {
     "id": "feature-transformer",
     "label": ""
    },
    "pycharm": {
     "name": "#%% nbtplt feature-transformer\n"
    }
   },
   "outputs": [],
   "source": [
    "feature_transformer = SlidingWindow(window=128, offset_percent=0.75)\n",
    "disp.obj(feature_transformer, label='Feature Transformer')"
   ]
  },
  {
   "cell_type": "code",
   "execution_count": null,
   "metadata": {
    "collapsed": false,
    "nbtplt": {
     "id": "model-init",
     "label": "code"
    },
    "pycharm": {
     "name": "#%% nbtplt model-init code\n"
    }
   },
   "outputs": [],
   "source": [
    "model_id = 'logr'\n",
    "model = LogisticRegression(C=2.0, tol=0.01, max_iter=1000)"
   ]
  },
  {
   "cell_type": "code",
   "execution_count": null,
   "metadata": {
    "collapsed": false,
    "nbtplt": {
     "id": "wrapper-model-init",
     "label": ""
    },
    "pycharm": {
     "name": "#%% nbtplt wrapper-model-init\n"
    }
   },
   "outputs": [],
   "source": [
    "wrapper = ModelWrapper(model_id, model, transformer=feature_transformer, save_dir=Project.path.MODEL)\n",
    "print(X_train.size)\n",
    "print(y_train.size)\n",
    "wrapper.fit(X_train, y_train)\n",
    "\n",
    "wrapper.save()\n",
    "wrapper_saved = wrapper.load(wrapper.get_current_wrapper_path())\n",
    "wrapper.remove_old_versions(keep=3)"
   ]
  }
 ],
 "metadata": {
  "celltoolbar": "Edit Metadata",
  "kernelspec": {
   "display_name": "Python 3",
   "language": "python",
   "name": "python3"
  },
  "language_info": {
   "codemirror_mode": {
    "name": "ipython",
    "version": 3
   },
   "file_extension": ".py",
   "mimetype": "text/x-python",
   "name": "python",
   "nbconvert_exporter": "python",
   "pygments_lexer": "ipython3",
   "version": "3.9.1"
  }
 },
 "nbformat": 4,
 "nbformat_minor": 4
}

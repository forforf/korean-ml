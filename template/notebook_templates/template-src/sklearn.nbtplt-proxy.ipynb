{
 "cells": [
  {
   "cell_type": "code",
   "metadata": {
    "_cell_guid": "b1076dfc-b9ad-4769-8c92-a6c4dae69d19",
    "_uuid": "8f2839f25d086af736a60e9eeb907d3b93b6e0e5",
    "pycharm": {
     "name": "#%% nbtplt title md\n"
    }
   },
   "source": [
    "# Template markdown cell - should be replaced by template engine"
   ],
   "execution_count": null,
   "outputs": []
  },
  {
   "cell_type": "code",
   "execution_count": 1,
   "metadata": {
    "pycharm": {
     "name": "#%% nbtplt wrapper-imports code\n"
    }
   },
   "outputs": [],
   "source": [
    "# Common wrapper for SciKitLearn models\n",
    "from src.model_wrapper import ModelWrapper"
   ]
  },
  {
   "cell_type": "code",
   "execution_count": null,
   "metadata": {
    "nbtmp": "imports",
    "pycharm": {
     "name": "#%% nbtplt model-imports code\n"
    }
   },
   "outputs": [],
   "source": [
    "# Template markdown cell - should be replaced by template engine"
   ]
  },
  {
   "cell_type": "code",
   "execution_count": 4,
   "metadata": {
    "pycharm": {
     "name": "#%%\n"
    }
   },
   "outputs": [
    {
     "data": {
      "text/markdown": [
       "SlidingWindow"
      ],
      "text/plain": [
       "<IPython.core.display.Markdown object>"
      ]
     },
     "metadata": {},
     "output_type": "display_data"
    },
    {
     "data": {
      "text/plain": [
       "SlidingWindow(offset_percent=0.75, window=128)"
      ]
     },
     "metadata": {},
     "output_type": "display_data"
    }
   ],
   "source": [
    "# Should be in main template\n",
    "# sliding_window = SlidingWindow(window=128, offset_percent=0.75)\n",
    "# disp.obj(sliding_window, label='SlidingWindow')"
   ]
  },
  {
   "cell_type": "code",
   "execution_count": null,
   "outputs": [],
   "source": [
    "# Template markdown cell - should be replaced by template engine"
   ],
   "metadata": {
    "collapsed": false,
    "pycharm": {
     "name": "#%% nbtplt feature-transformer\n"
    }
   }
  },
  {
   "cell_type": "code",
   "execution_count": null,
   "outputs": [],
   "source": [
    "# Template markdown cell - should be replaced by template engine"
   ],
   "metadata": {
    "collapsed": false,
    "pycharm": {
     "name": "#%% nbtplt model-init code\n"
    }
   }
  },
  {
   "cell_type": "code",
   "execution_count": null,
   "outputs": [],
   "source": [
    "wrapper = ModelWrapper(model_id, model, transformer=feature_transformer, save_dir=Project.path.MODEL)\n",
    "print(X_train.size)\n",
    "print(y_train.size)\n",
    "wrapper.fit(X_train, y_train)\n",
    "\n",
    "wrapper.save()\n",
    "wrapper_saved = wrapper.load(wrapper.get_current_wrapper_path())\n",
    "wrapper.remove_old_versions(keep=3)"
   ],
   "metadata": {
    "collapsed": false,
    "pycharm": {
     "name": "#%% nbtplt wrapper-model-init\n"
    }
   }
  }
 ],
 "metadata": {
  "celltoolbar": "Edit Metadata",
  "kernelspec": {
   "display_name": "Python 3",
   "language": "python",
   "name": "python3"
  },
  "language_info": {
   "codemirror_mode": {
    "name": "ipython",
    "version": 3
   },
   "file_extension": ".py",
   "mimetype": "text/x-python",
   "name": "python",
   "nbconvert_exporter": "python",
   "pygments_lexer": "ipython3",
   "version": "3.9.1"
  }
 },
 "nbformat": 4,
 "nbformat_minor": 4
}
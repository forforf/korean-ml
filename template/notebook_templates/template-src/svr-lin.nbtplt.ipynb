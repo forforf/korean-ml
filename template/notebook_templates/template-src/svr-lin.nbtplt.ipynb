{
 "cells": [
  {
   "cell_type": "code",
   "source": [
    "## Model: SVR (RBF Kernel)"
   ],
   "metadata": {
    "collapsed": false,
    "pycharm": {
     "name": "#%% nbtplt title md\n"
    }
   },
   "execution_count": null,
   "outputs": []
  },
  {
   "cell_type": "code",
   "execution_count": null,
   "outputs": [],
   "source": [
    "from sklearn.svm import SVR"
   ],
   "metadata": {
    "collapsed": false,
    "pycharm": {
     "name": "#%% nbtplt model-imports code\n"
    }
   }
  },
  {
   "cell_type": "code",
   "execution_count": null,
   "outputs": [],
   "source": [
    "feature_transformer = SlidingWindow(window=128, offset_percent=0.75)\n",
    "disp.obj(feature_transformer, label='Feature Transformer')\n"
   ],
   "metadata": {
    "collapsed": false,
    "pycharm": {
     "name": "#%% nbtplt feature-transformer\n"
    }
   }
  },
  {
   "cell_type": "code",
   "execution_count": null,
   "outputs": [],
   "source": [
    "model_id = 'svr-lin'\n",
    "model = SVR(kernel='linear')"
   ],
   "metadata": {
    "collapsed": false,
    "pycharm": {
     "name": "#%% nbtplt model-init code\n"
    }
   }
  }
 ],
 "metadata": {
  "kernelspec": {
   "name": "python3",
   "language": "python",
   "display_name": "Python 3"
  },
  "language_info": {
   "codemirror_mode": {
    "name": "ipython",
    "version": 2
   },
   "file_extension": ".py",
   "mimetype": "text/x-python",
   "name": "python",
   "nbconvert_exporter": "python",
   "pygments_lexer": "ipython2",
   "version": "2.7.6"
  }
 },
 "nbformat": 4,
 "nbformat_minor": 0
}
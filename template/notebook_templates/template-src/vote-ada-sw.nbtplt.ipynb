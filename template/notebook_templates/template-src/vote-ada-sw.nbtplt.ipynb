{
 "cells": [
  {
   "cell_type": "code",
   "source": [
    "## Model: Logistic Regression"
   ],
   "metadata": {
    "collapsed": false,
    "pycharm": {
     "name": "#%% nbtplt title md\n"
    }
   },
   "execution_count": null,
   "outputs": []
  },
  {
   "cell_type": "code",
   "execution_count": null,
   "outputs": [],
   "source": [
    "from sklearn.ensemble import AdaBoostClassifier\n",
    "from sklearn.ensemble import VotingClassifier\n",
    "from sklearn.pipeline import Pipeline"
   ],
   "metadata": {
    "collapsed": false,
    "pycharm": {
     "name": "#%% nbtplt model-imports code\n"
    }
   }
  },
  {
   "cell_type": "code",
   "execution_count": null,
   "outputs": [],
   "source": [
    "feature_transformer = Foo\n",
    "disp.obj(feature_transformer, label='Transformer')"
   ],
   "metadata": {
    "collapsed": false,
    "pycharm": {
     "name": "#%% nbtplt feature-transformer\n"
    }
   }
  },
  {
   "cell_type": "code",
   "execution_count": null,
   "outputs": [],
   "source": [
    "model_id = 'vote-ada-sw'\n",
    "\n",
    "sw_params = [\n",
    "    {'offset_percent': 0.75, 'window': 128 },\n",
    "    {'offset_percent': 0.75, 'window': 256 },\n",
    "    {'offset_percent': 0.9, 'window': 64 },\n",
    "    {'offset_percent': 0.9, 'window': 32 },\n",
    "    {'offset_percent': 0.5, 'window': 128 }\n",
    "]\n",
    "\n",
    "sw_txfms = [SlidingWindow(**swp) for swp in sw_params]\n",
    "steps_for_ests = [[('sw', sw_txfm), ('ada', AdaBoostClassifier())] for sw_txfm in sw_txfms]\n",
    "pipes = [Pipeline(steps) for steps in steps_for_ests]\n",
    "voters = [(f'sw-ada{i}',p) for i, p in enumerate(pipes)]\n",
    "\n",
    "model = VotingClassifier(estimators=voters, voting='soft')"
   ],
   "metadata": {
    "collapsed": false,
    "pycharm": {
     "name": "#%% nbtplt model-init code\n"
    }
   }
  }
 ],
 "metadata": {
  "kernelspec": {
   "name": "python3",
   "language": "python",
   "display_name": "Python 3"
  },
  "language_info": {
   "codemirror_mode": {
    "name": "ipython",
    "version": 2
   },
   "file_extension": ".py",
   "mimetype": "text/x-python",
   "name": "python",
   "nbconvert_exporter": "python",
   "pygments_lexer": "ipython2",
   "version": "2.7.6"
  }
 },
 "nbformat": 4,
 "nbformat_minor": 0
}
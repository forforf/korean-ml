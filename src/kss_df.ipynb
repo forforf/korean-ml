{
 "cells": [
  {
   "cell_type": "code",
   "execution_count": null,
   "metadata": {
    "collapsed": true
   },
   "outputs": [],
   "source": [
    "from display import Disp\n",
    "from src.kss_df import KssDfType, make_kss_df_cls\n",
    "from config import Project\n",
    "\n",
    "disp = Disp(display)\n",
    "\n",
    "kss_id = '1_0000'\n",
    "kss_type = KssDfType.SYL\n",
    "\n",
    "KssDf = make_kss_df_cls(Project.path.TEXTGRID, Project.path.KSSCSV)\n",
    "kss = KssDf(kss_id)\n",
    "\n",
    "\n",
    "disp.obj(kss.tg_path, label='TextGrid path')\n",
    "disp.obj(kss.csv_paths, label='CSV paths')\n",
    "\n",
    "# Setting save=True will save the TextGrid data to an csv file.\n",
    "dfs = kss.load_tg(save=False)\n",
    "csv_df = kss.load_csv(type=kss_type)\n",
    "tg_df = dfs[kss_type.value]\n",
    "disp.obj(csv_df.equals(tg_df), label='CSV and TextGrid DFs are equal?')\n",
    "# merged = csv_df[['syl', 'start', 'stop']].merge(tg_df[['syl', 'start', 'stop']], indicator=True, how='outer')\n",
    "merged = csv_df.merge(tg_df, indicator=True, how='outer')\n",
    "disp.obj(merged.loc[merged['_merge'] != 'both'], label='Any differences are shown below:')\n",
    "disp.obj(csv_df, label=f'{kss_type.value} DF from CSV')\n",
    "\n",
    "disp.obj(dfs[kss_type.value], label=f'{kss_type.value} DF from TextGrid')\n",
    "\n",
    "disp.code('kss_df.py', label='kss_df.py ')\n"
   ]
  }
 ],
 "metadata": {
  "kernelspec": {
   "display_name": "Python 3",
   "language": "python",
   "name": "python3"
  },
  "language_info": {
   "codemirror_mode": {
    "name": "ipython",
    "version": 2
   },
   "file_extension": ".py",
   "mimetype": "text/x-python",
   "name": "python",
   "nbconvert_exporter": "python",
   "pygments_lexer": "ipython2",
   "version": "2.7.6"
  }
 },
 "nbformat": 4,
 "nbformat_minor": 0
}
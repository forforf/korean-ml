{
 "cells": [
  {
   "cell_type": "code",
   "execution_count": 11,
   "outputs": [],
   "source": [
    "\n",
    "import numpy as np # linear algebra\n",
    "import pandas as pd # data processing, CSV file I/O (e.g. pd.read_csv)\n",
    "import matplotlib.pyplot as plt\n",
    "import matplotlib.font_manager as mfm\n",
    "from display import Disp\n",
    "from kss_df import KssDf\n",
    "\n",
    "font_path = '/Users/dev/Fonts/Noto_Sans_KR/NotoSansKR-Regular.otf'\n",
    "k_prop = mfm.FontProperties(fname=font_path)\n",
    "plt.style.use('dark_background')\n",
    "\n",
    "# Display handler with some nice helpers\n",
    "disp = Disp(display)\n",
    "# disp.code('display.py', label='display.py ')\n"
   ],
   "metadata": {
    "collapsed": false,
    "pycharm": {
     "name": "#%%\n"
    }
   }
  },
  {
   "metadata": {},
   "cell_type": "markdown",
   "source": [
    "## Generate Features from PRAAT TextGrid"
   ]
  },
  {
   "cell_type": "code",
   "execution_count": 12,
   "outputs": [],
   "source": [
    "transcript_file = 'data/korean-single-speaker/transcript.v.1.4.txt'\n",
    "tr_df = pd.read_csv(transcript_file, sep=\"|\", names=[\"audio_file\", \"tr_w_num\", \"tr_syl\", \"tr_char\", \"dur\", \"en\"])"
   ],
   "metadata": {
    "collapsed": false,
    "pycharm": {
     "name": "#%%\n"
    }
   }
  },
  {
   "cell_type": "markdown",
   "source": [
    "\n",
    "Inspecting the transcript there are 3 different transcriptions.\n",
    "\n",
    "| <!-- -->    | <!-- -->    |\n",
    "|-------------|-------------|\n",
    "|tr_w_num|Keeps numerics in number form|\n",
    "|tr_syl|String encoding is syllable by syllable|\n",
    "|tr_char|String encoding is character by character|\n",
    "\n"
   ],
   "metadata": {
    "collapsed": false
   }
  },
  {
   "cell_type": "code",
   "execution_count": 13,
   "outputs": [
    {
     "data": {
      "text/plain": "         audio_file                      tr_syl  \\\n0      1/1_0000.wav      그는 괜찮은 척하려고 애쓰는 것 같았다.   \n1      1/1_0001.wav   그녀의 사랑을 얻기 위해 애썼지만 헛수고였다.   \n2      1/1_0002.wav                  용돈을 아껴 써라.   \n3      1/1_0003.wav              그는 아내를 많이 아낀다.   \n4      1/1_0004.wav                그 애 전화번호 알아?   \n...             ...                         ...   \n12849  4/4_5627.wav         깨진 유리 조각에 손가락을 벴어요.   \n12850  4/4_5628.wav  아드님이 친구들과 야구를 하다 유리창을 깼어요.   \n12851  4/4_5629.wav         일찍 신청하는 사람이 유리할 거야.   \n12852  4/4_5630.wav          이 두 소설은 줄거리가 유사해요.   \n12853  4/4_5631.wav            올해 유월은 유난히 쌀쌀해요.   \n\n                                                 tr_char  dur  \\\n0        그는 괜찮은 척하려고 애쓰는 것 같았다.  3.5   \n1      그녀의 사랑을 얻기 위해 애썼지만 헛수고ᄋ...  4.0   \n2                                   용돈을 아껴 써라.  1.8   \n3                           그는 아내를 많이 아낀다.  2.3   \n4                                그 애 전화번호 알아?  1.3   \n...                                                  ...  ...   \n12849            깨진 유리 조각에 손가락을 벴어요.  3.9   \n12850  아드님이 친구들과 야구를 하다 유리창을 ᄁ...  5.4   \n12851           일찍 신청하는 사람이 유리할 거야.  3.7   \n12852                 이 두 소설은 줄거리가 유사해요.  3.5   \n12853                 올해 유월은 유난히 쌀쌀해요.  3.2   \n\n                                                      en  \n0                 He seemed to be pretending to be okay.  \n1                       I tried in vain to win her love.  \n2                                Save your pocket money.  \n3                                 He cherishes his wife.  \n4                                Do you know his number?  \n...                                                  ...  \n12849        I cut my finger on a piece of broken glass.  \n12850  Your son was playing baseball with his friends...  \n12851         Early applicants will be given advantages.  \n12852  These two novels are much alike in their synop...  \n12853                It's particularly chilly this June.  \n\n[12854 rows x 5 columns]",
      "text/html": "<div>\n<style scoped>\n    .dataframe tbody tr th:only-of-type {\n        vertical-align: middle;\n    }\n\n    .dataframe tbody tr th {\n        vertical-align: top;\n    }\n\n    .dataframe thead th {\n        text-align: right;\n    }\n</style>\n<table border=\"1\" class=\"dataframe\">\n  <thead>\n    <tr style=\"text-align: right;\">\n      <th></th>\n      <th>audio_file</th>\n      <th>tr_syl</th>\n      <th>tr_char</th>\n      <th>dur</th>\n      <th>en</th>\n    </tr>\n  </thead>\n  <tbody>\n    <tr>\n      <th>0</th>\n      <td>1/1_0000.wav</td>\n      <td>그는 괜찮은 척하려고 애쓰는 것 같았다.</td>\n      <td>그는 괜찮은 척하려고 애쓰는 것 같았다.</td>\n      <td>3.5</td>\n      <td>He seemed to be pretending to be okay.</td>\n    </tr>\n    <tr>\n      <th>1</th>\n      <td>1/1_0001.wav</td>\n      <td>그녀의 사랑을 얻기 위해 애썼지만 헛수고였다.</td>\n      <td>그녀의 사랑을 얻기 위해 애썼지만 헛수고ᄋ...</td>\n      <td>4.0</td>\n      <td>I tried in vain to win her love.</td>\n    </tr>\n    <tr>\n      <th>2</th>\n      <td>1/1_0002.wav</td>\n      <td>용돈을 아껴 써라.</td>\n      <td>용돈을 아껴 써라.</td>\n      <td>1.8</td>\n      <td>Save your pocket money.</td>\n    </tr>\n    <tr>\n      <th>3</th>\n      <td>1/1_0003.wav</td>\n      <td>그는 아내를 많이 아낀다.</td>\n      <td>그는 아내를 많이 아낀다.</td>\n      <td>2.3</td>\n      <td>He cherishes his wife.</td>\n    </tr>\n    <tr>\n      <th>4</th>\n      <td>1/1_0004.wav</td>\n      <td>그 애 전화번호 알아?</td>\n      <td>그 애 전화번호 알아?</td>\n      <td>1.3</td>\n      <td>Do you know his number?</td>\n    </tr>\n    <tr>\n      <th>...</th>\n      <td>...</td>\n      <td>...</td>\n      <td>...</td>\n      <td>...</td>\n      <td>...</td>\n    </tr>\n    <tr>\n      <th>12849</th>\n      <td>4/4_5627.wav</td>\n      <td>깨진 유리 조각에 손가락을 벴어요.</td>\n      <td>깨진 유리 조각에 손가락을 벴어요.</td>\n      <td>3.9</td>\n      <td>I cut my finger on a piece of broken glass.</td>\n    </tr>\n    <tr>\n      <th>12850</th>\n      <td>4/4_5628.wav</td>\n      <td>아드님이 친구들과 야구를 하다 유리창을 깼어요.</td>\n      <td>아드님이 친구들과 야구를 하다 유리창을 ᄁ...</td>\n      <td>5.4</td>\n      <td>Your son was playing baseball with his friends...</td>\n    </tr>\n    <tr>\n      <th>12851</th>\n      <td>4/4_5629.wav</td>\n      <td>일찍 신청하는 사람이 유리할 거야.</td>\n      <td>일찍 신청하는 사람이 유리할 거야.</td>\n      <td>3.7</td>\n      <td>Early applicants will be given advantages.</td>\n    </tr>\n    <tr>\n      <th>12852</th>\n      <td>4/4_5630.wav</td>\n      <td>이 두 소설은 줄거리가 유사해요.</td>\n      <td>이 두 소설은 줄거리가 유사해요.</td>\n      <td>3.5</td>\n      <td>These two novels are much alike in their synop...</td>\n    </tr>\n    <tr>\n      <th>12853</th>\n      <td>4/4_5631.wav</td>\n      <td>올해 유월은 유난히 쌀쌀해요.</td>\n      <td>올해 유월은 유난히 쌀쌀해요.</td>\n      <td>3.2</td>\n      <td>It's particularly chilly this June.</td>\n    </tr>\n  </tbody>\n</table>\n<p>12854 rows × 5 columns</p>\n</div>"
     },
     "execution_count": 13,
     "metadata": {},
     "output_type": "execute_result"
    }
   ],
   "source": [
    "# Since we are not interested in numerics as numbers, we drop that column\n",
    "tr_df = tr_df.drop(columns=['tr_w_num'])\n",
    "tr_df"
   ],
   "metadata": {
    "collapsed": false,
    "pycharm": {
     "name": "#%%\n"
    }
   }
  },
  {
   "cell_type": "markdown",
   "source": [
    "## Audio Analysis\n",
    "\n",
    "Informational:\n",
    "* Consonant Phonemes duration 25-50 msec\n",
    "* Vowel Phonemes duration 50-100+ msec\n"
   ],
   "metadata": {
    "collapsed": false
   }
  },
  {
   "cell_type": "code",
   "execution_count": 14,
   "outputs": [],
   "source": [
    "# /kaggle/input/korean-single-speaker-speech-dataset/transcript.v.1.4.txt\n",
    "# /kaggle/input/korean-single-speaker-speech-dataset/kss/1/1_0845.wav (example)\n",
    "\n",
    "# from comet_ml import Experiment\n",
    "import librosa\n",
    "import librosa.display\n",
    "from scipy.io import wavfile as wav\n",
    "import IPython"
   ],
   "metadata": {
    "collapsed": false,
    "pycharm": {
     "name": "#%%\n"
    }
   }
  },
  {
   "cell_type": "code",
   "execution_count": 15,
   "outputs": [],
   "source": [
    "import textgrid\n",
    "\n",
    "from kss_textgrid import KssTextGrid\n",
    "# TODO: Refactor to use KssDf\n",
    "# from kss_chunk import KssChunk, KssChunkType\n",
    "\n",
    "# (self, df, kss_id, type, base_dir=None):"
   ],
   "metadata": {
    "collapsed": false,
    "pycharm": {
     "name": "#%%\n"
    }
   }
  },
  {
   "cell_type": "code",
   "execution_count": 20,
   "outputs": [
    {
     "data": {
      "text/plain": "<IPython.core.display.Markdown object>",
      "text/markdown": "TextGrid path"
     },
     "metadata": {},
     "output_type": "display_data"
    },
    {
     "data": {
      "text/plain": "'./data/korean-single-speaker/kss/1/1_0006.TextGrid'"
     },
     "metadata": {},
     "output_type": "display_data"
    },
    {
     "data": {
      "text/plain": "<IPython.core.display.Markdown object>",
      "text/markdown": "CSV paths"
     },
     "metadata": {},
     "output_type": "display_data"
    },
    {
     "data": {
      "text/plain": "{'char': './data/korean-single-speaker/kss-csv/1_0006_char.csv',\n 'syl': './data/korean-single-speaker/kss-csv/1_0006_syl.csv'}"
     },
     "metadata": {},
     "output_type": "display_data"
    },
    {
     "name": "stderr",
     "output_type": "stream",
     "text": [
      "KssDf[INFO]: Saving: ./data/korean-single-speaker/kss-csv/1_0006_char.csv\n",
      "KssDf[INFO]: Saving: ./data/korean-single-speaker/kss-csv/1_0006_syl.csv\n"
     ]
    }
   ],
   "source": [
    "# tg_dir = 'data/korean-single-speaker/kss'\n",
    "kss_id = '1_0006'\n",
    "# chunk_dir = 'data/korean-single-speaker/kss_chunks'\n",
    "# chunk_char_path = f'{chunk_dir}/chunk_char.csv'\n",
    "# chunk_syl_path = f'{chunk_dir}/chunk_syl.csv'\n",
    "# tg = KssTextGrid(kss_id)\n",
    "# kss_char = KssChunk(tg.chars_df(), kss_id, KssChunkType.CHAR)\n",
    "# kss_syl = KssChunk(tg.syls_df(), kss_id, KssChunkType.SYL)\n",
    "# disp.obj(kss_char.df, label=f'KSS {kss_id} Character Dataframe')\n",
    "# disp.obj(kss_syl.df, label=f'KSS {kss_id} Syllable Dataframe')\n",
    "\n",
    "kss = KssDf(kss_id)\n",
    "\n",
    "\n",
    "disp.obj(kss.tg_path, label='TextGrid path')\n",
    "disp.obj(kss.csv_paths, label='CSV paths')\n",
    "\n",
    "# Setting save=True will save the TextGrid data to an csv file.\n",
    "dfs = kss.load_tg(save=False)"
   ],
   "metadata": {
    "collapsed": false,
    "pycharm": {
     "name": "#%%\n"
    }
   }
  },
  {
   "cell_type": "markdown",
   "source": [
    "## Statistics"
   ],
   "metadata": {
    "collapsed": false,
    "pycharm": {
     "name": "#%% md\n"
    }
   }
  },
  {
   "cell_type": "code",
   "execution_count": 17,
   "outputs": [],
   "source": [
    "# disp.obj((kss_syl.df['stop'] - kss_syl.df['start']).describe(), 'Interval Statistics (using describe)')"
   ],
   "metadata": {
    "collapsed": false,
    "pycharm": {
     "name": "#%%\n"
    }
   }
  },
  {
   "cell_type": "code",
   "execution_count": 18,
   "outputs": [],
   "source": [
    "\n",
    "# # WRITE to CSV\n",
    "# kss_char.save()\n",
    "# kss_syl.save()\n"
   ],
   "metadata": {
    "collapsed": false,
    "pycharm": {
     "name": "#%%\n"
    }
   }
  },
  {
   "cell_type": "code",
   "execution_count": 19,
   "outputs": [],
   "source": [
    "# chunk_dir = 'data/korean-single-speaker/kss_chunks'\n",
    "#\n",
    "# def k_ax(ax, **kwargs):\n",
    "#     ax.set_xticklabels(ax.get_xticklabels(), fontproperties=k_prop, rotation=90, **kwargs)\n",
    "#\n",
    "# def filter_counts(df, val):\n",
    "#     counts = df.value_counts()\n",
    "#     return counts[counts>val]\n",
    "#\n",
    "#\n",
    "# all_chunk_char_df, all_chunk_syl_df = KssChunk.load_all()\n",
    "#\n",
    "# # Plot histogram of characters and syllables\n",
    "# fig, (ax1, ax2) = plt.subplots(1, 2, figsize=(15,4))\n",
    "# fig.suptitle('Horizontally stacked subplots')\n",
    "# k_ax(ax1, size=16)\n",
    "# k_ax(ax2, size=12)\n",
    "# filter_counts(all_chunk_char_df['char'], 4).plot(kind='bar', ax=ax1)\n",
    "# filter_counts(all_chunk_syl_df['syl'], 2).plot(kind='bar', ax=ax2)\n",
    "# disp.obj(all_chunk_char_df, 'Character Interval Dataframe')\n",
    "# disp.obj(all_chunk_char_df['audio'].unique(), 'Audio Files')\n",
    "# disp.obj(all_chunk_syl_df, 'Syllable Interval Dataframe')\n",
    "# disp.obj(all_chunk_syl_df['audio'].unique(), 'Audio Files')"
   ],
   "metadata": {
    "collapsed": false,
    "pycharm": {
     "name": "#%%\n"
    }
   }
  }
 ],
 "metadata": {
  "kernelspec": {
   "name": "python3",
   "display_name": "Python 3",
   "language": "python"
  },
  "language_info": {
   "name": "python",
   "version": "3.7.9",
   "mimetype": "text/x-python",
   "codemirror_mode": {
    "name": "ipython",
    "version": 3
   },
   "pygments_lexer": "ipython3",
   "nbconvert_exporter": "python",
   "file_extension": ".py"
  },
  "pycharm": {
   "stem_cell": {
    "cell_type": "raw",
    "source": [
     "# TextGrid to char/syl dataframe\n",
     "\n",
     "Given a PRAAT Textgrid (text), add the interval markers to the character/syllable dataframe and update the csv.\n",
     "\n"
    ],
    "metadata": {
     "collapsed": false
    }
   }
  }
 },
 "nbformat": 4,
 "nbformat_minor": 4
}
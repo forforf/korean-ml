{
 "cells": [
  {
   "cell_type": "code",
   "execution_count": 1,
   "outputs": [],
   "source": [
    "\n",
    "import numpy as np # linear algebra\n",
    "import pandas as pd # data processing, CSV file I/O (e.g. pd.read_csv)\n",
    "import matplotlib.pyplot as plt\n",
    "import matplotlib.font_manager as mfm\n",
    "from display import Disp\n",
    "\n",
    "font_path = '/Users/dev/Fonts/Noto_Sans_KR/NotoSansKR-Regular.otf'\n",
    "k_prop = mfm.FontProperties(fname=font_path)\n",
    "plt.style.use('dark_background')\n",
    "\n",
    "# Display handler with some nice helpers\n",
    "disp = Disp(display)\n",
    "# disp.code('display.py', label='display.py ')\n"
   ],
   "metadata": {
    "collapsed": false,
    "pycharm": {
     "name": "#%%\n"
    }
   }
  },
  {
   "metadata": {},
   "cell_type": "markdown",
   "source": [
    "## Generate Features from PRAAT TextGrid"
   ]
  },
  {
   "cell_type": "code",
   "execution_count": 2,
   "outputs": [],
   "source": [
    "transcript_file = 'data/korean-single-speaker/transcript.v.1.4.txt'\n",
    "tr_df = pd.read_csv(transcript_file, sep=\"|\", names=[\"audio_file\", \"tr_w_num\", \"tr_syl\", \"tr_char\", \"dur\", \"en\"])"
   ],
   "metadata": {
    "collapsed": false,
    "pycharm": {
     "name": "#%%\n"
    }
   }
  },
  {
   "cell_type": "markdown",
   "source": [
    "\n",
    "Inspecting the transcript there are 3 different transcriptions.\n",
    "\n",
    "| <!-- -->    | <!-- -->    |\n",
    "|-------------|-------------|\n",
    "|tr_w_num|Keeps numerics in number form|\n",
    "|tr_syl|String encoding is syllable by syllable|\n",
    "|tr_char|String encoding is character by character|\n",
    "\n"
   ],
   "metadata": {
    "collapsed": false
   }
  },
  {
   "cell_type": "code",
   "execution_count": 3,
   "outputs": [
    {
     "data": {
      "text/plain": "         audio_file                      tr_syl  \\\n0      1/1_0000.wav      그는 괜찮은 척하려고 애쓰는 것 같았다.   \n1      1/1_0001.wav   그녀의 사랑을 얻기 위해 애썼지만 헛수고였다.   \n2      1/1_0002.wav                  용돈을 아껴 써라.   \n3      1/1_0003.wav              그는 아내를 많이 아낀다.   \n4      1/1_0004.wav                그 애 전화번호 알아?   \n...             ...                         ...   \n12849  4/4_5627.wav         깨진 유리 조각에 손가락을 벴어요.   \n12850  4/4_5628.wav  아드님이 친구들과 야구를 하다 유리창을 깼어요.   \n12851  4/4_5629.wav         일찍 신청하는 사람이 유리할 거야.   \n12852  4/4_5630.wav          이 두 소설은 줄거리가 유사해요.   \n12853  4/4_5631.wav            올해 유월은 유난히 쌀쌀해요.   \n\n                                                 tr_char  dur  \\\n0        그는 괜찮은 척하려고 애쓰는 것 같았다.  3.5   \n1      그녀의 사랑을 얻기 위해 애썼지만 헛수고ᄋ...  4.0   \n2                                   용돈을 아껴 써라.  1.8   \n3                           그는 아내를 많이 아낀다.  2.3   \n4                                그 애 전화번호 알아?  1.3   \n...                                                  ...  ...   \n12849            깨진 유리 조각에 손가락을 벴어요.  3.9   \n12850  아드님이 친구들과 야구를 하다 유리창을 ᄁ...  5.4   \n12851           일찍 신청하는 사람이 유리할 거야.  3.7   \n12852                 이 두 소설은 줄거리가 유사해요.  3.5   \n12853                 올해 유월은 유난히 쌀쌀해요.  3.2   \n\n                                                      en  \n0                 He seemed to be pretending to be okay.  \n1                       I tried in vain to win her love.  \n2                                Save your pocket money.  \n3                                 He cherishes his wife.  \n4                                Do you know his number?  \n...                                                  ...  \n12849        I cut my finger on a piece of broken glass.  \n12850  Your son was playing baseball with his friends...  \n12851         Early applicants will be given advantages.  \n12852  These two novels are much alike in their synop...  \n12853                It's particularly chilly this June.  \n\n[12854 rows x 5 columns]",
      "text/html": "<div>\n<style scoped>\n    .dataframe tbody tr th:only-of-type {\n        vertical-align: middle;\n    }\n\n    .dataframe tbody tr th {\n        vertical-align: top;\n    }\n\n    .dataframe thead th {\n        text-align: right;\n    }\n</style>\n<table border=\"1\" class=\"dataframe\">\n  <thead>\n    <tr style=\"text-align: right;\">\n      <th></th>\n      <th>audio_file</th>\n      <th>tr_syl</th>\n      <th>tr_char</th>\n      <th>dur</th>\n      <th>en</th>\n    </tr>\n  </thead>\n  <tbody>\n    <tr>\n      <th>0</th>\n      <td>1/1_0000.wav</td>\n      <td>그는 괜찮은 척하려고 애쓰는 것 같았다.</td>\n      <td>그는 괜찮은 척하려고 애쓰는 것 같았다.</td>\n      <td>3.5</td>\n      <td>He seemed to be pretending to be okay.</td>\n    </tr>\n    <tr>\n      <th>1</th>\n      <td>1/1_0001.wav</td>\n      <td>그녀의 사랑을 얻기 위해 애썼지만 헛수고였다.</td>\n      <td>그녀의 사랑을 얻기 위해 애썼지만 헛수고ᄋ...</td>\n      <td>4.0</td>\n      <td>I tried in vain to win her love.</td>\n    </tr>\n    <tr>\n      <th>2</th>\n      <td>1/1_0002.wav</td>\n      <td>용돈을 아껴 써라.</td>\n      <td>용돈을 아껴 써라.</td>\n      <td>1.8</td>\n      <td>Save your pocket money.</td>\n    </tr>\n    <tr>\n      <th>3</th>\n      <td>1/1_0003.wav</td>\n      <td>그는 아내를 많이 아낀다.</td>\n      <td>그는 아내를 많이 아낀다.</td>\n      <td>2.3</td>\n      <td>He cherishes his wife.</td>\n    </tr>\n    <tr>\n      <th>4</th>\n      <td>1/1_0004.wav</td>\n      <td>그 애 전화번호 알아?</td>\n      <td>그 애 전화번호 알아?</td>\n      <td>1.3</td>\n      <td>Do you know his number?</td>\n    </tr>\n    <tr>\n      <th>...</th>\n      <td>...</td>\n      <td>...</td>\n      <td>...</td>\n      <td>...</td>\n      <td>...</td>\n    </tr>\n    <tr>\n      <th>12849</th>\n      <td>4/4_5627.wav</td>\n      <td>깨진 유리 조각에 손가락을 벴어요.</td>\n      <td>깨진 유리 조각에 손가락을 벴어요.</td>\n      <td>3.9</td>\n      <td>I cut my finger on a piece of broken glass.</td>\n    </tr>\n    <tr>\n      <th>12850</th>\n      <td>4/4_5628.wav</td>\n      <td>아드님이 친구들과 야구를 하다 유리창을 깼어요.</td>\n      <td>아드님이 친구들과 야구를 하다 유리창을 ᄁ...</td>\n      <td>5.4</td>\n      <td>Your son was playing baseball with his friends...</td>\n    </tr>\n    <tr>\n      <th>12851</th>\n      <td>4/4_5629.wav</td>\n      <td>일찍 신청하는 사람이 유리할 거야.</td>\n      <td>일찍 신청하는 사람이 유리할 거야.</td>\n      <td>3.7</td>\n      <td>Early applicants will be given advantages.</td>\n    </tr>\n    <tr>\n      <th>12852</th>\n      <td>4/4_5630.wav</td>\n      <td>이 두 소설은 줄거리가 유사해요.</td>\n      <td>이 두 소설은 줄거리가 유사해요.</td>\n      <td>3.5</td>\n      <td>These two novels are much alike in their synop...</td>\n    </tr>\n    <tr>\n      <th>12853</th>\n      <td>4/4_5631.wav</td>\n      <td>올해 유월은 유난히 쌀쌀해요.</td>\n      <td>올해 유월은 유난히 쌀쌀해요.</td>\n      <td>3.2</td>\n      <td>It's particularly chilly this June.</td>\n    </tr>\n  </tbody>\n</table>\n<p>12854 rows × 5 columns</p>\n</div>"
     },
     "execution_count": 3,
     "metadata": {},
     "output_type": "execute_result"
    }
   ],
   "source": [
    "# Since we are not interested in numerics as numbers, we drop that column\n",
    "tr_df = tr_df.drop(columns=['tr_w_num'])\n",
    "tr_df"
   ],
   "metadata": {
    "collapsed": false,
    "pycharm": {
     "name": "#%%\n"
    }
   }
  },
  {
   "cell_type": "markdown",
   "source": [
    "## Audio Analysis\n",
    "\n",
    "Informational:\n",
    "* Consonant Phonemes duration 25-50 msec\n",
    "* Vowel Phonemes duration 50-100+ msec\n"
   ],
   "metadata": {
    "collapsed": false
   }
  },
  {
   "cell_type": "code",
   "execution_count": 4,
   "outputs": [],
   "source": [
    "# /kaggle/input/korean-single-speaker-speech-dataset/transcript.v.1.4.txt\n",
    "# /kaggle/input/korean-single-speaker-speech-dataset/kss/1/1_0845.wav (example)\n",
    "\n",
    "# from comet_ml import Experiment\n",
    "import librosa\n",
    "import librosa.display\n",
    "from scipy.io import wavfile as wav\n",
    "import IPython"
   ],
   "metadata": {
    "collapsed": false,
    "pycharm": {
     "name": "#%%\n"
    }
   }
  },
  {
   "cell_type": "code",
   "execution_count": 5,
   "outputs": [],
   "source": [
    "import textgrid\n",
    "\n",
    "from kss_textgrid import KssTextGrid\n",
    "# TODO: Refactor to use KssDf\n",
    "# from kss_chunk import KssChunk, KssChunkType\n",
    "\n",
    "# (self, df, kss_id, type, base_dir=None):"
   ],
   "metadata": {
    "collapsed": false,
    "pycharm": {
     "name": "#%%\n"
    }
   }
  },
  {
   "cell_type": "code",
   "execution_count": 6,
   "outputs": [
    {
     "data": {
      "text/plain": "<IPython.core.display.Markdown object>",
      "text/markdown": "KSS 1_0004 Character Dataframe"
     },
     "metadata": {},
     "output_type": "display_data"
    },
    {
     "data": {
      "text/plain": "    char    start     stop                                        audio\n0      0  0.00000  0.09288  data/korean-single-speaker/kss/1/1_0004.wav\n1      ᄀ  0.09288  0.14314  data/korean-single-speaker/kss/1/1_0004.wav\n2      ᅳ  0.14314  0.24152  data/korean-single-speaker/kss/1/1_0004.wav\n3      애  0.24152  0.33572  data/korean-single-speaker/kss/1/1_0004.wav\n4      0  0.33572  0.35846  data/korean-single-speaker/kss/1/1_0004.wav\n5      ᄌ  0.35846  0.41761  data/korean-single-speaker/kss/1/1_0004.wav\n6      ᅥ  0.41761  0.51689  data/korean-single-speaker/kss/1/1_0004.wav\n7      ᆫ  0.51689  0.56929  data/korean-single-speaker/kss/1/1_0004.wav\n8   ~ᆫ화  0.56929  0.67854  data/korean-single-speaker/kss/1/1_0004.wav\n9      ᄇ  0.67854  0.71058  data/korean-single-speaker/kss/1/1_0004.wav\n10     ᅥ  0.71058  0.80030  data/korean-single-speaker/kss/1/1_0004.wav\n11     ᆫ  0.80030  0.84911  data/korean-single-speaker/kss/1/1_0004.wav\n12  ~ᆫ호  0.84911  0.89335  data/korean-single-speaker/kss/1/1_0004.wav\n13    아  0.89335  1.00634  data/korean-single-speaker/kss/1/1_0004.wav\n14     ᆯ  1.00634  1.07737  data/korean-single-speaker/kss/1/1_0004.wav\n15   아?  1.07737  1.27282  data/korean-single-speaker/kss/1/1_0004.wav\n16     0  1.27282  1.33200  data/korean-single-speaker/kss/1/1_0004.wav",
      "text/html": "<div>\n<style scoped>\n    .dataframe tbody tr th:only-of-type {\n        vertical-align: middle;\n    }\n\n    .dataframe tbody tr th {\n        vertical-align: top;\n    }\n\n    .dataframe thead th {\n        text-align: right;\n    }\n</style>\n<table border=\"1\" class=\"dataframe\">\n  <thead>\n    <tr style=\"text-align: right;\">\n      <th></th>\n      <th>char</th>\n      <th>start</th>\n      <th>stop</th>\n      <th>audio</th>\n    </tr>\n  </thead>\n  <tbody>\n    <tr>\n      <th>0</th>\n      <td>0</td>\n      <td>0.00000</td>\n      <td>0.09288</td>\n      <td>data/korean-single-speaker/kss/1/1_0004.wav</td>\n    </tr>\n    <tr>\n      <th>1</th>\n      <td>ᄀ</td>\n      <td>0.09288</td>\n      <td>0.14314</td>\n      <td>data/korean-single-speaker/kss/1/1_0004.wav</td>\n    </tr>\n    <tr>\n      <th>2</th>\n      <td>ᅳ</td>\n      <td>0.14314</td>\n      <td>0.24152</td>\n      <td>data/korean-single-speaker/kss/1/1_0004.wav</td>\n    </tr>\n    <tr>\n      <th>3</th>\n      <td>애</td>\n      <td>0.24152</td>\n      <td>0.33572</td>\n      <td>data/korean-single-speaker/kss/1/1_0004.wav</td>\n    </tr>\n    <tr>\n      <th>4</th>\n      <td>0</td>\n      <td>0.33572</td>\n      <td>0.35846</td>\n      <td>data/korean-single-speaker/kss/1/1_0004.wav</td>\n    </tr>\n    <tr>\n      <th>5</th>\n      <td>ᄌ</td>\n      <td>0.35846</td>\n      <td>0.41761</td>\n      <td>data/korean-single-speaker/kss/1/1_0004.wav</td>\n    </tr>\n    <tr>\n      <th>6</th>\n      <td>ᅥ</td>\n      <td>0.41761</td>\n      <td>0.51689</td>\n      <td>data/korean-single-speaker/kss/1/1_0004.wav</td>\n    </tr>\n    <tr>\n      <th>7</th>\n      <td>ᆫ</td>\n      <td>0.51689</td>\n      <td>0.56929</td>\n      <td>data/korean-single-speaker/kss/1/1_0004.wav</td>\n    </tr>\n    <tr>\n      <th>8</th>\n      <td>~ᆫ화</td>\n      <td>0.56929</td>\n      <td>0.67854</td>\n      <td>data/korean-single-speaker/kss/1/1_0004.wav</td>\n    </tr>\n    <tr>\n      <th>9</th>\n      <td>ᄇ</td>\n      <td>0.67854</td>\n      <td>0.71058</td>\n      <td>data/korean-single-speaker/kss/1/1_0004.wav</td>\n    </tr>\n    <tr>\n      <th>10</th>\n      <td>ᅥ</td>\n      <td>0.71058</td>\n      <td>0.80030</td>\n      <td>data/korean-single-speaker/kss/1/1_0004.wav</td>\n    </tr>\n    <tr>\n      <th>11</th>\n      <td>ᆫ</td>\n      <td>0.80030</td>\n      <td>0.84911</td>\n      <td>data/korean-single-speaker/kss/1/1_0004.wav</td>\n    </tr>\n    <tr>\n      <th>12</th>\n      <td>~ᆫ호</td>\n      <td>0.84911</td>\n      <td>0.89335</td>\n      <td>data/korean-single-speaker/kss/1/1_0004.wav</td>\n    </tr>\n    <tr>\n      <th>13</th>\n      <td>아</td>\n      <td>0.89335</td>\n      <td>1.00634</td>\n      <td>data/korean-single-speaker/kss/1/1_0004.wav</td>\n    </tr>\n    <tr>\n      <th>14</th>\n      <td>ᆯ</td>\n      <td>1.00634</td>\n      <td>1.07737</td>\n      <td>data/korean-single-speaker/kss/1/1_0004.wav</td>\n    </tr>\n    <tr>\n      <th>15</th>\n      <td>아?</td>\n      <td>1.07737</td>\n      <td>1.27282</td>\n      <td>data/korean-single-speaker/kss/1/1_0004.wav</td>\n    </tr>\n    <tr>\n      <th>16</th>\n      <td>0</td>\n      <td>1.27282</td>\n      <td>1.33200</td>\n      <td>data/korean-single-speaker/kss/1/1_0004.wav</td>\n    </tr>\n  </tbody>\n</table>\n</div>"
     },
     "metadata": {},
     "output_type": "display_data"
    },
    {
     "data": {
      "text/plain": "<IPython.core.display.Markdown object>",
      "text/markdown": "KSS 1_0004 Syllable Dataframe"
     },
     "metadata": {},
     "output_type": "display_data"
    },
    {
     "data": {
      "text/plain": "     syl    start     stop                                        audio\n0      0  0.00000  0.09288  data/korean-single-speaker/kss/1/1_0004.wav\n1     그  0.09288  0.24152  data/korean-single-speaker/kss/1/1_0004.wav\n2     애  0.24152  0.33564  data/korean-single-speaker/kss/1/1_0004.wav\n3      0  0.33564  0.35846  data/korean-single-speaker/kss/1/1_0004.wav\n4    전  0.35846  0.56929  data/korean-single-speaker/kss/1/1_0004.wav\n5   ~ᆫ화  0.56929  0.67854  data/korean-single-speaker/kss/1/1_0004.wav\n6    번  0.67854  0.84911  data/korean-single-speaker/kss/1/1_0004.wav\n7   ~ᆫ호  0.84911  0.89335  data/korean-single-speaker/kss/1/1_0004.wav\n8    알  0.89335  1.07737  data/korean-single-speaker/kss/1/1_0004.wav\n9    아?  1.07737  1.27282  data/korean-single-speaker/kss/1/1_0004.wav\n10     0  1.27282  1.33200  data/korean-single-speaker/kss/1/1_0004.wav",
      "text/html": "<div>\n<style scoped>\n    .dataframe tbody tr th:only-of-type {\n        vertical-align: middle;\n    }\n\n    .dataframe tbody tr th {\n        vertical-align: top;\n    }\n\n    .dataframe thead th {\n        text-align: right;\n    }\n</style>\n<table border=\"1\" class=\"dataframe\">\n  <thead>\n    <tr style=\"text-align: right;\">\n      <th></th>\n      <th>syl</th>\n      <th>start</th>\n      <th>stop</th>\n      <th>audio</th>\n    </tr>\n  </thead>\n  <tbody>\n    <tr>\n      <th>0</th>\n      <td>0</td>\n      <td>0.00000</td>\n      <td>0.09288</td>\n      <td>data/korean-single-speaker/kss/1/1_0004.wav</td>\n    </tr>\n    <tr>\n      <th>1</th>\n      <td>그</td>\n      <td>0.09288</td>\n      <td>0.24152</td>\n      <td>data/korean-single-speaker/kss/1/1_0004.wav</td>\n    </tr>\n    <tr>\n      <th>2</th>\n      <td>애</td>\n      <td>0.24152</td>\n      <td>0.33564</td>\n      <td>data/korean-single-speaker/kss/1/1_0004.wav</td>\n    </tr>\n    <tr>\n      <th>3</th>\n      <td>0</td>\n      <td>0.33564</td>\n      <td>0.35846</td>\n      <td>data/korean-single-speaker/kss/1/1_0004.wav</td>\n    </tr>\n    <tr>\n      <th>4</th>\n      <td>전</td>\n      <td>0.35846</td>\n      <td>0.56929</td>\n      <td>data/korean-single-speaker/kss/1/1_0004.wav</td>\n    </tr>\n    <tr>\n      <th>5</th>\n      <td>~ᆫ화</td>\n      <td>0.56929</td>\n      <td>0.67854</td>\n      <td>data/korean-single-speaker/kss/1/1_0004.wav</td>\n    </tr>\n    <tr>\n      <th>6</th>\n      <td>번</td>\n      <td>0.67854</td>\n      <td>0.84911</td>\n      <td>data/korean-single-speaker/kss/1/1_0004.wav</td>\n    </tr>\n    <tr>\n      <th>7</th>\n      <td>~ᆫ호</td>\n      <td>0.84911</td>\n      <td>0.89335</td>\n      <td>data/korean-single-speaker/kss/1/1_0004.wav</td>\n    </tr>\n    <tr>\n      <th>8</th>\n      <td>알</td>\n      <td>0.89335</td>\n      <td>1.07737</td>\n      <td>data/korean-single-speaker/kss/1/1_0004.wav</td>\n    </tr>\n    <tr>\n      <th>9</th>\n      <td>아?</td>\n      <td>1.07737</td>\n      <td>1.27282</td>\n      <td>data/korean-single-speaker/kss/1/1_0004.wav</td>\n    </tr>\n    <tr>\n      <th>10</th>\n      <td>0</td>\n      <td>1.27282</td>\n      <td>1.33200</td>\n      <td>data/korean-single-speaker/kss/1/1_0004.wav</td>\n    </tr>\n  </tbody>\n</table>\n</div>"
     },
     "metadata": {},
     "output_type": "display_data"
    }
   ],
   "source": [
    "tg_dir = 'data/korean-single-speaker/kss/1'\n",
    "kss_id = '1_0004'\n",
    "# chunk_dir = 'data/korean-single-speaker/kss_chunks'\n",
    "# chunk_char_path = f'{chunk_dir}/chunk_char.csv'\n",
    "# chunk_syl_path = f'{chunk_dir}/chunk_syl.csv'\n",
    "tg = KssTextGrid(kss_id, tg_dir)\n",
    "kss_char = KssChunk(tg.chars_df(), kss_id, KssChunkType.CHAR)\n",
    "kss_syl = KssChunk(tg.syls_df(), kss_id, KssChunkType.SYL)\n",
    "disp.obj(kss_char.df, label=f'KSS {kss_id} Character Dataframe')\n",
    "disp.obj(kss_syl.df, label=f'KSS {kss_id} Syllable Dataframe')"
   ],
   "metadata": {
    "collapsed": false,
    "pycharm": {
     "name": "#%%\n"
    }
   }
  },
  {
   "cell_type": "markdown",
   "source": [
    "## Statistics"
   ],
   "metadata": {
    "collapsed": false,
    "pycharm": {
     "name": "#%% md\n"
    }
   }
  },
  {
   "cell_type": "code",
   "execution_count": 7,
   "outputs": [
    {
     "data": {
      "text/plain": "<IPython.core.display.Markdown object>",
      "text/markdown": "Interval Statistics (using describe)"
     },
     "metadata": {},
     "output_type": "display_data"
    },
    {
     "data": {
      "text/plain": "count    11.000000\nmean      0.121091\nstd       0.064660\nmin       0.022820\n25%       0.076030\n50%       0.109250\n75%       0.177295\nmax       0.210830\ndtype: float64"
     },
     "metadata": {},
     "output_type": "display_data"
    }
   ],
   "source": [
    "disp.obj((kss_syl.df['stop'] - kss_syl.df['start']).describe(), 'Interval Statistics (using describe)')"
   ],
   "metadata": {
    "collapsed": false,
    "pycharm": {
     "name": "#%%\n"
    }
   }
  },
  {
   "cell_type": "code",
   "execution_count": 8,
   "outputs": [
    {
     "name": "stderr",
     "output_type": "stream",
     "text": [
      "KssChunk[INFO]: Saving: data/korean-single-speaker/kss_chunks/1_0004_char.csv\n",
      "KssChunk[INFO]: Saving: data/korean-single-speaker/kss_chunks/1_0004_syl.csv\n"
     ]
    }
   ],
   "source": [
    "\n",
    "# WRITE to CSV\n",
    "kss_char.save()\n",
    "kss_syl.save()\n"
   ],
   "metadata": {
    "collapsed": false,
    "pycharm": {
     "name": "#%%\n"
    }
   }
  },
  {
   "cell_type": "code",
   "execution_count": 9,
   "outputs": [
    {
     "name": "stderr",
     "output_type": "stream",
     "text": [
      "<ipython-input-9-51baf0cd5f5a>:4: UserWarning: FixedFormatter should only be used together with FixedLocator\n",
      "  ax.set_xticklabels(ax.get_xticklabels(), fontproperties=k_prop, rotation=90, **kwargs)\n",
      "/Users/dev/Projects/korean-ml/venv/lib/python3.9/site-packages/pandas/plotting/_matplotlib/tools.py:400: MatplotlibDeprecationWarning: \n",
      "The is_first_col function was deprecated in Matplotlib 3.4 and will be removed two minor releases later. Use ax.get_subplotspec().is_first_col() instead.\n",
      "  if ax.is_first_col():\n",
      "/Users/dev/Projects/korean-ml/venv/lib/python3.9/site-packages/pandas/plotting/_matplotlib/tools.py:400: MatplotlibDeprecationWarning: \n",
      "The is_first_col function was deprecated in Matplotlib 3.4 and will be removed two minor releases later. Use ax.get_subplotspec().is_first_col() instead.\n",
      "  if ax.is_first_col():\n"
     ]
    },
    {
     "data": {
      "text/plain": "<IPython.core.display.Markdown object>",
      "text/markdown": "Character Interval Dataframe"
     },
     "metadata": {},
     "output_type": "display_data"
    },
    {
     "data": {
      "text/plain": "   char    start     stop                                        audio\n0     0  0.00000  0.14298  data/korean-single-speaker/kss/1/1_0000.wav\n1     ᄀ  0.14298  0.17326  data/korean-single-speaker/kss/1/1_0000.wav\n2     ᅳ  0.17326  0.25143  data/korean-single-speaker/kss/1/1_0000.wav\n3     ᆫ  0.25143  0.30110  data/korean-single-speaker/kss/1/1_0000.wav\n4     ᅳ  0.30110  0.39456  data/korean-single-speaker/kss/1/1_0000.wav\n..  ...      ...      ...                                          ...\n12   아  0.91879  1.07637  data/korean-single-speaker/kss/1/1_0005.wav\n13    ᄉ  1.07637  1.18436  data/korean-single-speaker/kss/1/1_0005.wav\n14    ᅦ  1.18436  1.28889  data/korean-single-speaker/kss/1/1_0005.wav\n15  요?  1.28889  1.44689  data/korean-single-speaker/kss/1/1_0005.wav\n16   0   1.44689  1.68841  data/korean-single-speaker/kss/1/1_0005.wav\n\n[167 rows x 4 columns]",
      "text/html": "<div>\n<style scoped>\n    .dataframe tbody tr th:only-of-type {\n        vertical-align: middle;\n    }\n\n    .dataframe tbody tr th {\n        vertical-align: top;\n    }\n\n    .dataframe thead th {\n        text-align: right;\n    }\n</style>\n<table border=\"1\" class=\"dataframe\">\n  <thead>\n    <tr style=\"text-align: right;\">\n      <th></th>\n      <th>char</th>\n      <th>start</th>\n      <th>stop</th>\n      <th>audio</th>\n    </tr>\n  </thead>\n  <tbody>\n    <tr>\n      <th>0</th>\n      <td>0</td>\n      <td>0.00000</td>\n      <td>0.14298</td>\n      <td>data/korean-single-speaker/kss/1/1_0000.wav</td>\n    </tr>\n    <tr>\n      <th>1</th>\n      <td>ᄀ</td>\n      <td>0.14298</td>\n      <td>0.17326</td>\n      <td>data/korean-single-speaker/kss/1/1_0000.wav</td>\n    </tr>\n    <tr>\n      <th>2</th>\n      <td>ᅳ</td>\n      <td>0.17326</td>\n      <td>0.25143</td>\n      <td>data/korean-single-speaker/kss/1/1_0000.wav</td>\n    </tr>\n    <tr>\n      <th>3</th>\n      <td>ᆫ</td>\n      <td>0.25143</td>\n      <td>0.30110</td>\n      <td>data/korean-single-speaker/kss/1/1_0000.wav</td>\n    </tr>\n    <tr>\n      <th>4</th>\n      <td>ᅳ</td>\n      <td>0.30110</td>\n      <td>0.39456</td>\n      <td>data/korean-single-speaker/kss/1/1_0000.wav</td>\n    </tr>\n    <tr>\n      <th>...</th>\n      <td>...</td>\n      <td>...</td>\n      <td>...</td>\n      <td>...</td>\n    </tr>\n    <tr>\n      <th>12</th>\n      <td>아</td>\n      <td>0.91879</td>\n      <td>1.07637</td>\n      <td>data/korean-single-speaker/kss/1/1_0005.wav</td>\n    </tr>\n    <tr>\n      <th>13</th>\n      <td>ᄉ</td>\n      <td>1.07637</td>\n      <td>1.18436</td>\n      <td>data/korean-single-speaker/kss/1/1_0005.wav</td>\n    </tr>\n    <tr>\n      <th>14</th>\n      <td>ᅦ</td>\n      <td>1.18436</td>\n      <td>1.28889</td>\n      <td>data/korean-single-speaker/kss/1/1_0005.wav</td>\n    </tr>\n    <tr>\n      <th>15</th>\n      <td>요?</td>\n      <td>1.28889</td>\n      <td>1.44689</td>\n      <td>data/korean-single-speaker/kss/1/1_0005.wav</td>\n    </tr>\n    <tr>\n      <th>16</th>\n      <td>0</td>\n      <td>1.44689</td>\n      <td>1.68841</td>\n      <td>data/korean-single-speaker/kss/1/1_0005.wav</td>\n    </tr>\n  </tbody>\n</table>\n<p>167 rows × 4 columns</p>\n</div>"
     },
     "metadata": {},
     "output_type": "display_data"
    },
    {
     "data": {
      "text/plain": "<IPython.core.display.Markdown object>",
      "text/markdown": "Audio Files"
     },
     "metadata": {},
     "output_type": "display_data"
    },
    {
     "data": {
      "text/plain": "array(['data/korean-single-speaker/kss/1/1_0000.wav',\n       'data/korean-single-speaker/kss/1/1_0001.wav',\n       'data/korean-single-speaker/kss/1/1_0002.wav',\n       'data/korean-single-speaker/kss/1/1_0003.wav',\n       'data/korean-single-speaker/kss/1/1_0004.wav',\n       'data/korean-single-speaker/kss/1/1_0005.wav'], dtype=object)"
     },
     "metadata": {},
     "output_type": "display_data"
    },
    {
     "data": {
      "text/plain": "<IPython.core.display.Markdown object>",
      "text/markdown": "Syllable Interval Dataframe"
     },
     "metadata": {},
     "output_type": "display_data"
    },
    {
     "data": {
      "text/plain": "    syl    start     stop                                        audio\n0     0  0.00000  0.14298  data/korean-single-speaker/kss/1/1_0000.wav\n1    그  0.14298  0.25143  data/korean-single-speaker/kss/1/1_0000.wav\n2     는  0.25143  0.49473  data/korean-single-speaker/kss/1/1_0000.wav\n3     0  0.49473  0.52397  data/korean-single-speaker/kss/1/1_0000.wav\n4   괜  0.52397  0.71846  data/korean-single-speaker/kss/1/1_0000.wav\n..  ...      ...      ...                                          ...\n7   잘  0.67573  0.91961  data/korean-single-speaker/kss/1/1_0005.wav\n8    아  0.91961  1.07637  data/korean-single-speaker/kss/1/1_0005.wav\n9    세  1.07637  1.28889  data/korean-single-speaker/kss/1/1_0005.wav\n10  요?  1.28889  1.44689  data/korean-single-speaker/kss/1/1_0005.wav\n11   0   1.44689  1.68841  data/korean-single-speaker/kss/1/1_0005.wav\n\n[95 rows x 4 columns]",
      "text/html": "<div>\n<style scoped>\n    .dataframe tbody tr th:only-of-type {\n        vertical-align: middle;\n    }\n\n    .dataframe tbody tr th {\n        vertical-align: top;\n    }\n\n    .dataframe thead th {\n        text-align: right;\n    }\n</style>\n<table border=\"1\" class=\"dataframe\">\n  <thead>\n    <tr style=\"text-align: right;\">\n      <th></th>\n      <th>syl</th>\n      <th>start</th>\n      <th>stop</th>\n      <th>audio</th>\n    </tr>\n  </thead>\n  <tbody>\n    <tr>\n      <th>0</th>\n      <td>0</td>\n      <td>0.00000</td>\n      <td>0.14298</td>\n      <td>data/korean-single-speaker/kss/1/1_0000.wav</td>\n    </tr>\n    <tr>\n      <th>1</th>\n      <td>그</td>\n      <td>0.14298</td>\n      <td>0.25143</td>\n      <td>data/korean-single-speaker/kss/1/1_0000.wav</td>\n    </tr>\n    <tr>\n      <th>2</th>\n      <td>는</td>\n      <td>0.25143</td>\n      <td>0.49473</td>\n      <td>data/korean-single-speaker/kss/1/1_0000.wav</td>\n    </tr>\n    <tr>\n      <th>3</th>\n      <td>0</td>\n      <td>0.49473</td>\n      <td>0.52397</td>\n      <td>data/korean-single-speaker/kss/1/1_0000.wav</td>\n    </tr>\n    <tr>\n      <th>4</th>\n      <td>괜</td>\n      <td>0.52397</td>\n      <td>0.71846</td>\n      <td>data/korean-single-speaker/kss/1/1_0000.wav</td>\n    </tr>\n    <tr>\n      <th>...</th>\n      <td>...</td>\n      <td>...</td>\n      <td>...</td>\n      <td>...</td>\n    </tr>\n    <tr>\n      <th>7</th>\n      <td>잘</td>\n      <td>0.67573</td>\n      <td>0.91961</td>\n      <td>data/korean-single-speaker/kss/1/1_0005.wav</td>\n    </tr>\n    <tr>\n      <th>8</th>\n      <td>아</td>\n      <td>0.91961</td>\n      <td>1.07637</td>\n      <td>data/korean-single-speaker/kss/1/1_0005.wav</td>\n    </tr>\n    <tr>\n      <th>9</th>\n      <td>세</td>\n      <td>1.07637</td>\n      <td>1.28889</td>\n      <td>data/korean-single-speaker/kss/1/1_0005.wav</td>\n    </tr>\n    <tr>\n      <th>10</th>\n      <td>요?</td>\n      <td>1.28889</td>\n      <td>1.44689</td>\n      <td>data/korean-single-speaker/kss/1/1_0005.wav</td>\n    </tr>\n    <tr>\n      <th>11</th>\n      <td>0</td>\n      <td>1.44689</td>\n      <td>1.68841</td>\n      <td>data/korean-single-speaker/kss/1/1_0005.wav</td>\n    </tr>\n  </tbody>\n</table>\n<p>95 rows × 4 columns</p>\n</div>"
     },
     "metadata": {},
     "output_type": "display_data"
    },
    {
     "data": {
      "text/plain": "<IPython.core.display.Markdown object>",
      "text/markdown": "Audio Files"
     },
     "metadata": {},
     "output_type": "display_data"
    },
    {
     "data": {
      "text/plain": "array(['data/korean-single-speaker/kss/1/1_0000.wav',\n       'data/korean-single-speaker/kss/1/1_0001.wav',\n       'data/korean-single-speaker/kss/1/1_0002.wav',\n       'data/korean-single-speaker/kss/1/1_0003.wav',\n       'data/korean-single-speaker/kss/1/1_0004.wav',\n       'data/korean-single-speaker/kss/1/1_0005.wav'], dtype=object)"
     },
     "metadata": {},
     "output_type": "display_data"
    },
    {
     "data": {
      "text/plain": "<Figure size 1080x288 with 2 Axes>",
      "image/png": "[encoded data removed]"
     },
     "metadata": {},
     "output_type": "display_data"
    }
   ],
   "source": [
    "chunk_dir = 'data/korean-single-speaker/kss_chunks'\n",
    "\n",
    "def k_ax(ax, **kwargs):\n",
    "    ax.set_xticklabels(ax.get_xticklabels(), fontproperties=k_prop, rotation=90, **kwargs)\n",
    "\n",
    "def filter_counts(df, val):\n",
    "    counts = df.value_counts()\n",
    "    return counts[counts>val]\n",
    "\n",
    "\n",
    "all_chunk_char_df, all_chunk_syl_df = KssChunk.load_all()\n",
    "\n",
    "# Plot histogram of characters and syllables\n",
    "fig, (ax1, ax2) = plt.subplots(1, 2, figsize=(15,4))\n",
    "fig.suptitle('Horizontally stacked subplots')\n",
    "k_ax(ax1, size=16)\n",
    "k_ax(ax2, size=12)\n",
    "filter_counts(all_chunk_char_df['char'], 4).plot(kind='bar', ax=ax1)\n",
    "filter_counts(all_chunk_syl_df['syl'], 2).plot(kind='bar', ax=ax2)\n",
    "disp.obj(all_chunk_char_df, 'Character Interval Dataframe')\n",
    "disp.obj(all_chunk_char_df['audio'].unique(), 'Audio Files')\n",
    "disp.obj(all_chunk_syl_df, 'Syllable Interval Dataframe')\n",
    "disp.obj(all_chunk_syl_df['audio'].unique(), 'Audio Files')"
   ],
   "metadata": {
    "collapsed": false,
    "pycharm": {
     "name": "#%%\n"
    }
   }
  }
 ],
 "metadata": {
  "kernelspec": {
   "name": "python3",
   "display_name": "Python 3",
   "language": "python"
  },
  "language_info": {
   "name": "python",
   "version": "3.7.9",
   "mimetype": "text/x-python",
   "codemirror_mode": {
    "name": "ipython",
    "version": 3
   },
   "pygments_lexer": "ipython3",
   "nbconvert_exporter": "python",
   "file_extension": ".py"
  },
  "pycharm": {
   "stem_cell": {
    "cell_type": "raw",
    "source": [
     "# TextGrid to char/syl dataframe\n",
     "\n",
     "Given a PRAAT Textgrid (text), add the interval markers to the character/syllable dataframe and update the csv.\n",
     "\n"
    ],
    "metadata": {
     "collapsed": false
    }
   }
  }
 },
 "nbformat": 4,
 "nbformat_minor": 4
}
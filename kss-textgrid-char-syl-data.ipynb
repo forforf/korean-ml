{
 "cells": [
  {
   "cell_type": "code",
   "execution_count": 2,
   "outputs": [],
   "source": [
    "# This Python 3 environment comes with many helpful analytics libraries installed\n",
    "# It is defined by the kaggle/python Docker image: https://github.com/kaggle/docker-python\n",
    "# For example, here's several helpful packages to load\n",
    "\n",
    "import numpy as np # linear algebra\n",
    "import pandas as pd # data processing, CSV file I/O (e.g. pd.read_csv)\n",
    "import matplotlib.pyplot as plt\n",
    "import matplotlib.font_manager as mfm\n",
    "\n",
    "font_path = '/Users/dev/Fonts/Noto_Sans_KR/NotoSansKR-Regular.otf'\n",
    "k_prop = mfm.FontProperties(fname=font_path)\n",
    "plt.style.use('dark_background')\n",
    "\n",
    "# Input data files are available in the read-only \"../input/\" directory\n",
    "# For example, running this (by clicking run or pressing Shift+Enter) will list all files under the input directory\n"
   ],
   "metadata": {
    "collapsed": false,
    "pycharm": {
     "name": "#%%\n"
    }
   }
  },
  {
   "metadata": {},
   "cell_type": "markdown",
   "source": [
    "## Generate Features from PRAAT TextGrid"
   ]
  },
  {
   "cell_type": "code",
   "execution_count": 3,
   "outputs": [],
   "source": [
    "transcript_file = 'data/korean-single-speaker/transcript.v.1.4.txt'\n",
    "tr_df = pd.read_csv(transcript_file, sep=\"|\", names=[\"audio_file\", \"tr_w_num\", \"tr_syl\", \"tr_char\", \"dur\", \"en\"])"
   ],
   "metadata": {
    "collapsed": false,
    "pycharm": {
     "name": "#%%\n"
    }
   }
  },
  {
   "cell_type": "markdown",
   "source": [
    "\n",
    "Inspecting the transcript there are 3 different transcriptions.\n",
    "\n",
    "| <!-- -->    | <!-- -->    |\n",
    "|-------------|-------------|\n",
    "|tr_w_num|Keeps numerics in number form|\n",
    "|tr_syl|String encoding is syllable by syllable|\n",
    "|tr_char|String encoding is character by character|\n",
    "\n"
   ],
   "metadata": {
    "collapsed": false
   }
  },
  {
   "cell_type": "code",
   "execution_count": 4,
   "outputs": [
    {
     "data": {
      "text/plain": "         audio_file                      tr_syl  \\\n0      1/1_0000.wav      그는 괜찮은 척하려고 애쓰는 것 같았다.   \n1      1/1_0001.wav   그녀의 사랑을 얻기 위해 애썼지만 헛수고였다.   \n2      1/1_0002.wav                  용돈을 아껴 써라.   \n3      1/1_0003.wav              그는 아내를 많이 아낀다.   \n4      1/1_0004.wav                그 애 전화번호 알아?   \n...             ...                         ...   \n12849  4/4_5627.wav         깨진 유리 조각에 손가락을 벴어요.   \n12850  4/4_5628.wav  아드님이 친구들과 야구를 하다 유리창을 깼어요.   \n12851  4/4_5629.wav         일찍 신청하는 사람이 유리할 거야.   \n12852  4/4_5630.wav          이 두 소설은 줄거리가 유사해요.   \n12853  4/4_5631.wav            올해 유월은 유난히 쌀쌀해요.   \n\n                                                 tr_char  dur  \\\n0        그는 괜찮은 척하려고 애쓰는 것 같았다.  3.5   \n1      그녀의 사랑을 얻기 위해 애썼지만 헛수고ᄋ...  4.0   \n2                                   용돈을 아껴 써라.  1.8   \n3                           그는 아내를 많이 아낀다.  2.3   \n4                                그 애 전화번호 알아?  1.3   \n...                                                  ...  ...   \n12849            깨진 유리 조각에 손가락을 벴어요.  3.9   \n12850  아드님이 친구들과 야구를 하다 유리창을 ᄁ...  5.4   \n12851           일찍 신청하는 사람이 유리할 거야.  3.7   \n12852                 이 두 소설은 줄거리가 유사해요.  3.5   \n12853                 올해 유월은 유난히 쌀쌀해요.  3.2   \n\n                                                      en  \n0                 He seemed to be pretending to be okay.  \n1                       I tried in vain to win her love.  \n2                                Save your pocket money.  \n3                                 He cherishes his wife.  \n4                                Do you know his number?  \n...                                                  ...  \n12849        I cut my finger on a piece of broken glass.  \n12850  Your son was playing baseball with his friends...  \n12851         Early applicants will be given advantages.  \n12852  These two novels are much alike in their synop...  \n12853                It's particularly chilly this June.  \n\n[12854 rows x 5 columns]",
      "text/html": "<div>\n<style scoped>\n    .dataframe tbody tr th:only-of-type {\n        vertical-align: middle;\n    }\n\n    .dataframe tbody tr th {\n        vertical-align: top;\n    }\n\n    .dataframe thead th {\n        text-align: right;\n    }\n</style>\n<table border=\"1\" class=\"dataframe\">\n  <thead>\n    <tr style=\"text-align: right;\">\n      <th></th>\n      <th>audio_file</th>\n      <th>tr_syl</th>\n      <th>tr_char</th>\n      <th>dur</th>\n      <th>en</th>\n    </tr>\n  </thead>\n  <tbody>\n    <tr>\n      <th>0</th>\n      <td>1/1_0000.wav</td>\n      <td>그는 괜찮은 척하려고 애쓰는 것 같았다.</td>\n      <td>그는 괜찮은 척하려고 애쓰는 것 같았다.</td>\n      <td>3.5</td>\n      <td>He seemed to be pretending to be okay.</td>\n    </tr>\n    <tr>\n      <th>1</th>\n      <td>1/1_0001.wav</td>\n      <td>그녀의 사랑을 얻기 위해 애썼지만 헛수고였다.</td>\n      <td>그녀의 사랑을 얻기 위해 애썼지만 헛수고ᄋ...</td>\n      <td>4.0</td>\n      <td>I tried in vain to win her love.</td>\n    </tr>\n    <tr>\n      <th>2</th>\n      <td>1/1_0002.wav</td>\n      <td>용돈을 아껴 써라.</td>\n      <td>용돈을 아껴 써라.</td>\n      <td>1.8</td>\n      <td>Save your pocket money.</td>\n    </tr>\n    <tr>\n      <th>3</th>\n      <td>1/1_0003.wav</td>\n      <td>그는 아내를 많이 아낀다.</td>\n      <td>그는 아내를 많이 아낀다.</td>\n      <td>2.3</td>\n      <td>He cherishes his wife.</td>\n    </tr>\n    <tr>\n      <th>4</th>\n      <td>1/1_0004.wav</td>\n      <td>그 애 전화번호 알아?</td>\n      <td>그 애 전화번호 알아?</td>\n      <td>1.3</td>\n      <td>Do you know his number?</td>\n    </tr>\n    <tr>\n      <th>...</th>\n      <td>...</td>\n      <td>...</td>\n      <td>...</td>\n      <td>...</td>\n      <td>...</td>\n    </tr>\n    <tr>\n      <th>12849</th>\n      <td>4/4_5627.wav</td>\n      <td>깨진 유리 조각에 손가락을 벴어요.</td>\n      <td>깨진 유리 조각에 손가락을 벴어요.</td>\n      <td>3.9</td>\n      <td>I cut my finger on a piece of broken glass.</td>\n    </tr>\n    <tr>\n      <th>12850</th>\n      <td>4/4_5628.wav</td>\n      <td>아드님이 친구들과 야구를 하다 유리창을 깼어요.</td>\n      <td>아드님이 친구들과 야구를 하다 유리창을 ᄁ...</td>\n      <td>5.4</td>\n      <td>Your son was playing baseball with his friends...</td>\n    </tr>\n    <tr>\n      <th>12851</th>\n      <td>4/4_5629.wav</td>\n      <td>일찍 신청하는 사람이 유리할 거야.</td>\n      <td>일찍 신청하는 사람이 유리할 거야.</td>\n      <td>3.7</td>\n      <td>Early applicants will be given advantages.</td>\n    </tr>\n    <tr>\n      <th>12852</th>\n      <td>4/4_5630.wav</td>\n      <td>이 두 소설은 줄거리가 유사해요.</td>\n      <td>이 두 소설은 줄거리가 유사해요.</td>\n      <td>3.5</td>\n      <td>These two novels are much alike in their synop...</td>\n    </tr>\n    <tr>\n      <th>12853</th>\n      <td>4/4_5631.wav</td>\n      <td>올해 유월은 유난히 쌀쌀해요.</td>\n      <td>올해 유월은 유난히 쌀쌀해요.</td>\n      <td>3.2</td>\n      <td>It's particularly chilly this June.</td>\n    </tr>\n  </tbody>\n</table>\n<p>12854 rows × 5 columns</p>\n</div>"
     },
     "execution_count": 4,
     "metadata": {},
     "output_type": "execute_result"
    }
   ],
   "source": [
    "# Since we are not interested in numerics as numbers, we drop that column\n",
    "tr_df = tr_df.drop(columns=['tr_w_num'])\n",
    "tr_df"
   ],
   "metadata": {
    "collapsed": false,
    "pycharm": {
     "name": "#%%\n"
    }
   }
  },
  {
   "cell_type": "markdown",
   "source": [
    "## Audio Analysis\n",
    "\n",
    "Informational:\n",
    "* Consonant Phonemes duration 25-50 msec\n",
    "* Vowel Phonemes duration 50-100+ msec\n"
   ],
   "metadata": {
    "collapsed": false
   }
  },
  {
   "cell_type": "code",
   "execution_count": 5,
   "outputs": [],
   "source": [
    "# /kaggle/input/korean-single-speaker-speech-dataset/transcript.v.1.4.txt\n",
    "# /kaggle/input/korean-single-speaker-speech-dataset/kss/1/1_0845.wav (example)\n",
    "\n",
    "# from comet_ml import Experiment\n",
    "import librosa\n",
    "import librosa.display\n",
    "from scipy.io import wavfile as wav\n",
    "import IPython"
   ],
   "metadata": {
    "collapsed": false,
    "pycharm": {
     "name": "#%%\n"
    }
   }
  },
  {
   "cell_type": "code",
   "execution_count": 6,
   "outputs": [],
   "source": [
    "import textgrid\n",
    "\n",
    "class KssTextGrid:\n",
    "\n",
    "    # kss id example: 1_0003\n",
    "    # will refer to textgrid of 1_1003.TextGrid and 1_1003.wav\n",
    "    def __init__(self, kss_id, base_dir):\n",
    "        self.id = kss_id\n",
    "        self.base_dir = base_dir\n",
    "        self.tg_file = f'{self.id}.TextGrid'\n",
    "        self.audio_file = f'{self.id}.wav'\n",
    "        self.tg_path = f'{self.base_dir}/{self.tg_file}'\n",
    "        self.audio_path = f'{self.base_dir}/{self.audio_file}'\n",
    "        self.tg = textgrid.TextGrid.fromFile(self.tg_path)\n",
    "\n",
    "    def chars_df(self):\n",
    "        char_list =  [ [iv.mark, iv.minTime, iv.maxTime, self.audio_path] for iv in self.tg[0].intervals ]\n",
    "        return pd.DataFrame(char_list, columns=['char', 'start', 'stop', 'audio'])\n",
    "\n",
    "    def syls_df(self):\n",
    "        syl_list = [ [ivl.mark, ivl.minTime, ivl.maxTime, self.audio_path] for ivl in self.tg[1].intervals]\n",
    "        return pd.DataFrame(syl_list, columns=['syl', 'start', 'stop', 'audio'])\n",
    "\n",
    "\n",
    "class KssChunk:\n",
    "\n",
    "    def __init__(self, df, csv):\n",
    "        self.df = df\n",
    "        self.csv = csv\n",
    "\n",
    "    def append(self):\n",
    "        self.df.to_csv(self.csv, mode='a', header=False, index=False)"
   ],
   "metadata": {
    "collapsed": false,
    "pycharm": {
     "name": "#%%\n"
    }
   }
  },
  {
   "cell_type": "code",
   "execution_count": 25,
   "outputs": [
    {
     "data": {
      "text/plain": "   char    start     stop                                        audio\n0     0  0.00000  0.14298  data/korean-single-speaker/kss/1/1_0000.wav\n1     ᄀ  0.14298  0.17326  data/korean-single-speaker/kss/1/1_0000.wav\n2     ᅳ  0.17326  0.25143  data/korean-single-speaker/kss/1/1_0000.wav\n3     ᆫ  0.25143  0.30110  data/korean-single-speaker/kss/1/1_0000.wav\n4     ᅳ  0.30110  0.39456  data/korean-single-speaker/kss/1/1_0000.wav\n5     ᆫ  0.39456  0.49473  data/korean-single-speaker/kss/1/1_0000.wav\n6     0  0.49473  0.52397  data/korean-single-speaker/kss/1/1_0000.wav\n7     ᄀ  0.52397  0.57170  data/korean-single-speaker/kss/1/1_0000.wav\n8     ᅫ  0.57170  0.66385  data/korean-single-speaker/kss/1/1_0000.wav\n9     ᆫ  0.66385  0.71846  data/korean-single-speaker/kss/1/1_0000.wav\n10    0  0.71846  0.73074  data/korean-single-speaker/kss/1/1_0000.wav\n11    ᄎ  0.73074  0.79280  data/korean-single-speaker/kss/1/1_0000.wav\n12    ᅡ  0.79280  0.86105  data/korean-single-speaker/kss/1/1_0000.wav\n13    ᆭ  0.86105  0.89470  data/korean-single-speaker/kss/1/1_0000.wav\n14   으  0.89470  0.94568  data/korean-single-speaker/kss/1/1_0000.wav\n15    ᆫ  0.94568  0.98747  data/korean-single-speaker/kss/1/1_0000.wav\n16    0  0.98747  1.00429  data/korean-single-speaker/kss/1/1_0000.wav\n17    ᄎ  1.00429  1.05658  data/korean-single-speaker/kss/1/1_0000.wav\n18    ᅥ  1.05658  1.12825  data/korean-single-speaker/kss/1/1_0000.wav\n19   ᆨ~  1.12825  1.20548  data/korean-single-speaker/kss/1/1_0000.wav\n20   ~ᆨ  1.20548  1.24674  data/korean-single-speaker/kss/1/1_0000.wav\n21    ᄒ  1.24674  1.27921  data/korean-single-speaker/kss/1/1_0000.wav\n22    ᅡ  1.27921  1.33187  data/korean-single-speaker/kss/1/1_0000.wav\n23    ᄅ  1.33187  1.35667  data/korean-single-speaker/kss/1/1_0000.wav\n24    ᅧ  1.35667  1.50828  data/korean-single-speaker/kss/1/1_0000.wav\n25    0  1.50828  1.54819  data/korean-single-speaker/kss/1/1_0000.wav\n26    ᆨ  1.54819  1.57780  data/korean-single-speaker/kss/1/1_0000.wav\n27    ᅩ  1.57780  1.73609  data/korean-single-speaker/kss/1/1_0000.wav\n28    0  1.73609  2.04869  data/korean-single-speaker/kss/1/1_0000.wav\n29   애  2.04869  2.15518  data/korean-single-speaker/kss/1/1_0000.wav\n30    ᆻ  2.15518  2.28461  data/korean-single-speaker/kss/1/1_0000.wav\n31    ᅳ  2.28461  2.34430  data/korean-single-speaker/kss/1/1_0000.wav\n32    ᆫ  2.34430  2.37857  data/korean-single-speaker/kss/1/1_0000.wav\n33    ᅳ  2.37857  2.45163  data/korean-single-speaker/kss/1/1_0000.wav\n34    ᆫ  2.45163  2.53042  data/korean-single-speaker/kss/1/1_0000.wav\n35    ᆨ  2.53042  2.55297  data/korean-single-speaker/kss/1/1_0000.wav\n36    ᅥ  2.55297  2.61609  data/korean-single-speaker/kss/1/1_0000.wav\n37    ᆺ  2.61609  2.63233  data/korean-single-speaker/kss/1/1_0000.wav\n38    0  2.63233  2.68239  data/korean-single-speaker/kss/1/1_0000.wav\n39    ᆨ  2.68239  2.70290  data/korean-single-speaker/kss/1/1_0000.wav\n40    ᅡ  2.70290  2.76329  data/korean-single-speaker/kss/1/1_0000.wav\n41   ᇀ~  2.76329  2.86374  data/korean-single-speaker/kss/1/1_0000.wav\n42   ~ᇀ  2.86374  2.88250  data/korean-single-speaker/kss/1/1_0000.wav\n43   아  2.88250  2.95272  data/korean-single-speaker/kss/1/1_0000.wav\n44    ᆻ  2.95272  3.14772  data/korean-single-speaker/kss/1/1_0000.wav\n45    ᄃ  3.14772  3.15830  data/korean-single-speaker/kss/1/1_0000.wav\n46    ᅡ  3.15830  3.41730  data/korean-single-speaker/kss/1/1_0000.wav\n47    0  3.41730  3.52653  data/korean-single-speaker/kss/1/1_0000.wav",
      "text/html": "<div>\n<style scoped>\n    .dataframe tbody tr th:only-of-type {\n        vertical-align: middle;\n    }\n\n    .dataframe tbody tr th {\n        vertical-align: top;\n    }\n\n    .dataframe thead th {\n        text-align: right;\n    }\n</style>\n<table border=\"1\" class=\"dataframe\">\n  <thead>\n    <tr style=\"text-align: right;\">\n      <th></th>\n      <th>char</th>\n      <th>start</th>\n      <th>stop</th>\n      <th>audio</th>\n    </tr>\n  </thead>\n  <tbody>\n    <tr>\n      <th>0</th>\n      <td>0</td>\n      <td>0.00000</td>\n      <td>0.14298</td>\n      <td>data/korean-single-speaker/kss/1/1_0000.wav</td>\n    </tr>\n    <tr>\n      <th>1</th>\n      <td>ᄀ</td>\n      <td>0.14298</td>\n      <td>0.17326</td>\n      <td>data/korean-single-speaker/kss/1/1_0000.wav</td>\n    </tr>\n    <tr>\n      <th>2</th>\n      <td>ᅳ</td>\n      <td>0.17326</td>\n      <td>0.25143</td>\n      <td>data/korean-single-speaker/kss/1/1_0000.wav</td>\n    </tr>\n    <tr>\n      <th>3</th>\n      <td>ᆫ</td>\n      <td>0.25143</td>\n      <td>0.30110</td>\n      <td>data/korean-single-speaker/kss/1/1_0000.wav</td>\n    </tr>\n    <tr>\n      <th>4</th>\n      <td>ᅳ</td>\n      <td>0.30110</td>\n      <td>0.39456</td>\n      <td>data/korean-single-speaker/kss/1/1_0000.wav</td>\n    </tr>\n    <tr>\n      <th>5</th>\n      <td>ᆫ</td>\n      <td>0.39456</td>\n      <td>0.49473</td>\n      <td>data/korean-single-speaker/kss/1/1_0000.wav</td>\n    </tr>\n    <tr>\n      <th>6</th>\n      <td>0</td>\n      <td>0.49473</td>\n      <td>0.52397</td>\n      <td>data/korean-single-speaker/kss/1/1_0000.wav</td>\n    </tr>\n    <tr>\n      <th>7</th>\n      <td>ᄀ</td>\n      <td>0.52397</td>\n      <td>0.57170</td>\n      <td>data/korean-single-speaker/kss/1/1_0000.wav</td>\n    </tr>\n    <tr>\n      <th>8</th>\n      <td>ᅫ</td>\n      <td>0.57170</td>\n      <td>0.66385</td>\n      <td>data/korean-single-speaker/kss/1/1_0000.wav</td>\n    </tr>\n    <tr>\n      <th>9</th>\n      <td>ᆫ</td>\n      <td>0.66385</td>\n      <td>0.71846</td>\n      <td>data/korean-single-speaker/kss/1/1_0000.wav</td>\n    </tr>\n    <tr>\n      <th>10</th>\n      <td>0</td>\n      <td>0.71846</td>\n      <td>0.73074</td>\n      <td>data/korean-single-speaker/kss/1/1_0000.wav</td>\n    </tr>\n    <tr>\n      <th>11</th>\n      <td>ᄎ</td>\n      <td>0.73074</td>\n      <td>0.79280</td>\n      <td>data/korean-single-speaker/kss/1/1_0000.wav</td>\n    </tr>\n    <tr>\n      <th>12</th>\n      <td>ᅡ</td>\n      <td>0.79280</td>\n      <td>0.86105</td>\n      <td>data/korean-single-speaker/kss/1/1_0000.wav</td>\n    </tr>\n    <tr>\n      <th>13</th>\n      <td>ᆭ</td>\n      <td>0.86105</td>\n      <td>0.89470</td>\n      <td>data/korean-single-speaker/kss/1/1_0000.wav</td>\n    </tr>\n    <tr>\n      <th>14</th>\n      <td>으</td>\n      <td>0.89470</td>\n      <td>0.94568</td>\n      <td>data/korean-single-speaker/kss/1/1_0000.wav</td>\n    </tr>\n    <tr>\n      <th>15</th>\n      <td>ᆫ</td>\n      <td>0.94568</td>\n      <td>0.98747</td>\n      <td>data/korean-single-speaker/kss/1/1_0000.wav</td>\n    </tr>\n    <tr>\n      <th>16</th>\n      <td>0</td>\n      <td>0.98747</td>\n      <td>1.00429</td>\n      <td>data/korean-single-speaker/kss/1/1_0000.wav</td>\n    </tr>\n    <tr>\n      <th>17</th>\n      <td>ᄎ</td>\n      <td>1.00429</td>\n      <td>1.05658</td>\n      <td>data/korean-single-speaker/kss/1/1_0000.wav</td>\n    </tr>\n    <tr>\n      <th>18</th>\n      <td>ᅥ</td>\n      <td>1.05658</td>\n      <td>1.12825</td>\n      <td>data/korean-single-speaker/kss/1/1_0000.wav</td>\n    </tr>\n    <tr>\n      <th>19</th>\n      <td>ᆨ~</td>\n      <td>1.12825</td>\n      <td>1.20548</td>\n      <td>data/korean-single-speaker/kss/1/1_0000.wav</td>\n    </tr>\n    <tr>\n      <th>20</th>\n      <td>~ᆨ</td>\n      <td>1.20548</td>\n      <td>1.24674</td>\n      <td>data/korean-single-speaker/kss/1/1_0000.wav</td>\n    </tr>\n    <tr>\n      <th>21</th>\n      <td>ᄒ</td>\n      <td>1.24674</td>\n      <td>1.27921</td>\n      <td>data/korean-single-speaker/kss/1/1_0000.wav</td>\n    </tr>\n    <tr>\n      <th>22</th>\n      <td>ᅡ</td>\n      <td>1.27921</td>\n      <td>1.33187</td>\n      <td>data/korean-single-speaker/kss/1/1_0000.wav</td>\n    </tr>\n    <tr>\n      <th>23</th>\n      <td>ᄅ</td>\n      <td>1.33187</td>\n      <td>1.35667</td>\n      <td>data/korean-single-speaker/kss/1/1_0000.wav</td>\n    </tr>\n    <tr>\n      <th>24</th>\n      <td>ᅧ</td>\n      <td>1.35667</td>\n      <td>1.50828</td>\n      <td>data/korean-single-speaker/kss/1/1_0000.wav</td>\n    </tr>\n    <tr>\n      <th>25</th>\n      <td>0</td>\n      <td>1.50828</td>\n      <td>1.54819</td>\n      <td>data/korean-single-speaker/kss/1/1_0000.wav</td>\n    </tr>\n    <tr>\n      <th>26</th>\n      <td>ᆨ</td>\n      <td>1.54819</td>\n      <td>1.57780</td>\n      <td>data/korean-single-speaker/kss/1/1_0000.wav</td>\n    </tr>\n    <tr>\n      <th>27</th>\n      <td>ᅩ</td>\n      <td>1.57780</td>\n      <td>1.73609</td>\n      <td>data/korean-single-speaker/kss/1/1_0000.wav</td>\n    </tr>\n    <tr>\n      <th>28</th>\n      <td>0</td>\n      <td>1.73609</td>\n      <td>2.04869</td>\n      <td>data/korean-single-speaker/kss/1/1_0000.wav</td>\n    </tr>\n    <tr>\n      <th>29</th>\n      <td>애</td>\n      <td>2.04869</td>\n      <td>2.15518</td>\n      <td>data/korean-single-speaker/kss/1/1_0000.wav</td>\n    </tr>\n    <tr>\n      <th>30</th>\n      <td>ᆻ</td>\n      <td>2.15518</td>\n      <td>2.28461</td>\n      <td>data/korean-single-speaker/kss/1/1_0000.wav</td>\n    </tr>\n    <tr>\n      <th>31</th>\n      <td>ᅳ</td>\n      <td>2.28461</td>\n      <td>2.34430</td>\n      <td>data/korean-single-speaker/kss/1/1_0000.wav</td>\n    </tr>\n    <tr>\n      <th>32</th>\n      <td>ᆫ</td>\n      <td>2.34430</td>\n      <td>2.37857</td>\n      <td>data/korean-single-speaker/kss/1/1_0000.wav</td>\n    </tr>\n    <tr>\n      <th>33</th>\n      <td>ᅳ</td>\n      <td>2.37857</td>\n      <td>2.45163</td>\n      <td>data/korean-single-speaker/kss/1/1_0000.wav</td>\n    </tr>\n    <tr>\n      <th>34</th>\n      <td>ᆫ</td>\n      <td>2.45163</td>\n      <td>2.53042</td>\n      <td>data/korean-single-speaker/kss/1/1_0000.wav</td>\n    </tr>\n    <tr>\n      <th>35</th>\n      <td>ᆨ</td>\n      <td>2.53042</td>\n      <td>2.55297</td>\n      <td>data/korean-single-speaker/kss/1/1_0000.wav</td>\n    </tr>\n    <tr>\n      <th>36</th>\n      <td>ᅥ</td>\n      <td>2.55297</td>\n      <td>2.61609</td>\n      <td>data/korean-single-speaker/kss/1/1_0000.wav</td>\n    </tr>\n    <tr>\n      <th>37</th>\n      <td>ᆺ</td>\n      <td>2.61609</td>\n      <td>2.63233</td>\n      <td>data/korean-single-speaker/kss/1/1_0000.wav</td>\n    </tr>\n    <tr>\n      <th>38</th>\n      <td>0</td>\n      <td>2.63233</td>\n      <td>2.68239</td>\n      <td>data/korean-single-speaker/kss/1/1_0000.wav</td>\n    </tr>\n    <tr>\n      <th>39</th>\n      <td>ᆨ</td>\n      <td>2.68239</td>\n      <td>2.70290</td>\n      <td>data/korean-single-speaker/kss/1/1_0000.wav</td>\n    </tr>\n    <tr>\n      <th>40</th>\n      <td>ᅡ</td>\n      <td>2.70290</td>\n      <td>2.76329</td>\n      <td>data/korean-single-speaker/kss/1/1_0000.wav</td>\n    </tr>\n    <tr>\n      <th>41</th>\n      <td>ᇀ~</td>\n      <td>2.76329</td>\n      <td>2.86374</td>\n      <td>data/korean-single-speaker/kss/1/1_0000.wav</td>\n    </tr>\n    <tr>\n      <th>42</th>\n      <td>~ᇀ</td>\n      <td>2.86374</td>\n      <td>2.88250</td>\n      <td>data/korean-single-speaker/kss/1/1_0000.wav</td>\n    </tr>\n    <tr>\n      <th>43</th>\n      <td>아</td>\n      <td>2.88250</td>\n      <td>2.95272</td>\n      <td>data/korean-single-speaker/kss/1/1_0000.wav</td>\n    </tr>\n    <tr>\n      <th>44</th>\n      <td>ᆻ</td>\n      <td>2.95272</td>\n      <td>3.14772</td>\n      <td>data/korean-single-speaker/kss/1/1_0000.wav</td>\n    </tr>\n    <tr>\n      <th>45</th>\n      <td>ᄃ</td>\n      <td>3.14772</td>\n      <td>3.15830</td>\n      <td>data/korean-single-speaker/kss/1/1_0000.wav</td>\n    </tr>\n    <tr>\n      <th>46</th>\n      <td>ᅡ</td>\n      <td>3.15830</td>\n      <td>3.41730</td>\n      <td>data/korean-single-speaker/kss/1/1_0000.wav</td>\n    </tr>\n    <tr>\n      <th>47</th>\n      <td>0</td>\n      <td>3.41730</td>\n      <td>3.52653</td>\n      <td>data/korean-single-speaker/kss/1/1_0000.wav</td>\n    </tr>\n  </tbody>\n</table>\n</div>"
     },
     "execution_count": 25,
     "metadata": {},
     "output_type": "execute_result"
    }
   ],
   "source": [
    "tg_dir = 'data/korean-single-speaker/kss/1'\n",
    "# tg_file = '1_0003.TextGrid'\n",
    "# audio_file = '1_0003.wav'\n",
    "# tg_path = f'{tg_dir}/{tg_file}'\n",
    "# audio_path = f'{tg_dir}/{audio_file}'\n",
    "# print(tg_path)\n",
    "# tg = textgrid.TextGrid.fromFile(tg_path)\n",
    "kss_id = '1_0000'\n",
    "chunk_dir = 'data/korean-single-speaker/kss_chunks'\n",
    "chunk_char_path = f'{chunk_dir}/chunk_char.csv'\n",
    "chunk_syl_path = f'{chunk_dir}/chunk_syl.csv'\n",
    "tg = KssTextGrid(kss_id, tg_dir)\n",
    "kss_char = KssChunk(tg.chars_df(), chunk_char_path)\n",
    "kss_syl = KssChunk(tg.syls_df(), chunk_syl_path)\n",
    "kss_char.df"
   ],
   "metadata": {
    "collapsed": false,
    "pycharm": {
     "name": "#%%\n"
    }
   }
  },
  {
   "cell_type": "markdown",
   "source": [
    "## Statistics"
   ],
   "metadata": {
    "collapsed": false,
    "pycharm": {
     "name": "#%% md\n"
    }
   }
  },
  {
   "cell_type": "code",
   "execution_count": 26,
   "outputs": [
    {
     "name": "stdout",
     "output_type": "stream",
     "text": [
      "Interval Statistics (describe)\n",
      "count    24.000000\n",
      "mean      0.146939\n",
      "std       0.084129\n",
      "min       0.012280\n",
      "25%       0.099625\n",
      "50%       0.153470\n",
      "75%       0.190462\n",
      "max       0.312600\n",
      "dtype: float64\n"
     ]
    }
   ],
   "source": [
    "print('Interval Statistics (describe)')\n",
    "print((kss_syl.df['stop'] - kss_syl.df['start']).describe())"
   ],
   "metadata": {
    "collapsed": false,
    "pycharm": {
     "name": "#%%\n"
    }
   }
  },
  {
   "cell_type": "code",
   "execution_count": 127,
   "outputs": [
    {
     "data": {
      "text/plain": "   char    start     stop                                        audio\n0     0  0.00000  0.08071  data/korean-single-speaker/kss/1/1_0003.wav\n1     ᄀ  0.08071  0.12089  data/korean-single-speaker/kss/1/1_0003.wav\n2     ᅳ  0.12089  0.15231  data/korean-single-speaker/kss/1/1_0003.wav\n3     ᄂ  0.15231  0.20956  data/korean-single-speaker/kss/1/1_0003.wav\n4     ᅳ  0.20956  0.30481  data/korean-single-speaker/kss/1/1_0003.wav\n5     ᆫ  0.30481  0.48924  data/korean-single-speaker/kss/1/1_0003.wav\n6     0  0.48924  0.75129  data/korean-single-speaker/kss/1/1_0003.wav\n7    아  0.75129  0.88808  data/korean-single-speaker/kss/1/1_0003.wav\n8     ᄂ  0.88808  0.94573  data/korean-single-speaker/kss/1/1_0003.wav\n9     ᅢ  0.94573  1.02123  data/korean-single-speaker/kss/1/1_0003.wav\n10    ᄅ  1.02123  1.06647  data/korean-single-speaker/kss/1/1_0003.wav\n11    ᅳ  1.06647  1.15844  data/korean-single-speaker/kss/1/1_0003.wav\n12    ᆯ  1.15844  1.23614  data/korean-single-speaker/kss/1/1_0003.wav\n13    ᄆ  1.23614  1.24294  data/korean-single-speaker/kss/1/1_0003.wav\n14    ᅡ  1.24294  1.39564  data/korean-single-speaker/kss/1/1_0003.wav\n15    ᆭ  1.39564  1.45550  data/korean-single-speaker/kss/1/1_0003.wav\n16   이  1.45550  1.53270  data/korean-single-speaker/kss/1/1_0003.wav\n17   아  1.53270  1.75352  data/korean-single-speaker/kss/1/1_0003.wav\n18    ᄁ  1.75352  1.78153  data/korean-single-speaker/kss/1/1_0003.wav\n19    ᅵ  1.78153  1.83571  data/korean-single-speaker/kss/1/1_0003.wav\n20    ᆫ  1.83571  1.97293  data/korean-single-speaker/kss/1/1_0003.wav\n21    ᄃ  1.97293  1.98396  data/korean-single-speaker/kss/1/1_0003.wav\n22    ᅡ  1.98396  2.19790  data/korean-single-speaker/kss/1/1_0003.wav\n23    0  2.19790  2.30753  data/korean-single-speaker/kss/1/1_0003.wav",
      "text/html": "<div>\n<style scoped>\n    .dataframe tbody tr th:only-of-type {\n        vertical-align: middle;\n    }\n\n    .dataframe tbody tr th {\n        vertical-align: top;\n    }\n\n    .dataframe thead th {\n        text-align: right;\n    }\n</style>\n<table border=\"1\" class=\"dataframe\">\n  <thead>\n    <tr style=\"text-align: right;\">\n      <th></th>\n      <th>char</th>\n      <th>start</th>\n      <th>stop</th>\n      <th>audio</th>\n    </tr>\n  </thead>\n  <tbody>\n    <tr>\n      <th>0</th>\n      <td>0</td>\n      <td>0.00000</td>\n      <td>0.08071</td>\n      <td>data/korean-single-speaker/kss/1/1_0003.wav</td>\n    </tr>\n    <tr>\n      <th>1</th>\n      <td>ᄀ</td>\n      <td>0.08071</td>\n      <td>0.12089</td>\n      <td>data/korean-single-speaker/kss/1/1_0003.wav</td>\n    </tr>\n    <tr>\n      <th>2</th>\n      <td>ᅳ</td>\n      <td>0.12089</td>\n      <td>0.15231</td>\n      <td>data/korean-single-speaker/kss/1/1_0003.wav</td>\n    </tr>\n    <tr>\n      <th>3</th>\n      <td>ᄂ</td>\n      <td>0.15231</td>\n      <td>0.20956</td>\n      <td>data/korean-single-speaker/kss/1/1_0003.wav</td>\n    </tr>\n    <tr>\n      <th>4</th>\n      <td>ᅳ</td>\n      <td>0.20956</td>\n      <td>0.30481</td>\n      <td>data/korean-single-speaker/kss/1/1_0003.wav</td>\n    </tr>\n    <tr>\n      <th>5</th>\n      <td>ᆫ</td>\n      <td>0.30481</td>\n      <td>0.48924</td>\n      <td>data/korean-single-speaker/kss/1/1_0003.wav</td>\n    </tr>\n    <tr>\n      <th>6</th>\n      <td>0</td>\n      <td>0.48924</td>\n      <td>0.75129</td>\n      <td>data/korean-single-speaker/kss/1/1_0003.wav</td>\n    </tr>\n    <tr>\n      <th>7</th>\n      <td>아</td>\n      <td>0.75129</td>\n      <td>0.88808</td>\n      <td>data/korean-single-speaker/kss/1/1_0003.wav</td>\n    </tr>\n    <tr>\n      <th>8</th>\n      <td>ᄂ</td>\n      <td>0.88808</td>\n      <td>0.94573</td>\n      <td>data/korean-single-speaker/kss/1/1_0003.wav</td>\n    </tr>\n    <tr>\n      <th>9</th>\n      <td>ᅢ</td>\n      <td>0.94573</td>\n      <td>1.02123</td>\n      <td>data/korean-single-speaker/kss/1/1_0003.wav</td>\n    </tr>\n    <tr>\n      <th>10</th>\n      <td>ᄅ</td>\n      <td>1.02123</td>\n      <td>1.06647</td>\n      <td>data/korean-single-speaker/kss/1/1_0003.wav</td>\n    </tr>\n    <tr>\n      <th>11</th>\n      <td>ᅳ</td>\n      <td>1.06647</td>\n      <td>1.15844</td>\n      <td>data/korean-single-speaker/kss/1/1_0003.wav</td>\n    </tr>\n    <tr>\n      <th>12</th>\n      <td>ᆯ</td>\n      <td>1.15844</td>\n      <td>1.23614</td>\n      <td>data/korean-single-speaker/kss/1/1_0003.wav</td>\n    </tr>\n    <tr>\n      <th>13</th>\n      <td>ᄆ</td>\n      <td>1.23614</td>\n      <td>1.24294</td>\n      <td>data/korean-single-speaker/kss/1/1_0003.wav</td>\n    </tr>\n    <tr>\n      <th>14</th>\n      <td>ᅡ</td>\n      <td>1.24294</td>\n      <td>1.39564</td>\n      <td>data/korean-single-speaker/kss/1/1_0003.wav</td>\n    </tr>\n    <tr>\n      <th>15</th>\n      <td>ᆭ</td>\n      <td>1.39564</td>\n      <td>1.45550</td>\n      <td>data/korean-single-speaker/kss/1/1_0003.wav</td>\n    </tr>\n    <tr>\n      <th>16</th>\n      <td>이</td>\n      <td>1.45550</td>\n      <td>1.53270</td>\n      <td>data/korean-single-speaker/kss/1/1_0003.wav</td>\n    </tr>\n    <tr>\n      <th>17</th>\n      <td>아</td>\n      <td>1.53270</td>\n      <td>1.75352</td>\n      <td>data/korean-single-speaker/kss/1/1_0003.wav</td>\n    </tr>\n    <tr>\n      <th>18</th>\n      <td>ᄁ</td>\n      <td>1.75352</td>\n      <td>1.78153</td>\n      <td>data/korean-single-speaker/kss/1/1_0003.wav</td>\n    </tr>\n    <tr>\n      <th>19</th>\n      <td>ᅵ</td>\n      <td>1.78153</td>\n      <td>1.83571</td>\n      <td>data/korean-single-speaker/kss/1/1_0003.wav</td>\n    </tr>\n    <tr>\n      <th>20</th>\n      <td>ᆫ</td>\n      <td>1.83571</td>\n      <td>1.97293</td>\n      <td>data/korean-single-speaker/kss/1/1_0003.wav</td>\n    </tr>\n    <tr>\n      <th>21</th>\n      <td>ᄃ</td>\n      <td>1.97293</td>\n      <td>1.98396</td>\n      <td>data/korean-single-speaker/kss/1/1_0003.wav</td>\n    </tr>\n    <tr>\n      <th>22</th>\n      <td>ᅡ</td>\n      <td>1.98396</td>\n      <td>2.19790</td>\n      <td>data/korean-single-speaker/kss/1/1_0003.wav</td>\n    </tr>\n    <tr>\n      <th>23</th>\n      <td>0</td>\n      <td>2.19790</td>\n      <td>2.30753</td>\n      <td>data/korean-single-speaker/kss/1/1_0003.wav</td>\n    </tr>\n  </tbody>\n</table>\n</div>"
     },
     "metadata": {},
     "output_type": "display_data"
    }
   ],
   "source": [
    "# APPEND to CSV\n",
    "# kss_char.append()\n",
    "# kss_syl.append()\n",
    "\n",
    "## Character and Syllable Chunk Markers"
   ],
   "metadata": {
    "collapsed": false,
    "pycharm": {
     "name": "#%%\n"
    }
   }
  },
  {
   "cell_type": "code",
   "execution_count": 35,
   "outputs": [
    {
     "name": "stderr",
     "output_type": "stream",
     "text": [
      "<ipython-input-35-cca7bf042ae1>:4: UserWarning: FixedFormatter should only be used together with FixedLocator\n",
      "  ax.set_xticklabels(ax.get_xticklabels(), fontproperties=k_prop, rotation=90, **kwargs)\n",
      "/Users/dev/Projects/korean-ml/venv/lib/python3.9/site-packages/pandas/plotting/_matplotlib/tools.py:400: MatplotlibDeprecationWarning: \n",
      "The is_first_col function was deprecated in Matplotlib 3.4 and will be removed two minor releases later. Use ax.get_subplotspec().is_first_col() instead.\n",
      "  if ax.is_first_col():\n",
      "/Users/dev/Projects/korean-ml/venv/lib/python3.9/site-packages/pandas/plotting/_matplotlib/tools.py:400: MatplotlibDeprecationWarning: \n",
      "The is_first_col function was deprecated in Matplotlib 3.4 and will be removed two minor releases later. Use ax.get_subplotspec().is_first_col() instead.\n",
      "  if ax.is_first_col():\n"
     ]
    },
    {
     "data": {
      "text/plain": "    char    start     stop                                        audio\n0      0  0.00000  0.14298  data/korean-single-speaker/kss/1/1_0000.wav\n1      ᄀ  0.14298  0.17326  data/korean-single-speaker/kss/1/1_0000.wav\n2      ᅳ  0.17326  0.25143  data/korean-single-speaker/kss/1/1_0000.wav\n3      ᆫ  0.25143  0.30110  data/korean-single-speaker/kss/1/1_0000.wav\n4      ᅳ  0.30110  0.39456  data/korean-single-speaker/kss/1/1_0000.wav\n..   ...      ...      ...                                          ...\n128    ᅵ  1.78153  1.83571  data/korean-single-speaker/kss/1/1_0003.wav\n129    ᆫ  1.83571  1.97293  data/korean-single-speaker/kss/1/1_0003.wav\n130    ᄃ  1.97293  1.98396  data/korean-single-speaker/kss/1/1_0003.wav\n131    ᅡ  1.98396  2.19790  data/korean-single-speaker/kss/1/1_0003.wav\n132    0  2.19790  2.30753  data/korean-single-speaker/kss/1/1_0003.wav\n\n[133 rows x 4 columns]",
      "text/html": "<div>\n<style scoped>\n    .dataframe tbody tr th:only-of-type {\n        vertical-align: middle;\n    }\n\n    .dataframe tbody tr th {\n        vertical-align: top;\n    }\n\n    .dataframe thead th {\n        text-align: right;\n    }\n</style>\n<table border=\"1\" class=\"dataframe\">\n  <thead>\n    <tr style=\"text-align: right;\">\n      <th></th>\n      <th>char</th>\n      <th>start</th>\n      <th>stop</th>\n      <th>audio</th>\n    </tr>\n  </thead>\n  <tbody>\n    <tr>\n      <th>0</th>\n      <td>0</td>\n      <td>0.00000</td>\n      <td>0.14298</td>\n      <td>data/korean-single-speaker/kss/1/1_0000.wav</td>\n    </tr>\n    <tr>\n      <th>1</th>\n      <td>ᄀ</td>\n      <td>0.14298</td>\n      <td>0.17326</td>\n      <td>data/korean-single-speaker/kss/1/1_0000.wav</td>\n    </tr>\n    <tr>\n      <th>2</th>\n      <td>ᅳ</td>\n      <td>0.17326</td>\n      <td>0.25143</td>\n      <td>data/korean-single-speaker/kss/1/1_0000.wav</td>\n    </tr>\n    <tr>\n      <th>3</th>\n      <td>ᆫ</td>\n      <td>0.25143</td>\n      <td>0.30110</td>\n      <td>data/korean-single-speaker/kss/1/1_0000.wav</td>\n    </tr>\n    <tr>\n      <th>4</th>\n      <td>ᅳ</td>\n      <td>0.30110</td>\n      <td>0.39456</td>\n      <td>data/korean-single-speaker/kss/1/1_0000.wav</td>\n    </tr>\n    <tr>\n      <th>...</th>\n      <td>...</td>\n      <td>...</td>\n      <td>...</td>\n      <td>...</td>\n    </tr>\n    <tr>\n      <th>128</th>\n      <td>ᅵ</td>\n      <td>1.78153</td>\n      <td>1.83571</td>\n      <td>data/korean-single-speaker/kss/1/1_0003.wav</td>\n    </tr>\n    <tr>\n      <th>129</th>\n      <td>ᆫ</td>\n      <td>1.83571</td>\n      <td>1.97293</td>\n      <td>data/korean-single-speaker/kss/1/1_0003.wav</td>\n    </tr>\n    <tr>\n      <th>130</th>\n      <td>ᄃ</td>\n      <td>1.97293</td>\n      <td>1.98396</td>\n      <td>data/korean-single-speaker/kss/1/1_0003.wav</td>\n    </tr>\n    <tr>\n      <th>131</th>\n      <td>ᅡ</td>\n      <td>1.98396</td>\n      <td>2.19790</td>\n      <td>data/korean-single-speaker/kss/1/1_0003.wav</td>\n    </tr>\n    <tr>\n      <th>132</th>\n      <td>0</td>\n      <td>2.19790</td>\n      <td>2.30753</td>\n      <td>data/korean-single-speaker/kss/1/1_0003.wav</td>\n    </tr>\n  </tbody>\n</table>\n<p>133 rows × 4 columns</p>\n</div>"
     },
     "metadata": {},
     "output_type": "display_data"
    },
    {
     "data": {
      "text/plain": "    syl    start     stop                                        audio\n0     0  0.00000  0.14298  data/korean-single-speaker/kss/1/1_0000.wav\n1    그  0.14298  0.25143  data/korean-single-speaker/kss/1/1_0000.wav\n2     는  0.25143  0.49473  data/korean-single-speaker/kss/1/1_0000.wav\n3     0  0.49473  0.52397  data/korean-single-speaker/kss/1/1_0000.wav\n4   괜  0.52397  0.71846  data/korean-single-speaker/kss/1/1_0000.wav\n..  ...      ...      ...                                          ...\n67   이  1.45550  1.53270  data/korean-single-speaker/kss/1/1_0003.wav\n68   아  1.53270  1.75352  data/korean-single-speaker/kss/1/1_0003.wav\n69  낀  1.75352  1.97293  data/korean-single-speaker/kss/1/1_0003.wav\n70   다  1.97293  2.19790  data/korean-single-speaker/kss/1/1_0003.wav\n71    0  2.19790  2.30753  data/korean-single-speaker/kss/1/1_0003.wav\n\n[72 rows x 4 columns]",
      "text/html": "<div>\n<style scoped>\n    .dataframe tbody tr th:only-of-type {\n        vertical-align: middle;\n    }\n\n    .dataframe tbody tr th {\n        vertical-align: top;\n    }\n\n    .dataframe thead th {\n        text-align: right;\n    }\n</style>\n<table border=\"1\" class=\"dataframe\">\n  <thead>\n    <tr style=\"text-align: right;\">\n      <th></th>\n      <th>syl</th>\n      <th>start</th>\n      <th>stop</th>\n      <th>audio</th>\n    </tr>\n  </thead>\n  <tbody>\n    <tr>\n      <th>0</th>\n      <td>0</td>\n      <td>0.00000</td>\n      <td>0.14298</td>\n      <td>data/korean-single-speaker/kss/1/1_0000.wav</td>\n    </tr>\n    <tr>\n      <th>1</th>\n      <td>그</td>\n      <td>0.14298</td>\n      <td>0.25143</td>\n      <td>data/korean-single-speaker/kss/1/1_0000.wav</td>\n    </tr>\n    <tr>\n      <th>2</th>\n      <td>는</td>\n      <td>0.25143</td>\n      <td>0.49473</td>\n      <td>data/korean-single-speaker/kss/1/1_0000.wav</td>\n    </tr>\n    <tr>\n      <th>3</th>\n      <td>0</td>\n      <td>0.49473</td>\n      <td>0.52397</td>\n      <td>data/korean-single-speaker/kss/1/1_0000.wav</td>\n    </tr>\n    <tr>\n      <th>4</th>\n      <td>괜</td>\n      <td>0.52397</td>\n      <td>0.71846</td>\n      <td>data/korean-single-speaker/kss/1/1_0000.wav</td>\n    </tr>\n    <tr>\n      <th>...</th>\n      <td>...</td>\n      <td>...</td>\n      <td>...</td>\n      <td>...</td>\n    </tr>\n    <tr>\n      <th>67</th>\n      <td>이</td>\n      <td>1.45550</td>\n      <td>1.53270</td>\n      <td>data/korean-single-speaker/kss/1/1_0003.wav</td>\n    </tr>\n    <tr>\n      <th>68</th>\n      <td>아</td>\n      <td>1.53270</td>\n      <td>1.75352</td>\n      <td>data/korean-single-speaker/kss/1/1_0003.wav</td>\n    </tr>\n    <tr>\n      <th>69</th>\n      <td>낀</td>\n      <td>1.75352</td>\n      <td>1.97293</td>\n      <td>data/korean-single-speaker/kss/1/1_0003.wav</td>\n    </tr>\n    <tr>\n      <th>70</th>\n      <td>다</td>\n      <td>1.97293</td>\n      <td>2.19790</td>\n      <td>data/korean-single-speaker/kss/1/1_0003.wav</td>\n    </tr>\n    <tr>\n      <th>71</th>\n      <td>0</td>\n      <td>2.19790</td>\n      <td>2.30753</td>\n      <td>data/korean-single-speaker/kss/1/1_0003.wav</td>\n    </tr>\n  </tbody>\n</table>\n<p>72 rows × 4 columns</p>\n</div>"
     },
     "metadata": {},
     "output_type": "display_data"
    },
    {
     "data": {
      "text/plain": "<Figure size 1080x288 with 2 Axes>",
      "image/png": "[encoded data removed]"
     },
     "metadata": {},
     "output_type": "display_data"
    }
   ],
   "source": [
    "chunk_dir = 'data/korean-single-speaker/kss_chunks'\n",
    "\n",
    "def k_ax(ax, **kwargs):\n",
    "    ax.set_xticklabels(ax.get_xticklabels(), fontproperties=k_prop, rotation=90, **kwargs)\n",
    "\n",
    "# chunk_progress_df = pd.read_csv(f'{base_dir}/chunk_progress.csv')\n",
    "# chunk_df = pd.read_csv(f'{base_dir}/chunk.csv')\n",
    "# print(chunk_df)\n",
    "def filter_counts(df, val):\n",
    "    counts = df.value_counts()\n",
    "    return counts[counts>val]\n",
    "    # return counts[counts[col]>val]\n",
    "\n",
    "# df['a'].value_counts()[df['a'].value_counts()>2]\n",
    "chunk_char_df = pd.read_csv(f'{chunk_dir}/chunk_char.csv')\n",
    "chunk_syl_df = pd.read_csv(f'{chunk_dir}/chunk_syl.csv')\n",
    "# display(gt_keep(chunk_char_df['char'], 4))\n",
    "\n",
    "# k_plot()\n",
    "fig, (ax1, ax2) = plt.subplots(1, 2, figsize=(15,4))\n",
    "fig.suptitle('Horizontally stacked subplots')\n",
    "k_ax(ax1, size=16)\n",
    "k_ax(ax2, size=12)\n",
    "filter_counts(chunk_char_df['char'], 4).plot(kind='bar', ax=ax1)\n",
    "filter_counts(chunk_syl_df['syl'], 2).plot(kind='bar', ax=ax2)\n",
    "display(chunk_char_df)\n",
    "display(chunk_syl_df)"
   ],
   "metadata": {
    "collapsed": false,
    "pycharm": {
     "name": "#%%\n"
    }
   }
  }
 ],
 "metadata": {
  "kernelspec": {
   "name": "python3",
   "display_name": "Python 3",
   "language": "python"
  },
  "language_info": {
   "name": "python",
   "version": "3.7.9",
   "mimetype": "text/x-python",
   "codemirror_mode": {
    "name": "ipython",
    "version": 3
   },
   "pygments_lexer": "ipython3",
   "nbconvert_exporter": "python",
   "file_extension": ".py"
  },
  "pycharm": {
   "stem_cell": {
    "cell_type": "raw",
    "source": [
     "# TextGrid to char/syl dataframe\n",
     "\n",
     "Given a PRAAT Textgrid (text), add the interval markers to the character/syllable dataframe and update the csv.\n",
     "\n"
    ],
    "metadata": {
     "collapsed": false
    }
   }
  }
 },
 "nbformat": 4,
 "nbformat_minor": 4
}
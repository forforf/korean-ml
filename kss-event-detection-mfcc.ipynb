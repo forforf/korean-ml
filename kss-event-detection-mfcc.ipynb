{
 "cells": [
  {
   "metadata": {
    "_uuid": "8f2839f25d086af736a60e9eeb907d3b93b6e0e5",
    "_cell_guid": "b1076dfc-b9ad-4769-8c92-a6c4dae69d19",
    "trusted": true,
    "pycharm": {
     "name": "#%% md\n"
    }
   },
   "cell_type": "markdown",
   "source": [
    "# Predict interval boundaries on kss audio"
   ]
  },
  {
   "cell_type": "code",
   "execution_count": 3,
   "outputs": [],
   "source": [
    "# This Python 3 environment comes with many helpful analytics libraries installed\n",
    "# It is defined by the kaggle/python Docker image: https://github.com/kaggle/docker-python\n",
    "# For example, here's several helpful packages to load\n",
    "\n",
    "import numpy as np # linear algebra\n",
    "import pandas as pd # data processing, CSV file I/O (e.g. pd.read_csv)\n",
    "import librosa\n",
    "import IPython\n",
    "import matplotlib.pyplot as plt\n",
    "import matplotlib.font_manager as mfm\n",
    "\n",
    "font_path = '/Users/dev/Fonts/Noto_Sans_KR/NotoSansKR-Regular.otf'\n",
    "k_prop = mfm.FontProperties(fname=font_path)\n",
    "plt.style.use('dark_background')\n",
    "\n",
    "\n",
    "\n",
    "# Input data files are available in the read-only \"../input/\" directory\n",
    "# For example, running this (by clicking run or pressing Shift+Enter) will list all files under the input directory\n"
   ],
   "metadata": {
    "collapsed": false,
    "pycharm": {
     "name": "#%%\n"
    }
   }
  },
  {
   "metadata": {},
   "cell_type": "markdown",
   "source": [
    "## Data Preparation\n",
    "Create features\n"
   ]
  },
  {
   "cell_type": "markdown",
   "source": [
    "## Audio Info\n",
    "\n",
    "Informational:\n",
    "* Consonant Phonemes duration 25-50 msec\n",
    "* Vowel Phonemes duration 50-100+ msec\n"
   ],
   "metadata": {
    "collapsed": false
   }
  },
  {
   "cell_type": "markdown",
   "source": [
    "## Character and Syllable Chunk Markers"
   ],
   "metadata": {
    "collapsed": false,
    "pycharm": {
     "name": "#%% md\n"
    }
   }
  },
  {
   "cell_type": "code",
   "execution_count": 4,
   "outputs": [],
   "source": [
    "chunk_dir = 'data/korean-single-speaker/kss_chunks'\n",
    "\n",
    "chunk_char_df = pd.read_csv(f'{chunk_dir}/chunk_char.csv')\n",
    "chunk_syl_df = pd.read_csv(f'{chunk_dir}/chunk_syl.csv')\n"
   ],
   "metadata": {
    "collapsed": false,
    "pycharm": {
     "name": "#%%\n"
    }
   }
  },
  {
   "cell_type": "markdown",
   "source": [
    "## Event Marker Analysis"
   ],
   "metadata": {
    "collapsed": false
   }
  },
  {
   "cell_type": "markdown",
   "source": [
    "### Event Marker Statistics"
   ],
   "metadata": {
    "collapsed": false,
    "pycharm": {
     "name": "#%% md\n"
    }
   }
  },
  {
   "cell_type": "code",
   "execution_count": 5,
   "outputs": [
    {
     "data": {
      "text/plain": "              ivl       start        stop\ncount  133.000000  133.000000  133.000000\nmean     0.086957    1.417308    1.504264\nstd      0.061730    0.998314    1.009050\nmin      0.006800    0.000000    0.042620\n25%      0.044530    0.592430    0.706540\n50%      0.073060    1.213770    1.279210\n75%      0.113300    2.197060    2.284610\nmax      0.312600    3.713270    3.972180",
      "text/html": "<div>\n<style scoped>\n    .dataframe tbody tr th:only-of-type {\n        vertical-align: middle;\n    }\n\n    .dataframe tbody tr th {\n        vertical-align: top;\n    }\n\n    .dataframe thead th {\n        text-align: right;\n    }\n</style>\n<table border=\"1\" class=\"dataframe\">\n  <thead>\n    <tr style=\"text-align: right;\">\n      <th></th>\n      <th>ivl</th>\n      <th>start</th>\n      <th>stop</th>\n    </tr>\n  </thead>\n  <tbody>\n    <tr>\n      <th>count</th>\n      <td>133.000000</td>\n      <td>133.000000</td>\n      <td>133.000000</td>\n    </tr>\n    <tr>\n      <th>mean</th>\n      <td>0.086957</td>\n      <td>1.417308</td>\n      <td>1.504264</td>\n    </tr>\n    <tr>\n      <th>std</th>\n      <td>0.061730</td>\n      <td>0.998314</td>\n      <td>1.009050</td>\n    </tr>\n    <tr>\n      <th>min</th>\n      <td>0.006800</td>\n      <td>0.000000</td>\n      <td>0.042620</td>\n    </tr>\n    <tr>\n      <th>25%</th>\n      <td>0.044530</td>\n      <td>0.592430</td>\n      <td>0.706540</td>\n    </tr>\n    <tr>\n      <th>50%</th>\n      <td>0.073060</td>\n      <td>1.213770</td>\n      <td>1.279210</td>\n    </tr>\n    <tr>\n      <th>75%</th>\n      <td>0.113300</td>\n      <td>2.197060</td>\n      <td>2.284610</td>\n    </tr>\n    <tr>\n      <th>max</th>\n      <td>0.312600</td>\n      <td>3.713270</td>\n      <td>3.972180</td>\n    </tr>\n  </tbody>\n</table>\n</div>"
     },
     "metadata": {},
     "output_type": "display_data"
    },
    {
     "name": "stdout",
     "output_type": "stream",
     "text": [
      "Feature Audio Length: 0.07306000000000035\n"
     ]
    }
   ],
   "source": [
    "chunk_char_df['ivl'] = chunk_char_df['stop'] - chunk_char_df['start']\n",
    "display(chunk_char_df[['ivl', 'start', 'stop']].describe())\n",
    "\n",
    "# median interval may be used for feature audio length\n",
    "feat_audio_len_s = chunk_char_df['ivl'].median()\n",
    "print(f'Feature Audio Length: {feat_audio_len_s}')"
   ],
   "metadata": {
    "collapsed": false,
    "pycharm": {
     "name": "#%%\n"
    }
   }
  },
  {
   "cell_type": "markdown",
   "source": [
    "## Event Marker Data\n",
    "\n",
    "Dictionary of audio_file -> list of event marker times.\n"
   ],
   "metadata": {
    "collapsed": false
   }
  },
  {
   "cell_type": "code",
   "execution_count": 6,
   "outputs": [
    {
     "name": "stdout",
     "output_type": "stream",
     "text": [
      "{'data/korean-single-speaker/kss/1/1_0000.wav': {'dur': 3.52653, 'events': array([0.14298, 0.17326, 0.25143, 0.3011 , 0.39456, 0.49473, 0.52397,\n",
      "       0.5717 , 0.66385, 0.71846, 0.73074, 0.7928 , 0.86105, 0.8947 ,\n",
      "       0.94568, 0.98747, 1.00429, 1.05658, 1.12825, 1.20548, 1.24674,\n",
      "       1.27921, 1.33187, 1.35667, 1.50828, 1.54819, 1.5778 , 1.73609,\n",
      "       2.04869, 2.15518, 2.28461, 2.3443 , 2.37857, 2.45163, 2.53042,\n",
      "       2.55297, 2.61609, 2.63233, 2.68239, 2.7029 , 2.76329, 2.86374,\n",
      "       2.8825 , 2.95272, 3.14772, 3.1583 , 3.4173 ])}, 'data/korean-single-speaker/kss/1/1_0001.wav': {'dur': 3.97218, 'events': array([0.0927 , 0.12765, 0.17218, 0.2192 , 0.2473 , 0.41173, 0.50644,\n",
      "       0.57461, 0.59243, 0.64042, 0.70654, 0.81835, 0.83326, 0.95153,\n",
      "       1.09444, 1.11834, 1.20856, 1.37623, 1.59665, 1.64288, 1.76991,\n",
      "       1.89271, 1.99178, 2.06911, 2.15357, 2.19706, 2.26984, 2.40939,\n",
      "       2.50919, 2.78858, 2.85241, 2.89864, 2.99798, 3.0465 , 3.09567,\n",
      "       3.16021, 3.20729, 3.33246, 3.50541, 3.52027, 3.71327])}, 'data/korean-single-speaker/kss/1/1_0002.wav': {'dur': 1.75902, 'events': array([0.04262, 0.15592, 0.26336, 0.34202, 0.35254, 0.43745, 0.49675,\n",
      "       0.60145, 0.71494, 0.87711, 0.99477, 1.07471, 1.09687, 1.21377,\n",
      "       1.34784, 1.45645, 1.48269, 1.66714])}, 'data/korean-single-speaker/kss/1/1_0003.wav': {'dur': 2.30753, 'events': array([0.08071, 0.12089, 0.15231, 0.20956, 0.30481, 0.48924, 0.75129,\n",
      "       0.88808, 0.94573, 1.02123, 1.06647, 1.15844, 1.23614, 1.24294,\n",
      "       1.39564, 1.4555 , 1.5327 , 1.75352, 1.78153, 1.83571, 1.97293,\n",
      "       1.98396, 2.1979 ])}}\n",
      "{'data/korean-single-speaker/kss/1/1_0000.wav': {'dur': 3.52653, 'events': array([0.14298, 0.25143, 0.49473, 0.52397, 0.71846, 0.73074, 0.8947 ,\n",
      "       0.98747, 1.00429, 1.20548, 1.33187, 1.50828, 1.54819, 1.73609,\n",
      "       2.04869, 2.15518, 2.3443 , 2.53042, 2.63233, 2.68239, 2.86374,\n",
      "       3.14772, 3.4173 ])}, 'data/korean-single-speaker/kss/1/1_0001.wav': {'dur': 3.97218, 'events': array([0.0927 , 0.17218, 0.2473 , 0.41173, 0.57461, 0.70654, 0.83326,\n",
      "       1.09444, 1.20856, 1.37623, 1.59665, 1.64288, 1.76991, 2.06911,\n",
      "       2.19706, 2.50919, 2.78858, 2.99798, 3.09567, 3.20729, 3.50541,\n",
      "       3.71327])}, 'data/korean-single-speaker/kss/1/1_0002.wav': {'dur': 1.75902, 'events': array([0.04262, 0.26336, 0.34202, 0.49675, 0.71494, 0.87711, 0.99477,\n",
      "       1.07471, 1.21377, 1.45645, 1.66714])}, 'data/korean-single-speaker/kss/1/1_0003.wav': {'dur': 2.30753, 'events': array([0.08071, 0.15231, 0.48924, 0.75129, 0.88808, 1.02123, 1.23614,\n",
      "       1.4555 , 1.5327 , 1.75352, 1.97293, 2.1979 ])}}\n"
     ]
    }
   ],
   "source": [
    "char_event_dict = {}\n",
    "syl_event_dict = {}\n",
    "audio_files_char = chunk_char_df['audio'].unique()\n",
    "audio_files_syl = chunk_syl_df['audio'].unique()\n",
    "audio_files = np.unique(np.concatenate((audio_files_char, audio_files_syl)))\n",
    "\n",
    "# Warning: The audio file duration is from the 'stop' time of the last event.\n",
    "# This isn't really guaranteed to be the duration, but it avoids having to load the audio file.\n",
    "for audio_file in audio_files:\n",
    "    # Get all start events except for the first one (which is the start of the file)\n",
    "    char_events = chunk_char_df[chunk_char_df['audio'] == audio_file]['start'].values[1:]\n",
    "    syl_events = chunk_syl_df[chunk_syl_df['audio'] == audio_file]['start'].values[1:]\n",
    "    dur = chunk_char_df[chunk_char_df['audio'] == audio_file]['stop'].values[-1]\n",
    "    char_event_dict[audio_file] = { 'dur': dur, 'events': char_events }\n",
    "    syl_event_dict[audio_file] = { 'dur': dur, 'events': syl_events }\n",
    "\n",
    "print(char_event_dict)\n",
    "print(syl_event_dict)"
   ],
   "metadata": {
    "collapsed": false,
    "pycharm": {
     "name": "#%%\n"
    }
   }
  },
  {
   "cell_type": "markdown",
   "source": [
    "## Audio Data\n",
    "\n",
    "* Create timestamps with equivalent intervals and \"cover\" the full audio file with those intervals\n",
    " (later the audio file will be padded as needed)\n",
    "* Find the event closest to the midpoint of those intervals\n",
    "  * if there is no event, that interval's event value is NaN\n",
    "  * else event value = (midpoint - event)\n",
    "\n",
    "DF\n",
    "\n",
    "i_start, i_stop, i_midpoint, event_offset, audio_dur, audio"
   ],
   "metadata": {
    "collapsed": false
   }
  },
  {
   "cell_type": "code",
   "execution_count": 20,
   "outputs": [],
   "source": [
    "window_size_s = 0.5\n",
    "window_stride_s = 0.025"
   ],
   "metadata": {
    "collapsed": false,
    "pycharm": {
     "name": "#%%\n"
    }
   }
  },
  {
   "cell_type": "code",
   "execution_count": 21,
   "outputs": [
    {
     "name": "stdout",
     "output_type": "stream",
     "text": [
      "True     335\n",
      "False    130\n",
      "Name: valid_event, dtype: int64\n",
      "----\n",
      "True     335\n",
      "False    130\n",
      "Name: valid_event, dtype: int64\n"
     ]
    },
    {
     "data": {
      "text/plain": "     i_start  i_stop  i_midpoint  nearest_event  audio_dur  \\\n0      0.000   0.500       0.250        0.20956    3.52653   \n1      0.025   0.525       0.275        0.30481    3.52653   \n2      0.050   0.550       0.300        0.30481    3.52653   \n3      0.075   0.575       0.325        0.30481    3.52653   \n4      0.100   0.600       0.350        0.30481    3.52653   \n..       ...     ...         ...            ...        ...   \n460    2.200   2.700       2.450        2.19790    2.30753   \n461    2.225   2.725       2.475        2.19790    2.30753   \n462    2.250   2.750       2.500        2.19790    2.30753   \n463    2.275   2.775       2.525        2.19790    2.30753   \n464    2.300   2.800       2.550        2.19790    2.30753   \n\n                                           audio  evt_dist  valid_event  \n0    data/korean-single-speaker/kss/1/1_0000.wav  -0.04044         True  \n1    data/korean-single-speaker/kss/1/1_0000.wav   0.02981         True  \n2    data/korean-single-speaker/kss/1/1_0000.wav   0.00481         True  \n3    data/korean-single-speaker/kss/1/1_0000.wav  -0.02019         True  \n4    data/korean-single-speaker/kss/1/1_0000.wav  -0.04519         True  \n..                                           ...       ...          ...  \n460  data/korean-single-speaker/kss/1/1_0003.wav  -0.25210        False  \n461  data/korean-single-speaker/kss/1/1_0003.wav  -0.27710        False  \n462  data/korean-single-speaker/kss/1/1_0003.wav  -0.30210        False  \n463  data/korean-single-speaker/kss/1/1_0003.wav  -0.32710        False  \n464  data/korean-single-speaker/kss/1/1_0003.wav  -0.35210        False  \n\n[465 rows x 8 columns]",
      "text/html": "<div>\n<style scoped>\n    .dataframe tbody tr th:only-of-type {\n        vertical-align: middle;\n    }\n\n    .dataframe tbody tr th {\n        vertical-align: top;\n    }\n\n    .dataframe thead th {\n        text-align: right;\n    }\n</style>\n<table border=\"1\" class=\"dataframe\">\n  <thead>\n    <tr style=\"text-align: right;\">\n      <th></th>\n      <th>i_start</th>\n      <th>i_stop</th>\n      <th>i_midpoint</th>\n      <th>nearest_event</th>\n      <th>audio_dur</th>\n      <th>audio</th>\n      <th>evt_dist</th>\n      <th>valid_event</th>\n    </tr>\n  </thead>\n  <tbody>\n    <tr>\n      <th>0</th>\n      <td>0.000</td>\n      <td>0.500</td>\n      <td>0.250</td>\n      <td>0.20956</td>\n      <td>3.52653</td>\n      <td>data/korean-single-speaker/kss/1/1_0000.wav</td>\n      <td>-0.04044</td>\n      <td>True</td>\n    </tr>\n    <tr>\n      <th>1</th>\n      <td>0.025</td>\n      <td>0.525</td>\n      <td>0.275</td>\n      <td>0.30481</td>\n      <td>3.52653</td>\n      <td>data/korean-single-speaker/kss/1/1_0000.wav</td>\n      <td>0.02981</td>\n      <td>True</td>\n    </tr>\n    <tr>\n      <th>2</th>\n      <td>0.050</td>\n      <td>0.550</td>\n      <td>0.300</td>\n      <td>0.30481</td>\n      <td>3.52653</td>\n      <td>data/korean-single-speaker/kss/1/1_0000.wav</td>\n      <td>0.00481</td>\n      <td>True</td>\n    </tr>\n    <tr>\n      <th>3</th>\n      <td>0.075</td>\n      <td>0.575</td>\n      <td>0.325</td>\n      <td>0.30481</td>\n      <td>3.52653</td>\n      <td>data/korean-single-speaker/kss/1/1_0000.wav</td>\n      <td>-0.02019</td>\n      <td>True</td>\n    </tr>\n    <tr>\n      <th>4</th>\n      <td>0.100</td>\n      <td>0.600</td>\n      <td>0.350</td>\n      <td>0.30481</td>\n      <td>3.52653</td>\n      <td>data/korean-single-speaker/kss/1/1_0000.wav</td>\n      <td>-0.04519</td>\n      <td>True</td>\n    </tr>\n    <tr>\n      <th>...</th>\n      <td>...</td>\n      <td>...</td>\n      <td>...</td>\n      <td>...</td>\n      <td>...</td>\n      <td>...</td>\n      <td>...</td>\n      <td>...</td>\n    </tr>\n    <tr>\n      <th>460</th>\n      <td>2.200</td>\n      <td>2.700</td>\n      <td>2.450</td>\n      <td>2.19790</td>\n      <td>2.30753</td>\n      <td>data/korean-single-speaker/kss/1/1_0003.wav</td>\n      <td>-0.25210</td>\n      <td>False</td>\n    </tr>\n    <tr>\n      <th>461</th>\n      <td>2.225</td>\n      <td>2.725</td>\n      <td>2.475</td>\n      <td>2.19790</td>\n      <td>2.30753</td>\n      <td>data/korean-single-speaker/kss/1/1_0003.wav</td>\n      <td>-0.27710</td>\n      <td>False</td>\n    </tr>\n    <tr>\n      <th>462</th>\n      <td>2.250</td>\n      <td>2.750</td>\n      <td>2.500</td>\n      <td>2.19790</td>\n      <td>2.30753</td>\n      <td>data/korean-single-speaker/kss/1/1_0003.wav</td>\n      <td>-0.30210</td>\n      <td>False</td>\n    </tr>\n    <tr>\n      <th>463</th>\n      <td>2.275</td>\n      <td>2.775</td>\n      <td>2.525</td>\n      <td>2.19790</td>\n      <td>2.30753</td>\n      <td>data/korean-single-speaker/kss/1/1_0003.wav</td>\n      <td>-0.32710</td>\n      <td>False</td>\n    </tr>\n    <tr>\n      <th>464</th>\n      <td>2.300</td>\n      <td>2.800</td>\n      <td>2.550</td>\n      <td>2.19790</td>\n      <td>2.30753</td>\n      <td>data/korean-single-speaker/kss/1/1_0003.wav</td>\n      <td>-0.35210</td>\n      <td>False</td>\n    </tr>\n  </tbody>\n</table>\n<p>465 rows × 8 columns</p>\n</div>"
     },
     "metadata": {},
     "output_type": "display_data"
    },
    {
     "data": {
      "text/plain": "     i_start  i_stop  i_midpoint  nearest_event  audio_dur  \\\n0      0.000   0.500       0.250        0.15231    3.52653   \n1      0.025   0.525       0.275        0.15231    3.52653   \n2      0.050   0.550       0.300        0.15231    3.52653   \n3      0.075   0.575       0.325        0.48924    3.52653   \n4      0.100   0.600       0.350        0.48924    3.52653   \n..       ...     ...         ...            ...        ...   \n460    2.200   2.700       2.450        2.19790    2.30753   \n461    2.225   2.725       2.475        2.19790    2.30753   \n462    2.250   2.750       2.500        2.19790    2.30753   \n463    2.275   2.775       2.525        2.19790    2.30753   \n464    2.300   2.800       2.550        2.19790    2.30753   \n\n                                           audio  evt_dist  valid_event  \n0    data/korean-single-speaker/kss/1/1_0000.wav  -0.09769         True  \n1    data/korean-single-speaker/kss/1/1_0000.wav  -0.12269         True  \n2    data/korean-single-speaker/kss/1/1_0000.wav  -0.14769         True  \n3    data/korean-single-speaker/kss/1/1_0000.wav   0.16424         True  \n4    data/korean-single-speaker/kss/1/1_0000.wav   0.13924         True  \n..                                           ...       ...          ...  \n460  data/korean-single-speaker/kss/1/1_0003.wav  -0.25210        False  \n461  data/korean-single-speaker/kss/1/1_0003.wav  -0.27710        False  \n462  data/korean-single-speaker/kss/1/1_0003.wav  -0.30210        False  \n463  data/korean-single-speaker/kss/1/1_0003.wav  -0.32710        False  \n464  data/korean-single-speaker/kss/1/1_0003.wav  -0.35210        False  \n\n[465 rows x 8 columns]",
      "text/html": "<div>\n<style scoped>\n    .dataframe tbody tr th:only-of-type {\n        vertical-align: middle;\n    }\n\n    .dataframe tbody tr th {\n        vertical-align: top;\n    }\n\n    .dataframe thead th {\n        text-align: right;\n    }\n</style>\n<table border=\"1\" class=\"dataframe\">\n  <thead>\n    <tr style=\"text-align: right;\">\n      <th></th>\n      <th>i_start</th>\n      <th>i_stop</th>\n      <th>i_midpoint</th>\n      <th>nearest_event</th>\n      <th>audio_dur</th>\n      <th>audio</th>\n      <th>evt_dist</th>\n      <th>valid_event</th>\n    </tr>\n  </thead>\n  <tbody>\n    <tr>\n      <th>0</th>\n      <td>0.000</td>\n      <td>0.500</td>\n      <td>0.250</td>\n      <td>0.15231</td>\n      <td>3.52653</td>\n      <td>data/korean-single-speaker/kss/1/1_0000.wav</td>\n      <td>-0.09769</td>\n      <td>True</td>\n    </tr>\n    <tr>\n      <th>1</th>\n      <td>0.025</td>\n      <td>0.525</td>\n      <td>0.275</td>\n      <td>0.15231</td>\n      <td>3.52653</td>\n      <td>data/korean-single-speaker/kss/1/1_0000.wav</td>\n      <td>-0.12269</td>\n      <td>True</td>\n    </tr>\n    <tr>\n      <th>2</th>\n      <td>0.050</td>\n      <td>0.550</td>\n      <td>0.300</td>\n      <td>0.15231</td>\n      <td>3.52653</td>\n      <td>data/korean-single-speaker/kss/1/1_0000.wav</td>\n      <td>-0.14769</td>\n      <td>True</td>\n    </tr>\n    <tr>\n      <th>3</th>\n      <td>0.075</td>\n      <td>0.575</td>\n      <td>0.325</td>\n      <td>0.48924</td>\n      <td>3.52653</td>\n      <td>data/korean-single-speaker/kss/1/1_0000.wav</td>\n      <td>0.16424</td>\n      <td>True</td>\n    </tr>\n    <tr>\n      <th>4</th>\n      <td>0.100</td>\n      <td>0.600</td>\n      <td>0.350</td>\n      <td>0.48924</td>\n      <td>3.52653</td>\n      <td>data/korean-single-speaker/kss/1/1_0000.wav</td>\n      <td>0.13924</td>\n      <td>True</td>\n    </tr>\n    <tr>\n      <th>...</th>\n      <td>...</td>\n      <td>...</td>\n      <td>...</td>\n      <td>...</td>\n      <td>...</td>\n      <td>...</td>\n      <td>...</td>\n      <td>...</td>\n    </tr>\n    <tr>\n      <th>460</th>\n      <td>2.200</td>\n      <td>2.700</td>\n      <td>2.450</td>\n      <td>2.19790</td>\n      <td>2.30753</td>\n      <td>data/korean-single-speaker/kss/1/1_0003.wav</td>\n      <td>-0.25210</td>\n      <td>False</td>\n    </tr>\n    <tr>\n      <th>461</th>\n      <td>2.225</td>\n      <td>2.725</td>\n      <td>2.475</td>\n      <td>2.19790</td>\n      <td>2.30753</td>\n      <td>data/korean-single-speaker/kss/1/1_0003.wav</td>\n      <td>-0.27710</td>\n      <td>False</td>\n    </tr>\n    <tr>\n      <th>462</th>\n      <td>2.250</td>\n      <td>2.750</td>\n      <td>2.500</td>\n      <td>2.19790</td>\n      <td>2.30753</td>\n      <td>data/korean-single-speaker/kss/1/1_0003.wav</td>\n      <td>-0.30210</td>\n      <td>False</td>\n    </tr>\n    <tr>\n      <th>463</th>\n      <td>2.275</td>\n      <td>2.775</td>\n      <td>2.525</td>\n      <td>2.19790</td>\n      <td>2.30753</td>\n      <td>data/korean-single-speaker/kss/1/1_0003.wav</td>\n      <td>-0.32710</td>\n      <td>False</td>\n    </tr>\n    <tr>\n      <th>464</th>\n      <td>2.300</td>\n      <td>2.800</td>\n      <td>2.550</td>\n      <td>2.19790</td>\n      <td>2.30753</td>\n      <td>data/korean-single-speaker/kss/1/1_0003.wav</td>\n      <td>-0.35210</td>\n      <td>False</td>\n    </tr>\n  </tbody>\n</table>\n<p>465 rows × 8 columns</p>\n</div>"
     },
     "metadata": {},
     "output_type": "display_data"
    }
   ],
   "source": [
    "def find_nearest_event(t, event_list):\n",
    "    event_dists = abs(event_list - t)\n",
    "    nearest_event_idx = np.argmin(event_dists)\n",
    "    return event_list[nearest_event_idx]\n",
    "\n",
    "def a_round(val):\n",
    "    return round(val, 6) if isinstance(val, float) else val\n",
    "\n",
    "def create_audio_df(event_dict, filenames):\n",
    "    df_dict = {\n",
    "        'i_start': [],\n",
    "        'i_stop': [],\n",
    "        'i_midpoint': [],\n",
    "        'nearest_event': [],\n",
    "        'audio_dur': [],\n",
    "        'audio': []\n",
    "    }\n",
    "    for fn in filenames:\n",
    "        dur = event_dict[fn]['dur']\n",
    "        ptr = 0.0\n",
    "\n",
    "        while ptr < dur:\n",
    "            w_start = ptr\n",
    "            w_stop = ptr + window_size_s\n",
    "            w_midpoint = w_start + (w_stop - w_start)/2\n",
    "\n",
    "            nearest = find_nearest_event(w_midpoint, event_dict[audio_file]['events'])\n",
    "            # offset = nearest - w_midpoint\n",
    "            # offset_is_in_window = abs(offset) > window_size_s / 2\n",
    "            # event_offset_val = offset if offset_is_in_window  else None\n",
    "\n",
    "            df_dict['i_start'].append(a_round(w_start))\n",
    "            df_dict['i_stop'].append(a_round(w_stop))\n",
    "            df_dict['i_midpoint'].append(a_round(w_midpoint))\n",
    "            df_dict['nearest_event'].append(a_round(nearest))\n",
    "            # df_dict['event_offset'].append(a_round(event_offset_val))\n",
    "            df_dict['audio_dur'].append(dur)\n",
    "            df_dict['audio'].append(fn)\n",
    "\n",
    "            ptr = a_round(ptr + window_stride_s)\n",
    "\n",
    "    audio_df = pd.DataFrame.from_dict(df_dict)\n",
    "    audio_df['evt_dist'] = audio_df['nearest_event'] - audio_df['i_midpoint']\n",
    "    audio_df['valid_event'] = audio_df['evt_dist'].abs() < (window_size_s / 2)\n",
    "    return audio_df\n",
    "\n",
    "audio_char_df = create_audio_df(char_event_dict, audio_files)\n",
    "print(audio_char_df['valid_event'].value_counts())\n",
    "display(audio_char_df)\n",
    "print('----')\n",
    "audio_syl_df = create_audio_df(syl_event_dict, audio_files)\n",
    "print(audio_syl_df['valid_event'].value_counts())\n",
    "display(audio_syl_df)"
   ],
   "metadata": {
    "collapsed": false,
    "pycharm": {
     "name": "#%%\n"
    }
   }
  },
  {
   "cell_type": "markdown",
   "source": [
    "## Feature Prep\n",
    "\n",
    "X is slices of audio with window_size_s duration\n",
    "\n",
    "y is valid_event boolean\n",
    "\n",
    "TODO: Normalize the data across audio files\n"
   ],
   "metadata": {
    "collapsed": false,
    "pycharm": {
     "name": "#%% md\n"
    }
   }
  },
  {
   "cell_type": "code",
   "execution_count": 66,
   "outputs": [
    {
     "name": "stderr",
     "output_type": "stream",
     "text": [
      "/Users/dev/Projects/korean-ml/venv/lib/python3.9/site-packages/numpy/core/_asarray.py:83: VisibleDeprecationWarning: Creating an ndarray from ragged nested sequences (which is a list-or-tuple of lists-or-tuples-or ndarrays with different lengths or shapes) is deprecated. If you meant to do this, you must specify 'dtype=object' when creating the ndarray\n",
      "  return array(a, dtype, copy=False, order=order)\n"
     ]
    },
    {
     "name": "stdout",
     "output_type": "stream",
     "text": [
      "(12, 87)\n",
      "X shape: (465, 12, 87)\n",
      "y shape: (465,)\n",
      "X shape, shuffled: (465, 12, 87, 1)\n",
      "y shape, shuffled: (465,)\n",
      "X_train shape: (400, 12, 87, 1)\n",
      "y_train shape: (400,)\n",
      "X_test shape: (64, 12, 87, 1)\n",
      "y_test shape: (64,)\n"
     ]
    }
   ],
   "source": [
    "from keras.preprocessing.sequence import pad_sequences\n",
    "from sklearn.utils import shuffle\n",
    "import math\n",
    "\n",
    "\n",
    "\n",
    "audio_dict = {}\n",
    "\n",
    "for fn in audio_files:\n",
    "    wav, sr = librosa.load(fn)\n",
    "    audio_dict[fn] = {'sr': sr, 'wav': wav}\n",
    "\n",
    "# print(audio_dict['data/korean-single-speaker/kss/1/1_0000.wav'])\n",
    "# print(audio_dict['data/korean-single-speaker/kss/1/1_0003.wav'])\n",
    "\n",
    "class AudioPrep:\n",
    "\n",
    "    def __init__(self, wav, sr, pad_s=(0,0)):\n",
    "        self.sr = sr\n",
    "        self.pad_samps = tuple(map(self.t_to_samps, pad_s))\n",
    "\n",
    "        self.wav = np.pad(wav, self.pad_samps, 'edge')\n",
    "\n",
    "    def t_to_samps(self, t):\n",
    "        return int(math.ceil(t * self.sr))\n",
    "\n",
    "    # ivls is numpy array of  [start, stop] timestamps\n",
    "    def slice_by_time(self, ivls):\n",
    "        idxs = (ivls * self.sr).astype(int)\n",
    "        return np.asarray([self.wav[rs[0]:rs[1]] for rs in idxs])\n",
    "\n",
    "    def mfcc_slice(self, ivls):\n",
    "        sliced_wavs = self.slice_by_time(ivls)\n",
    "        hop_length = 128\n",
    "        n_mfcc = 12\n",
    "\n",
    "        # n_mfcc might be useful as a hyper parameter\n",
    "        mfccs = [librosa.feature.mfcc(y=w, sr=self.sr, n_mfcc=n_mfcc, hop_length=hop_length) for w in sliced_wavs]\n",
    "        return mfccs\n",
    "\n",
    "\n",
    "def get_ivls_np(audio_df, f):\n",
    "    return audio_df[audio_df['audio'] == f][['i_start', 'i_stop']].values\n",
    "\n",
    "\n",
    "def get_X(audio_wav_dict, audio_df, f):\n",
    "    ap = AudioPrep(audio_wav_dict[f]['wav'], audio_wav_dict[f]['sr'], (0,window_size_s))\n",
    "    ivs = get_ivls_np(audio_df, f)\n",
    "    return ap.mfcc_slice(ivs)\n",
    "\n",
    "nested_x = [get_X(audio_dict, audio_char_df, fn) for fn in audio_files]\n",
    "    # ap = AudioPrep(audio_dict[fn]['wav'], audio_dict[fn]['sr'])\n",
    "    # ivls = get_ivls_np(audio_syl_df, fn)\n",
    "    # x = ap.slice_by_time(ivls)\n",
    "    # get_X(audio_dict, audio_syl_df, fn)\n",
    "    # print(x.shape)\n",
    "\n",
    "x_a = [val for x_partial in nested_x for val in x_partial]\n",
    "x_shapes = np.asarray([x_.shape for x_ in x_a ])\n",
    "print((np.min(x_shapes), np.max(x_shapes)))\n",
    "\n",
    "X = pad_sequences(x_a, padding='post')\n",
    "print(f'X shape: {X.shape}')\n",
    "\n",
    "y = audio_char_df['valid_event'].values.astype(float)\n",
    "print (f'y shape: {y.shape}')\n",
    "\n",
    "X, y = shuffle(X, y, random_state=42)\n",
    "\n",
    "X.resize(X.shape[0], X.shape[1], X.shape[2], 1)\n",
    "print(f'X shape, shuffled: {X.shape}')\n",
    "print (f'y shape, shuffled: {y.shape}')\n",
    "\n",
    "X_train = X[:400]\n",
    "y_train = y[:400]\n",
    "\n",
    "X_test = X[401:]\n",
    "y_test = y[401:]\n",
    "\n",
    "print(f'X_train shape: {X_train.shape}')\n",
    "print (f'y_train shape: {y_train.shape}')\n",
    "\n",
    "print(f'X_test shape: {X_test.shape}')\n",
    "print (f'y_test shape: {y_test.shape}')\n"
   ],
   "metadata": {
    "collapsed": false,
    "pycharm": {
     "name": "#%%\n"
    }
   }
  },
  {
   "cell_type": "code",
   "execution_count": 67,
   "outputs": [
    {
     "name": "stdout",
     "output_type": "stream",
     "text": [
      "kernel size: (3, 3)\n",
      "input_shape: (12, 87, 1)\n",
      "Model: \"sequential_9\"\n",
      "_________________________________________________________________\n",
      "Layer (type)                 Output Shape              Param #   \n",
      "=================================================================\n",
      "conv2d_15 (Conv2D)           (None, 10, 85, 32)        320       \n",
      "_________________________________________________________________\n",
      "max_pooling2d_12 (MaxPooling (None, 5, 42, 32)         0         \n",
      "_________________________________________________________________\n",
      "conv2d_16 (Conv2D)           (None, 3, 40, 64)         18496     \n",
      "_________________________________________________________________\n",
      "max_pooling2d_13 (MaxPooling (None, 1, 20, 64)         0         \n",
      "_________________________________________________________________\n",
      "flatten_6 (Flatten)          (None, 1280)              0         \n",
      "_________________________________________________________________\n",
      "dense_12 (Dense)             (None, 128)               163968    \n",
      "_________________________________________________________________\n",
      "dense_13 (Dense)             (None, 1)                 129       \n",
      "=================================================================\n",
      "Total params: 182,913\n",
      "Trainable params: 182,913\n",
      "Non-trainable params: 0\n",
      "_________________________________________________________________\n",
      "Epoch 1/20\n",
      "11/11 [==============================] - 2s 46ms/step - loss: 11.9466 - acc: 0.5746 - val_loss: 1.9819 - val_acc: 0.7500\b\b\b\b\b\b\b\b\b\b\b\b\b\b\b\b\b\b\b\b\b\b\b\b\b\b\b\b\b\b\b\b\b\b\b\b\b\b\b\b\b\b\b\b\b\b\b\b\b\b\b\b\b\b\b\b\b\b\b\b\b\b\b\b\b\b\b\b\b\b\b\b\b\b\b\b\b\b\b\b\b\b\b\b\b\b\b\b\b\b\b\b\b\b\b\b\b\b\b\b\b\b\b\b\b\b\b\b\b\b\b\b\b\b\b\b\b\b\b\b\b\b\b\b\b\b\b\b\b\b\b\b\b\b\b\b\b\b\b\b\b\b\b\b\b\b\b\b\b\b\b\b\b\b\b\b\b\b\b\b\b\b\b\b\b\b\b\b\b\b\b\b\b\b\b\b\b\b\b\b\b\b\b\b\b\b\b\b\b\b\b\b\b\b\n",
      "Epoch 2/20\n",
      "11/11 [==============================] - 0s 14ms/step - loss: 3.1219 - acc: 0.6942 - val_loss: 9.1513 - val_acc: 0.3750\b\b\b\b\b\b\b\b\b\b\b\b\b\b\b\b\b\b\b\b\b\b\b\b\b\b\b\b\b\b\b\b\b\b\b\b\b\b\b\b\b\b\b\b\b\b\b\b\b\b\b\b\b\b\b\b\b\b\b\b\b\b\b\b\b\b\b\b\b\b\b\b\b\b\b\b\b\b\b\b\b\b\b\b\b\b\b\b\b\b\b\b\b\b\b\b\b\b\b\b\b\b\b\b\b\b\b\b\b\b\b\b\b\b\b\b\b\b\b\b\b\b\b\b\b\b\b\b\b\b\b\b\b\b\b\b\b\b\b\b\b\b\b\b\b\b\b\b\b\b\b\b\b\b\b\b\b\b\b\b\b\b\b\b\b\b\b\b\b\b\b\b\b\b\b\b\b\b\b\b\b\b\b\b\b\b\b\b\b\n",
      "Epoch 3/20\n",
      "11/11 [==============================] - 0s 15ms/step - loss: 4.4237 - acc: 0.6805 - val_loss: 7.0426 - val_acc: 0.7375\b\b\b\b\b\b\b\b\b\b\b\b\b\b\b\b\b\b\b\b\b\b\b\b\b\b\b\b\b\b\b\b\b\b\b\b\b\b\b\b\b\b\b\b\b\b\b\b\b\b\b\b\b\b\b\b\b\b\b\b\b\b\b\b\b\b\b\b\b\b\b\b\b\b\b\b\b\b\b\b\b\b\b\b\b\b\b\b\b\b\b\b\b\b\b\b\b\b\b\b\b\b\b\b\b\b\b\b\b\b\b\b\b\b\b\b\b\b\b\b\b\b\b\b\b\b\b\b\b\b\b\b\b\b\b\b\b\b\b\b\b\b\b\b\b\b\b\b\b\b\b\b\b\b\b\b\b\b\b\b\b\b\b\b\b\b\b\b\b\b\b\b\b\b\b\b\b\b\b\b\b\b\b\b\b\b\b\b\b\b\b\n",
      "Epoch 4/20\n",
      "11/11 [==============================] - 0s 14ms/step - loss: 3.1202 - acc: 0.7405 - val_loss: 6.9890 - val_acc: 0.4125\b\b\b\b\b\b\b\b\b\b\b\b\b\b\b\b\b\b\b\b\b\b\b\b\b\b\b\b\b\b\b\b\b\b\b\b\b\b\b\b\b\b\b\b\b\b\b\b\b\b\b\b\b\b\b\b\b\b\b\b\b\b\b\b\b\b\b\b\b\b\b\b\b\b\b\b\b\b\b\b\b\b\b\b\b\b\b\b\b\b\b\b\b\b\b\b\b\b\b\b\b\b\b\b\b\b\b\b\b\b\b\b\b\b\b\b\b\b\b\b\b\b\b\b\b\b\b\b\b\b\b\b\b\b\b\b\b\b\b\b\b\b\b\b\b\b\b\b\b\b\b\b\b\b\b\b\b\b\b\b\b\b\b\b\b\b\b\b\b\b\b\b\b\b\b\b\b\b\b\b\b\b\b\b\b\b\b\b\b\n",
      "Epoch 5/20\n",
      "11/11 [==============================] - 0s 15ms/step - loss: 5.0197 - acc: 0.6598 - val_loss: 2.5819 - val_acc: 0.6750\b\b\b\b\b\b\b\b\b\b\b\b\b\b\b\b\b\b\b\b\b\b\b\b\b\b\b\b\b\b\b\b\b\b\b\b\b\b\b\b\b\b\b\b\b\b\b\b\b\b\b\b\b\b\b\b\b\b\b\b\b\b\b\b\b\b\b\b\b\b\b\b\b\b\b\b\b\b\b\b\b\b\b\b\b\b\b\b\b\b\b\b\b\b\b\b\b\b\b\b\b\b\b\b\b\b\b\b\b\b\b\b\b\b\b\b\b\b\b\b\b\b\b\b\b\b\b\b\b\b\b\b\b\b\b\b\b\b\b\b\b\b\b\b\b\b\b\b\b\b\b\b\b\b\b\b\b\b\b\b\b\b\b\b\b\b\b\b\b\b\b\b\b\b\b\b\b\b\b\b\b\b\b\b\b\b\b\b\b\b\b\n",
      "Epoch 6/20\n",
      "11/11 [==============================] - 0s 15ms/step - loss: 2.5776 - acc: 0.7321 - val_loss: 5.5047 - val_acc: 0.5625\b\b\b\b\b\b\b\b\b\b\b\b\b\b\b\b\b\b\b\b\b\b\b\b\b\b\b\b\b\b\b\b\b\b\b\b\b\b\b\b\b\b\b\b\b\b\b\b\b\b\b\b\b\b\b\b\b\b\b\b\b\b\b\b\b\b\b\b\b\b\b\b\b\b\b\b\b\b\b\b\b\b\b\b\b\b\b\b\b\b\b\b\b\b\b\b\b\b\b\b\b\b\b\b\b\b\b\b\b\b\b\b\b\b\b\b\b\b\b\b\b\b\b\b\b\b\b\b\b\b\b\b\b\b\b\b\b\b\b\b\b\b\b\b\b\b\b\b\b\b\b\b\b\b\b\b\b\b\b\b\b\b\b\b\b\b\b\b\b\b\b\b\b\b\b\b\b\b\b\b\b\b\b\b\b\b\b\b\b\n",
      "Epoch 7/20\n",
      "11/11 [==============================] - 0s 15ms/step - loss: 2.5621 - acc: 0.7280 - val_loss: 1.2295 - val_acc: 0.7750\b\b\b\b\b\b\b\b\b\b\b\b\b\b\b\b\b\b\b\b\b\b\b\b\b\b\b\b\b\b\b\b\b\b\b\b\b\b\b\b\b\b\b\b\b\b\b\b\b\b\b\b\b\b\b\b\b\b\b\b\b\b\b\b\b\b\b\b\b\b\b\b\b\b\b\b\b\b\b\b\b\b\b\b\b\b\b\b\b\b\b\b\b\b\b\b\b\b\b\b\b\b\b\b\b\b\b\b\b\b\b\b\b\b\b\b\b\b\b\b\b\b\b\b\b\b\b\b\b\b\b\b\b\b\b\b\b\b\b\b\b\b\b\b\b\b\b\b\b\b\b\b\b\b\b\b\b\b\b\b\b\b\b\b\b\b\b\b\b\b\b\b\b\b\b\b\b\b\b\b\b\b\b\b\b\b\b\b\b\n",
      "Epoch 8/20\n",
      "11/11 [==============================] - 0s 14ms/step - loss: 1.2613 - acc: 0.8444 - val_loss: 4.0058 - val_acc: 0.7375\b\b\b\b\b\b\b\b\b\b\b\b\b\b\b\b\b\b\b\b\b\b\b\b\b\b\b\b\b\b\b\b\b\b\b\b\b\b\b\b\b\b\b\b\b\b\b\b\b\b\b\b\b\b\b\b\b\b\b\b\b\b\b\b\b\b\b\b\b\b\b\b\b\b\b\b\b\b\b\b\b\b\b\b\b\b\b\b\b\b\b\b\b\b\b\b\b\b\b\b\b\b\b\b\b\b\b\b\b\b\b\b\b\b\b\b\b\b\b\b\b\b\b\b\b\b\b\b\b\b\b\b\b\b\b\b\b\b\b\b\b\b\b\b\b\b\b\b\b\b\b\b\b\b\b\b\b\b\b\b\b\b\b\b\b\b\b\b\b\b\b\b\b\b\b\b\b\b\b\b\b\b\b\b\b\b\b\b\b\n",
      "Epoch 9/20\n",
      "11/11 [==============================] - 0s 14ms/step - loss: 3.6895 - acc: 0.6843 - val_loss: 5.1150 - val_acc: 0.6000\b\b\b\b\b\b\b\b\b\b\b\b\b\b\b\b\b\b\b\b\b\b\b\b\b\b\b\b\b\b\b\b\b\b\b\b\b\b\b\b\b\b\b\b\b\b\b\b\b\b\b\b\b\b\b\b\b\b\b\b\b\b\b\b\b\b\b\b\b\b\b\b\b\b\b\b\b\b\b\b\b\b\b\b\b\b\b\b\b\b\b\b\b\b\b\b\b\b\b\b\b\b\b\b\b\b\b\b\b\b\b\b\b\b\b\b\b\b\b\b\b\b\b\b\b\b\b\b\b\b\b\b\b\b\b\b\b\b\b\b\b\b\b\b\b\b\b\b\b\b\b\b\b\b\b\b\b\b\b\b\b\b\b\b\b\b\b\b\b\b\b\b\b\b\b\b\b\b\b\b\b\b\b\b\b\b\b\b\b\n",
      "Epoch 10/20\n",
      "11/11 [==============================] - 0s 14ms/step - loss: 2.8277 - acc: 0.7383 - val_loss: 0.9220 - val_acc: 0.8375\b\b\b\b\b\b\b\b\b\b\b\b\b\b\b\b\b\b\b\b\b\b\b\b\b\b\b\b\b\b\b\b\b\b\b\b\b\b\b\b\b\b\b\b\b\b\b\b\b\b\b\b\b\b\b\b\b\b\b\b\b\b\b\b\b\b\b\b\b\b\b\b\b\b\b\b\b\b\b\b\b\b\b\b\b\b\b\b\b\b\b\b\b\b\b\b\b\b\b\b\b\b\b\b\b\b\b\b\b\b\b\b\b\b\b\b\b\b\b\b\b\b\b\b\b\b\b\b\b\b\b\b\b\b\b\b\b\b\b\b\b\b\b\b\b\b\b\b\b\b\b\b\b\b\b\b\b\b\b\b\b\b\b\b\b\b\b\b\b\b\b\b\b\b\b\b\b\b\b\b\b\b\b\b\b\b\b\b\b\n",
      "Epoch 11/20\n",
      "11/11 [==============================] - 0s 15ms/step - loss: 1.0921 - acc: 0.8736 - val_loss: 1.2647 - val_acc: 0.8375\b\b\b\b\b\b\b\b\b\b\b\b\b\b\b\b\b\b\b\b\b\b\b\b\b\b\b\b\b\b\b\b\b\b\b\b\b\b\b\b\b\b\b\b\b\b\b\b\b\b\b\b\b\b\b\b\b\b\b\b\b\b\b\b\b\b\b\b\b\b\b\b\b\b\b\b\b\b\b\b\b\b\b\b\b\b\b\b\b\b\b\b\b\b\b\b\b\b\b\b\b\b\b\b\b\b\b\b\b\b\b\b\b\b\b\b\b\b\b\b\b\b\b\b\b\b\b\b\b\b\b\b\b\b\b\b\b\b\b\b\b\b\b\b\b\b\b\b\b\b\b\b\b\b\b\b\b\b\b\b\b\b\b\b\b\b\b\b\b\b\b\b\b\b\b\b\b\b\b\b\b\b\b\b\b\b\b\b\b\n",
      "Epoch 12/20\n",
      "11/11 [==============================] - 0s 14ms/step - loss: 1.4450 - acc: 0.8156 - val_loss: 6.6288 - val_acc: 0.4250\b\b\b\b\b\b\b\b\b\b\b\b\b\b\b\b\b\b\b\b\b\b\b\b\b\b\b\b\b\b\b\b\b\b\b\b\b\b\b\b\b\b\b\b\b\b\b\b\b\b\b\b\b\b\b\b\b\b\b\b\b\b\b\b\b\b\b\b\b\b\b\b\b\b\b\b\b\b\b\b\b\b\b\b\b\b\b\b\b\b\b\b\b\b\b\b\b\b\b\b\b\b\b\b\b\b\b\b\b\b\b\b\b\b\b\b\b\b\b\b\b\b\b\b\b\b\b\b\b\b\b\b\b\b\b\b\b\b\b\b\b\b\b\b\b\b\b\b\b\b\b\b\b\b\b\b\b\b\b\b\b\b\b\b\b\b\b\b\b\b\b\b\b\b\b\b\b\b\b\b\b\b\b\b\b\b\b\b\b\n",
      "Epoch 13/20\n",
      "11/11 [==============================] - 0s 15ms/step - loss: 4.4685 - acc: 0.6863 - val_loss: 2.8165 - val_acc: 0.7000\b\b\b\b\b\b\b\b\b\b\b\b\b\b\b\b\b\b\b\b\b\b\b\b\b\b\b\b\b\b\b\b\b\b\b\b\b\b\b\b\b\b\b\b\b\b\b\b\b\b\b\b\b\b\b\b\b\b\b\b\b\b\b\b\b\b\b\b\b\b\b\b\b\b\b\b\b\b\b\b\b\b\b\b\b\b\b\b\b\b\b\b\b\b\b\b\b\b\b\b\b\b\b\b\b\b\b\b\b\b\b\b\b\b\b\b\b\b\b\b\b\b\b\b\b\b\b\b\b\b\b\b\b\b\b\b\b\b\b\b\b\b\b\b\b\b\b\b\b\b\b\b\b\b\b\b\b\b\b\b\b\b\b\b\b\b\b\b\b\b\b\b\b\b\b\b\b\b\b\b\b\b\b\b\b\b\b\b\b\n",
      "Epoch 14/20\n",
      "11/11 [==============================] - 0s 15ms/step - loss: 1.1843 - acc: 0.8413 - val_loss: 1.4508 - val_acc: 0.8000\b\b\b\b\b\b\b\b\b\b\b\b\b\b\b\b\b\b\b\b\b\b\b\b\b\b\b\b\b\b\b\b\b\b\b\b\b\b\b\b\b\b\b\b\b\b\b\b\b\b\b\b\b\b\b\b\b\b\b\b\b\b\b\b\b\b\b\b\b\b\b\b\b\b\b\b\b\b\b\b\b\b\b\b\b\b\b\b\b\b\b\b\b\b\b\b\b\b\b\b\b\b\b\b\b\b\b\b\b\b\b\b\b\b\b\b\b\b\b\b\b\b\b\b\b\b\b\b\b\b\b\b\b\b\b\b\b\b\b\b\b\b\b\b\b\b\b\b\b\b\b\b\b\b\b\b\b\b\b\b\b\b\b\b\b\b\b\b\b\b\b\b\b\b\b\b\b\b\b\b\b\b\b\b\b\b\b\b\b\n",
      "Epoch 15/20\n",
      "11/11 [==============================] - 0s 15ms/step - loss: 1.6115 - acc: 0.8588 - val_loss: 0.5746 - val_acc: 0.8500\b\b\b\b\b\b\b\b\b\b\b\b\b\b\b\b\b\b\b\b\b\b\b\b\b\b\b\b\b\b\b\b\b\b\b\b\b\b\b\b\b\b\b\b\b\b\b\b\b\b\b\b\b\b\b\b\b\b\b\b\b\b\b\b\b\b\b\b\b\b\b\b\b\b\b\b\b\b\b\b\b\b\b\b\b\b\b\b\b\b\b\b\b\b\b\b\b\b\b\b\b\b\b\b\b\b\b\b\b\b\b\b\b\b\b\b\b\b\b\b\b\b\b\b\b\b\b\b\b\b\b\b\b\b\b\b\b\b\b\b\b\b\b\b\b\b\b\b\b\b\b\b\b\b\b\b\b\b\b\b\b\b\b\b\b\b\b\b\b\b\b\b\b\b\b\b\b\b\b\b\b\b\b\b\b\b\b\b\b\n",
      "Epoch 16/20\n",
      "11/11 [==============================] - 0s 14ms/step - loss: 1.3419 - acc: 0.8616 - val_loss: 0.4511 - val_acc: 0.8625\b\b\b\b\b\b\b\b\b\b\b\b\b\b\b\b\b\b\b\b\b\b\b\b\b\b\b\b\b\b\b\b\b\b\b\b\b\b\b\b\b\b\b\b\b\b\b\b\b\b\b\b\b\b\b\b\b\b\b\b\b\b\b\b\b\b\b\b\b\b\b\b\b\b\b\b\b\b\b\b\b\b\b\b\b\b\b\b\b\b\b\b\b\b\b\b\b\b\b\b\b\b\b\b\b\b\b\b\b\b\b\b\b\b\b\b\b\b\b\b\b\b\b\b\b\b\b\b\b\b\b\b\b\b\b\b\b\b\b\b\b\b\b\b\b\b\b\b\b\b\b\b\b\b\b\b\b\b\b\b\b\b\b\b\b\b\b\b\b\b\b\b\b\b\b\b\b\b\b\b\b\b\b\b\b\b\b\b\b\n",
      "Epoch 17/20\n",
      "11/11 [==============================] - 0s 15ms/step - loss: 0.9033 - acc: 0.8807 - val_loss: 2.0277 - val_acc: 0.7375\b\b\b\b\b\b\b\b\b\b\b\b\b\b\b\b\b\b\b\b\b\b\b\b\b\b\b\b\b\b\b\b\b\b\b\b\b\b\b\b\b\b\b\b\b\b\b\b\b\b\b\b\b\b\b\b\b\b\b\b\b\b\b\b\b\b\b\b\b\b\b\b\b\b\b\b\b\b\b\b\b\b\b\b\b\b\b\b\b\b\b\b\b\b\b\b\b\b\b\b\b\b\b\b\b\b\b\b\b\b\b\b\b\b\b\b\b\b\b\b\b\b\b\b\b\b\b\b\b\b\b\b\b\b\b\b\b\b\b\b\b\b\b\b\b\b\b\b\b\b\b\b\b\b\b\b\b\b\b\b\b\b\b\b\b\b\b\b\b\b\b\b\b\b\b\b\b\b\b\b\b\b\b\b\b\b\b\b\b\n",
      "Epoch 18/20\n",
      "11/11 [==============================] - 0s 16ms/step - loss: 1.1252 - acc: 0.8161 - val_loss: 5.4852 - val_acc: 0.5750\b\b\b\b\b\b\b\b\b\b\b\b\b\b\b\b\b\b\b\b\b\b\b\b\b\b\b\b\b\b\b\b\b\b\b\b\b\b\b\b\b\b\b\b\b\b\b\b\b\b\b\b\b\b\b\b\b\b\b\b\b\b\b\b\b\b\b\b\b\b\b\b\b\b\b\b\b\b\b\b\b\b\b\b\b\b\b\b\b\b\b\b\b\b\b\b\b\b\b\b\b\b\b\b\b\b\b\b\b\b\b\b\b\b\b\b\b\b\b\b\b\b\b\b\b\b\b\b\b\b\b\b\b\b\b\b\b\b\b\b\b\b\b\b\b\b\b\b\b\b\b\b\b\b\b\b\b\b\b\b\b\b\b\b\b\b\b\b\b\b\b\b\b\b\b\b\b\b\b\b\b\b\b\b\b\b\b\b\b\n",
      "Epoch 19/20\n",
      "11/11 [==============================] - 0s 15ms/step - loss: 2.1031 - acc: 0.7558 - val_loss: 1.3128 - val_acc: 0.8250\b\b\b\b\b\b\b\b\b\b\b\b\b\b\b\b\b\b\b\b\b\b\b\b\b\b\b\b\b\b\b\b\b\b\b\b\b\b\b\b\b\b\b\b\b\b\b\b\b\b\b\b\b\b\b\b\b\b\b\b\b\b\b\b\b\b\b\b\b\b\b\b\b\b\b\b\b\b\b\b\b\b\b\b\b\b\b\b\b\b\b\b\b\b\b\b\b\b\b\b\b\b\b\b\b\b\b\b\b\b\b\b\b\b\b\b\b\b\b\b\b\b\b\b\b\b\b\b\b\b\b\b\b\b\b\b\b\b\b\b\b\b\b\b\b\b\b\b\b\b\b\b\b\b\b\b\b\b\b\b\b\b\b\b\b\b\b\b\b\b\b\b\b\b\b\b\b\b\b\b\b\b\b\b\b\b\b\b\b\n",
      "Epoch 20/20\n",
      "11/11 [==============================] - 0s 15ms/step - loss: 1.1353 - acc: 0.8701 - val_loss: 0.3013 - val_acc: 0.9000\b\b\b\b\b\b\b\b\b\b\b\b\b\b\b\b\b\b\b\b\b\b\b\b\b\b\b\b\b\b\b\b\b\b\b\b\b\b\b\b\b\b\b\b\b\b\b\b\b\b\b\b\b\b\b\b\b\b\b\b\b\b\b\b\b\b\b\b\b\b\b\b\b\b\b\b\b\b\b\b\b\b\b\b\b\b\b\b\b\b\b\b\b\b\b\b\b\b\b\b\b\b\b\b\b\b\b\b\b\b\b\b\b\b\b\b\b\b\b\b\b\b\b\b\b\b\b\b\b\b\b\b\b\b\b\b\b\b\b\b\b\b\b\b\b\b\b\b\b\b\b\b\b\b\b\b\b\b\b\b\b\b\b\b\b\b\b\b\b\b\b\b\b\b\b\b\b\b\b\b\b\b\b\b\b\b\b\b\b\n"
     ]
    },
    {
     "name": "stderr",
     "output_type": "stream",
     "text": [
      "/Users/dev/Projects/korean-ml/venv/lib/python3.9/site-packages/tensorflow/python/keras/optimizer_v2/optimizer_v2.py:374: UserWarning: The `lr` argument is deprecated, use `learning_rate` instead.\n",
      "  warnings.warn(\n"
     ]
    }
   ],
   "source": [
    "\n",
    "from keras.models import Sequential\n",
    "from keras import layers\n",
    "from keras.optimizers import RMSprop\n",
    "\n",
    "kernel_size = (3,3)\n",
    "input_shape = (X.shape[1], X.shape[2], 1)\n",
    "print(f'kernel size: {kernel_size}')\n",
    "print(f'input_shape: {input_shape}')\n",
    "\n",
    "model = Sequential()\n",
    "# model.add(layers.Embedding(X.shape[0], kernel_size, input_shape=X.shape[1]))\n",
    "model.add(layers.Conv2D(32, kernel_size, input_shape=input_shape, activation='relu'))\n",
    "model.add(layers.MaxPooling2D((2,2)))\n",
    "model.add(layers.Conv2D(64, kernel_size, activation='relu'))\n",
    "model.add(layers.MaxPooling2D((2,2)))\n",
    "model.add(layers.Flatten())\n",
    "model.add(layers.Dense(128))\n",
    "# model.add(layers.GlobalMaxPooling1D())\n",
    "model.add(layers.Dense(1, activation='sigmoid'))\n",
    "\n",
    "model.summary()\n",
    "\n",
    "model.compile(optimizer=RMSprop(lr=1e-4),\n",
    "              loss='binary_crossentropy',\n",
    "              metrics=['acc'])\n",
    "\n",
    "history = model.fit(X_train, y_train,\n",
    "                    epochs=20,\n",
    "                    batch_size=31,\n",
    "                    validation_split=0.2)"
   ],
   "metadata": {
    "collapsed": false,
    "pycharm": {
     "name": "#%%\n"
    }
   }
  },
  {
   "cell_type": "code",
   "execution_count": 68,
   "outputs": [
    {
     "data": {
      "text/plain": "<Figure size 432x288 with 1 Axes>",
      "image/png": "[encoded data removed]"
     },
     "metadata": {},
     "output_type": "display_data"
    },
    {
     "data": {
      "text/plain": "<Figure size 432x288 with 1 Axes>",
      "image/png": "[encoded data removed]"
     },
     "metadata": {},
     "output_type": "display_data"
    }
   ],
   "source": [
    "acc = history.history['acc']\n",
    "val_acc = history.history['val_acc']\n",
    "loss = history.history['loss']\n",
    "val_loss = history.history['val_loss']\n",
    "\n",
    "epochs = range(len(acc))\n",
    "\n",
    "plt.plot(epochs, acc, 'bo', label='Training acc')\n",
    "plt.plot(epochs, val_acc, 'b', label='Validation acc')\n",
    "plt.title('Training and validation accuracy')\n",
    "plt.legend()\n",
    "\n",
    "plt.figure()\n",
    "\n",
    "plt.plot(epochs, loss, 'bo', label='Training loss')\n",
    "plt.plot(epochs, val_loss, 'b', label='Validation loss')\n",
    "plt.title('Training and validation loss')\n",
    "plt.legend()\n",
    "\n",
    "plt.show()"
   ],
   "metadata": {
    "collapsed": false,
    "pycharm": {
     "name": "#%%\n"
    }
   }
  },
  {
   "cell_type": "code",
   "execution_count": 78,
   "outputs": [
    {
     "name": "stdout",
     "output_type": "stream",
     "text": [
      "y_test shape: (64, 1)\n"
     ]
    },
    {
     "name": "stderr",
     "output_type": "stream",
     "text": [
      "/Users/dev/Projects/korean-ml/venv/lib/python3.9/site-packages/keras/engine/sequential.py:450: UserWarning: `model.predict_classes()` is deprecated and will be removed after 2021-01-01. Please use instead:* `np.argmax(model.predict(x), axis=-1)`,   if your model does multi-class classification   (e.g. if it uses a `softmax` last-layer activation).* `(model.predict(x) > 0.5).astype(\"int32\")`,   if your model does binary classification   (e.g. if it uses a `sigmoid` last-layer activation).\n",
      "  warnings.warn('`model.predict_classes()` is deprecated and '\n"
     ]
    },
    {
     "data": {
      "text/plain": "count       64\nunique       2\ntop       True\nfreq        46\nName: correct, dtype: object"
     },
     "execution_count": 78,
     "metadata": {},
     "output_type": "execute_result"
    }
   ],
   "source": [
    "\n",
    "y_pred = model.predict_classes(X_test)\n",
    "\n",
    "print(f'y_test shape: {y_pred.shape}')\n",
    "\n",
    "tmp_df = audio_syl_df[['valid_event']][401:]\n",
    "tmp_df['pred'] = y_pred.astype(bool)\n",
    "# tmp_df[tmp_df['valid_event'] != tmp_df['pred']]\n",
    "tmp_df['correct'] = tmp_df['valid_event'] == tmp_df['pred']\n",
    "tmp_df['correct'].describe()"
   ],
   "metadata": {
    "collapsed": false,
    "pycharm": {
     "name": "#%%\n"
    }
   }
  },
  {
   "cell_type": "code",
   "execution_count": 69,
   "outputs": [],
   "source": [
    "data_dir = 'data/korean-single-speaker/kss'\n"
   ],
   "metadata": {
    "collapsed": false,
    "pycharm": {
     "name": "#%%\n"
    }
   }
  },
  {
   "cell_type": "code",
   "execution_count": 63,
   "outputs": [
    {
     "name": "stdout",
     "output_type": "stream",
     "text": [
      "Data file to analyze: data/korean-single-speaker/kss/1/1_0000.wav\n",
      "current sample rate: None\n",
      "latest sample rate: 22050\n",
      "new_audio_ shape: (77760,)\n",
      "new audio file min~max range: -0.98 to -0.98\n",
      "full audio file min~max range: -0.98 to -0.98\n",
      "Data file to analyze: data/korean-single-speaker/kss/1/1_0001.wav\n",
      "current sample rate: 22050\n",
      "latest sample rate: 22050\n",
      "new_audio_ shape: (87587,)\n",
      "new audio file min~max range: -0.65 to -0.65\n",
      "full audio file min~max range: -0.98 to -0.98\n",
      "Data file to analyze: data/korean-single-speaker/kss/1/1_0002.wav\n",
      "current sample rate: 22050\n",
      "latest sample rate: 22050\n",
      "new_audio_ shape: (38787,)\n",
      "new audio file min~max range: -0.61 to -0.61\n",
      "full audio file min~max range: -0.98 to -0.98\n",
      "Data file to analyze: data/korean-single-speaker/kss/1/1_0003.wav\n",
      "current sample rate: 22050\n",
      "latest sample rate: 22050\n",
      "new_audio_ shape: (50881,)\n",
      "new audio file min~max range: -0.46 to -0.46\n",
      "full audio file min~max range: -0.98 to -0.98\n"
     ]
    },
    {
     "ename": "AttributeError",
     "evalue": "'AudioPrep' object has no attribute 'size'",
     "output_type": "error",
     "traceback": [
      "\u001B[0;31m---------------------------------------------------------------------------\u001B[0m",
      "\u001B[0;31mAttributeError\u001B[0m                            Traceback (most recent call last)",
      "\u001B[0;32m<ipython-input-63-77f9217665aa>\u001B[0m in \u001B[0;36m<module>\u001B[0;34m\u001B[0m\n\u001B[1;32m     26\u001B[0m \u001B[0;34m\u001B[0m\u001B[0m\n\u001B[1;32m     27\u001B[0m \u001B[0map\u001B[0m \u001B[0;34m=\u001B[0m \u001B[0mAudioPrep\u001B[0m\u001B[0;34m(\u001B[0m\u001B[0msr_\u001B[0m\u001B[0;34m,\u001B[0m \u001B[0;36m0.75\u001B[0m\u001B[0;34m)\u001B[0m\u001B[0;34m\u001B[0m\u001B[0;34m\u001B[0m\u001B[0m\n\u001B[0;32m---> 28\u001B[0;31m \u001B[0mprint\u001B[0m\u001B[0;34m(\u001B[0m\u001B[0map\u001B[0m\u001B[0;34m.\u001B[0m\u001B[0msize\u001B[0m\u001B[0;34m)\u001B[0m\u001B[0;34m\u001B[0m\u001B[0;34m\u001B[0m\u001B[0m\n\u001B[0m\u001B[1;32m     29\u001B[0m \u001B[0m_b\u001B[0m \u001B[0;34m=\u001B[0m \u001B[0map\u001B[0m\u001B[0;34m.\u001B[0m\u001B[0mresize\u001B[0m\u001B[0;34m(\u001B[0m\u001B[0maudio_\u001B[0m\u001B[0;34m)\u001B[0m\u001B[0;34m\u001B[0m\u001B[0;34m\u001B[0m\u001B[0m\n\u001B[1;32m     30\u001B[0m \u001B[0;34m\u001B[0m\u001B[0m\n",
      "\u001B[0;31mAttributeError\u001B[0m: 'AudioPrep' object has no attribute 'size'"
     ]
    }
   ],
   "source": [
    "\n",
    "\n",
    "\n",
    "data_files = chunk_char_df['audio'].unique()\n",
    "sr_ = None\n",
    "audio_ = None\n",
    "for wv in data_files:\n",
    "    fn = f'{wv}'\n",
    "    print(f'Data file to analyze: {fn}')\n",
    "    print(f'current sample rate: {sr_}')\n",
    "    new_audio_, new_sr_ = librosa.load(fn)\n",
    "    print(f\"latest sample rate: {new_sr_}\")\n",
    "    print(f'new_audio_ shape: {new_audio_.shape}')\n",
    "    if sr_ is None:\n",
    "        sr_ = new_sr_\n",
    "    else:\n",
    "        assert(new_sr_ == sr_)\n",
    "\n",
    "    if audio_ is None:\n",
    "        audio_ = new_audio_\n",
    "    else:\n",
    "        audio_ = np.concatenate((audio_, new_audio_))\n",
    "    print('new audio file min~max range: {0:.2f} to {0:.2f}'.format(np.min(new_audio_), np.max(new_audio_)))\n",
    "    print('full audio file min~max range: {0:.2f} to {0:.2f}'.format(np.min(audio_), np.max(audio_)))\n",
    "\n",
    "\n",
    "\n",
    "\n",
    "\n",
    "ap = AudioPrep(sr_, 0.75)\n",
    "print(ap.size)\n",
    "_b = ap.resize(audio_)\n",
    "\n",
    "print(_b.shape)\n",
    "\n",
    "fig, (ax1) = plt.subplots(nrows=1, ncols=1, figsize=(12,4), tight_layout=True)\n",
    "fig.suptitle('Waveforms', fontsize=16)\n",
    "ax1.set_title(f'librosa ({sr_})')\n",
    "ax1.plot(audio_)"
   ],
   "metadata": {
    "collapsed": false,
    "pycharm": {
     "name": "#%%\n"
    }
   }
  },
  {
   "cell_type": "markdown",
   "source": [
    "## Event Marker (Boundaries) Dataset\n",
    "# audio | event_idx\n",
    "\n"
   ],
   "metadata": {
    "collapsed": false,
    "pycharm": {
     "name": "#%% md\n"
    }
   }
  },
  {
   "cell_type": "code",
   "execution_count": 27,
   "outputs": [
    {
     "name": "stdout",
     "output_type": "stream",
     "text": [
      "    syl    start     stop                                        audio\n",
      "0     0  0.00000  0.08071  data/korean-single-speaker/kss/1/1_0003.wav\n",
      "1    그  0.08071  0.15231  data/korean-single-speaker/kss/1/1_0003.wav\n",
      "2   는  0.15231  0.48924  data/korean-single-speaker/kss/1/1_0003.wav\n",
      "3     0  0.48924  0.75129  data/korean-single-speaker/kss/1/1_0003.wav\n",
      "4    아  0.75129  0.88808  data/korean-single-speaker/kss/1/1_0003.wav\n",
      "5    내  0.88808  1.02123  data/korean-single-speaker/kss/1/1_0003.wav\n",
      "6   를  1.02123  1.23614  data/korean-single-speaker/kss/1/1_0003.wav\n",
      "7   많  1.23614  1.45550  data/korean-single-speaker/kss/1/1_0003.wav\n",
      "8    이  1.45550  1.53270  data/korean-single-speaker/kss/1/1_0003.wav\n",
      "9    아  1.53270  1.75352  data/korean-single-speaker/kss/1/1_0003.wav\n",
      "10  낀  1.75352  1.97293  data/korean-single-speaker/kss/1/1_0003.wav\n",
      "11   다  1.97293  2.19790  data/korean-single-speaker/kss/1/1_0003.wav\n",
      "12    0  2.19790  2.30753  data/korean-single-speaker/kss/1/1_0003.wav\n"
     ]
    }
   ],
   "source": [
    "# boundary_audio\n",
    "# boundary_idx | audio_data\n",
    "\n",
    "# boundary_mfcc\n",
    "# boundry_idx | mfcc_data\n"
   ],
   "metadata": {
    "collapsed": false,
    "pycharm": {
     "name": "#%%\n"
    }
   }
  }
 ],
 "metadata": {
  "kernelspec": {
   "name": "python3",
   "display_name": "Python 3",
   "language": "python"
  },
  "language_info": {
   "name": "python",
   "version": "3.7.9",
   "mimetype": "text/x-python",
   "codemirror_mode": {
    "name": "ipython",
    "version": 3
   },
   "pygments_lexer": "ipython3",
   "nbconvert_exporter": "python",
   "file_extension": ".py"
  }
 },
 "nbformat": 4,
 "nbformat_minor": 4
}